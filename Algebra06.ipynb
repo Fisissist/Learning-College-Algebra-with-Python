{
  "nbformat": 4,
  "nbformat_minor": 0,
  "metadata": {
    "colab": {
      "provenance": [],
      "authorship_tag": "ABX9TyO/ulaaNwTtBko83Hl+xmCp",
      "include_colab_link": true
    },
    "kernelspec": {
      "name": "python3",
      "display_name": "Python 3"
    },
    "language_info": {
      "name": "python"
    },
    "widgets": {
      "application/vnd.jupyter.widget-state+json": {
        "1dbb481d399d4056a1f4881f496adee1": {
          "model_module": "@jupyter-widgets/controls",
          "model_name": "VBoxModel",
          "model_module_version": "1.5.0",
          "state": {
            "_dom_classes": [
              "widget-interact"
            ],
            "_model_module": "@jupyter-widgets/controls",
            "_model_module_version": "1.5.0",
            "_model_name": "VBoxModel",
            "_view_count": null,
            "_view_module": "@jupyter-widgets/controls",
            "_view_module_version": "1.5.0",
            "_view_name": "VBoxView",
            "box_style": "",
            "children": [
              "IPY_MODEL_7302ebc619db46af84a70f750117fe83",
              "IPY_MODEL_2375c7ba99454c0fafad13137d8c8ecb"
            ],
            "layout": "IPY_MODEL_b0865f6cead840c680a0d8d73770d457"
          }
        },
        "7302ebc619db46af84a70f750117fe83": {
          "model_module": "@jupyter-widgets/controls",
          "model_name": "IntSliderModel",
          "model_module_version": "1.5.0",
          "state": {
            "_dom_classes": [],
            "_model_module": "@jupyter-widgets/controls",
            "_model_module_version": "1.5.0",
            "_model_name": "IntSliderModel",
            "_view_count": null,
            "_view_module": "@jupyter-widgets/controls",
            "_view_module_version": "1.5.0",
            "_view_name": "IntSliderView",
            "continuous_update": true,
            "description": "zoom",
            "description_tooltip": null,
            "disabled": false,
            "layout": "IPY_MODEL_141ae91fec14412e92136dcc81c53536",
            "max": 100,
            "min": 1,
            "orientation": "horizontal",
            "readout": true,
            "readout_format": "d",
            "step": 1,
            "style": "IPY_MODEL_807bcf9e04834e05aa2406bf0c76ab06",
            "value": 65
          }
        },
        "2375c7ba99454c0fafad13137d8c8ecb": {
          "model_module": "@jupyter-widgets/output",
          "model_name": "OutputModel",
          "model_module_version": "1.0.0",
          "state": {
            "_dom_classes": [],
            "_model_module": "@jupyter-widgets/output",
            "_model_module_version": "1.0.0",
            "_model_name": "OutputModel",
            "_view_count": null,
            "_view_module": "@jupyter-widgets/output",
            "_view_module_version": "1.0.0",
            "_view_name": "OutputView",
            "layout": "IPY_MODEL_08fc8cac96944ea8b9aec0871dc9940e",
            "msg_id": "",
            "outputs": [
              {
                "output_type": "display_data",
                "data": {
                  "text/plain": "<Figure size 640x480 with 1 Axes>",
                  "image/png": "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\n"
                },
                "metadata": {}
              }
            ]
          }
        },
        "b0865f6cead840c680a0d8d73770d457": {
          "model_module": "@jupyter-widgets/base",
          "model_name": "LayoutModel",
          "model_module_version": "1.2.0",
          "state": {
            "_model_module": "@jupyter-widgets/base",
            "_model_module_version": "1.2.0",
            "_model_name": "LayoutModel",
            "_view_count": null,
            "_view_module": "@jupyter-widgets/base",
            "_view_module_version": "1.2.0",
            "_view_name": "LayoutView",
            "align_content": null,
            "align_items": null,
            "align_self": null,
            "border": null,
            "bottom": null,
            "display": null,
            "flex": null,
            "flex_flow": null,
            "grid_area": null,
            "grid_auto_columns": null,
            "grid_auto_flow": null,
            "grid_auto_rows": null,
            "grid_column": null,
            "grid_gap": null,
            "grid_row": null,
            "grid_template_areas": null,
            "grid_template_columns": null,
            "grid_template_rows": null,
            "height": null,
            "justify_content": null,
            "justify_items": null,
            "left": null,
            "margin": null,
            "max_height": null,
            "max_width": null,
            "min_height": null,
            "min_width": null,
            "object_fit": null,
            "object_position": null,
            "order": null,
            "overflow": null,
            "overflow_x": null,
            "overflow_y": null,
            "padding": null,
            "right": null,
            "top": null,
            "visibility": null,
            "width": null
          }
        },
        "141ae91fec14412e92136dcc81c53536": {
          "model_module": "@jupyter-widgets/base",
          "model_name": "LayoutModel",
          "model_module_version": "1.2.0",
          "state": {
            "_model_module": "@jupyter-widgets/base",
            "_model_module_version": "1.2.0",
            "_model_name": "LayoutModel",
            "_view_count": null,
            "_view_module": "@jupyter-widgets/base",
            "_view_module_version": "1.2.0",
            "_view_name": "LayoutView",
            "align_content": null,
            "align_items": null,
            "align_self": null,
            "border": null,
            "bottom": null,
            "display": null,
            "flex": null,
            "flex_flow": null,
            "grid_area": null,
            "grid_auto_columns": null,
            "grid_auto_flow": null,
            "grid_auto_rows": null,
            "grid_column": null,
            "grid_gap": null,
            "grid_row": null,
            "grid_template_areas": null,
            "grid_template_columns": null,
            "grid_template_rows": null,
            "height": null,
            "justify_content": null,
            "justify_items": null,
            "left": null,
            "margin": null,
            "max_height": null,
            "max_width": null,
            "min_height": null,
            "min_width": null,
            "object_fit": null,
            "object_position": null,
            "order": null,
            "overflow": null,
            "overflow_x": null,
            "overflow_y": null,
            "padding": null,
            "right": null,
            "top": null,
            "visibility": null,
            "width": null
          }
        },
        "807bcf9e04834e05aa2406bf0c76ab06": {
          "model_module": "@jupyter-widgets/controls",
          "model_name": "SliderStyleModel",
          "model_module_version": "1.5.0",
          "state": {
            "_model_module": "@jupyter-widgets/controls",
            "_model_module_version": "1.5.0",
            "_model_name": "SliderStyleModel",
            "_view_count": null,
            "_view_module": "@jupyter-widgets/base",
            "_view_module_version": "1.2.0",
            "_view_name": "StyleView",
            "description_width": "",
            "handle_color": null
          }
        },
        "08fc8cac96944ea8b9aec0871dc9940e": {
          "model_module": "@jupyter-widgets/base",
          "model_name": "LayoutModel",
          "model_module_version": "1.2.0",
          "state": {
            "_model_module": "@jupyter-widgets/base",
            "_model_module_version": "1.2.0",
            "_model_name": "LayoutModel",
            "_view_count": null,
            "_view_module": "@jupyter-widgets/base",
            "_view_module_version": "1.2.0",
            "_view_name": "LayoutView",
            "align_content": null,
            "align_items": null,
            "align_self": null,
            "border": null,
            "bottom": null,
            "display": null,
            "flex": null,
            "flex_flow": null,
            "grid_area": null,
            "grid_auto_columns": null,
            "grid_auto_flow": null,
            "grid_auto_rows": null,
            "grid_column": null,
            "grid_gap": null,
            "grid_row": null,
            "grid_template_areas": null,
            "grid_template_columns": null,
            "grid_template_rows": null,
            "height": null,
            "justify_content": null,
            "justify_items": null,
            "left": null,
            "margin": null,
            "max_height": null,
            "max_width": null,
            "min_height": null,
            "min_width": null,
            "object_fit": null,
            "object_position": null,
            "order": null,
            "overflow": null,
            "overflow_x": null,
            "overflow_y": null,
            "padding": null,
            "right": null,
            "top": null,
            "visibility": null,
            "width": null
          }
        }
      }
    }
  },
  "cells": [
    {
      "cell_type": "markdown",
      "metadata": {
        "id": "view-in-github",
        "colab_type": "text"
      },
      "source": [
        "<a href=\"https://colab.research.google.com/github/Fisissist/Learning-College-Algebra-with-Python/blob/main/Algebra06.ipynb\" target=\"_parent\"><img src=\"https://colab.research.google.com/assets/colab-badge.svg\" alt=\"Open In Colab\"/></a>"
      ]
    },
    {
      "cell_type": "markdown",
      "source": [
        "# Solve for x\n",
        "\n",
        "solving for x and factoring"
      ],
      "metadata": {
        "id": "-RfWjr2Ve-e6"
      }
    },
    {
      "cell_type": "code",
      "execution_count": 2,
      "metadata": {
        "colab": {
          "base_uri": "https://localhost:8080/",
          "height": 94
        },
        "id": "GF05iCHKe4SL",
        "outputId": "aa118b76-0d1d-48e0-f20c-0b9ab40bd7e2"
      },
      "outputs": [
        {
          "output_type": "stream",
          "name": "stdout",
          "text": [
            "Enter equation: 0 = 2*x**2+4*x-4\n",
            "x =  -1 + sqrt(3)\n",
            "x =  -sqrt(3) - 1\n"
          ]
        },
        {
          "output_type": "execute_result",
          "data": {
            "text/plain": [
              "2*(x**2 + 2*x - 2)"
            ],
            "text/latex": "$\\displaystyle 2 \\left(x^{2} + 2 x - 2\\right)$"
          },
          "metadata": {},
          "execution_count": 2
        }
      ],
      "source": [
        "import sympy\n",
        "from sympy import symbols\n",
        "from sympy.solvers import solve\n",
        "\n",
        "x = symbols('x')\n",
        "\n",
        "eq = input('Enter equation: 0 = ')\n",
        "\n",
        "solution = solve(eq,x)\n",
        "for s in solution:\n",
        "    print(\"x = \", s)\n",
        "\n",
        "sympy.factor(eq)"
      ]
    },
    {
      "cell_type": "markdown",
      "source": [
        "#Factoring an expression"
      ],
      "metadata": {
        "id": "N3pVWxq7fff-"
      }
    },
    {
      "cell_type": "code",
      "source": [
        "import sympy\n",
        "from sympy import *\n",
        "import math\n",
        "\n",
        "var('x y')\n",
        "\n",
        "# Equation to factor\n",
        "eq = x**3 - 2*x**2 - 5*x + 6\n",
        "\n",
        "\n",
        "sympy.factor(eq)"
      ],
      "metadata": {
        "colab": {
          "base_uri": "https://localhost:8080/",
          "height": 38
        },
        "id": "qKozMif7ffy_",
        "outputId": "3b2bd546-f682-4f2e-bc40-7d0852dd1477"
      },
      "execution_count": 3,
      "outputs": [
        {
          "output_type": "execute_result",
          "data": {
            "text/plain": [
              "(x - 3)*(x - 1)*(x + 2)"
            ],
            "text/latex": "$\\displaystyle \\left(x - 3\\right) \\left(x - 1\\right) \\left(x + 2\\right)$"
          },
          "metadata": {},
          "execution_count": 3
        }
      ]
    },
    {
      "cell_type": "markdown",
      "source": [
        "# Solve for a variable"
      ],
      "metadata": {
        "id": "7KOPTkjxfm9Y"
      }
    },
    {
      "cell_type": "code",
      "source": [
        "from sympy import *\n",
        "import math\n",
        "\n",
        "# Identify all variables\n",
        "var('a b c d x')\n",
        "\n",
        "# Left and right sides of the equal sign\n",
        "left = 0\n",
        "right = a*x**2 + b*x + c\n",
        "\n",
        "# Variable to solve for\n",
        "variable = x\n",
        "\n",
        "# Sympy equation left = right\n",
        "eq1 = Eq(left,right)\n",
        "\n",
        "# Sympy solve for that variable\n",
        "sol = solve(eq1,variable)\n",
        "\n",
        "# Show factored results\n",
        "for s in sol:\n",
        "    print(variable, \" = \", s)"
      ],
      "metadata": {
        "colab": {
          "base_uri": "https://localhost:8080/"
        },
        "id": "38b8yP2Dfmrd",
        "outputId": "81145ce8-cf86-49a9-aa5d-f9e9d4a4bca4"
      },
      "execution_count": 4,
      "outputs": [
        {
          "output_type": "stream",
          "name": "stdout",
          "text": [
            "x  =  (-b - sqrt(-4*a*c + b**2))/(2*a)\n",
            "x  =  (-b + sqrt(-4*a*c + b**2))/(2*a)\n"
          ]
        }
      ]
    },
    {
      "cell_type": "markdown",
      "source": [
        "# Slope-intercept equation from two points"
      ],
      "metadata": {
        "id": "AKQfgfHRf3qA"
      }
    },
    {
      "cell_type": "code",
      "source": [
        "import matplotlib.pyplot as plt\n",
        "import numpy as np\n",
        "\n",
        "x1 = 0\n",
        "y1 = 32\n",
        "x2 = 100\n",
        "y2 = 212\n",
        "\n",
        "# Develop the equation y = mx + b\n",
        "m = (y2 - y1) / (x2 - x1)\n",
        "b = y1 - m*x1\n",
        "print(\"y = \", m, \"x + \", b)\n",
        "\n",
        "# For the graph\n",
        "xmin = 0\n",
        "xmax = 10\n",
        "ymin = 0\n",
        "ymax = 500\n",
        "\n",
        "# For the line on the graph\n",
        "y3 = m*xmin + b\n",
        "y4 = m*xmax + b\n",
        "\n",
        "# Basic setup for the graph\n",
        "fig, ax = plt.subplots()\n",
        "plt.axis([xmin,xmax,ymin,ymax]) # window size\n",
        "plt.plot([xmin,xmax],[0,0],'b') # blue x axis\n",
        "plt.plot([0,0],[ymin,ymax], 'b') # blue y axis\n",
        "\n",
        "# Add details to the graph\n",
        "ax.set_xlabel(\"x values\")\n",
        "ax.set_ylabel(\"y values\")\n",
        "ax.grid(True)\n",
        "#ax.set_xticks(np.arange(xmin, xmax, 2))\n",
        "#ax.set_yticks(np.arange(ymin, ymax, 1))\n",
        "\n",
        "\n",
        "# Plot the linear function as a red line\n",
        "plt.plot([xmin,xmax],[y3,y4],'r')\n",
        "\n",
        "plt.show()\n"
      ],
      "metadata": {
        "colab": {
          "base_uri": "https://localhost:8080/",
          "height": 473
        },
        "id": "1Br_6ZlDf3Vn",
        "outputId": "a06c0a80-ea7b-4f81-96cd-a77c55cfbe4d"
      },
      "execution_count": 5,
      "outputs": [
        {
          "output_type": "stream",
          "name": "stdout",
          "text": [
            "y =  1.8 x +  32.0\n"
          ]
        },
        {
          "output_type": "display_data",
          "data": {
            "text/plain": [
              "<Figure size 640x480 with 1 Axes>"
            ],
            "image/png": "[encoded data removed]"
          },
          "metadata": {}
        }
      ]
    },
    {
      "cell_type": "markdown",
      "source": [
        "# Graph lines and zoom in or out"
      ],
      "metadata": {
        "id": "DNSNsBZ-ggFF"
      }
    },
    {
      "cell_type": "code",
      "source": [
        "%matplotlib inline\n",
        "from ipywidgets import interactive\n",
        "import matplotlib.pyplot as plt\n",
        "import numpy as np\n",
        "\n",
        "# Define the graphing function\n",
        "def f(zoom):\n",
        "    xmin = -zoom\n",
        "    xmax = zoom\n",
        "    ymin = -zoom\n",
        "    ymax = zoom\n",
        "    points = 10*xmax-xmin\n",
        "    x = np.linspace(xmin, xmax, points)\n",
        "\n",
        "    fig, ax = plt.subplots()\n",
        "    plt.axis([xmin,xmax,ymin,ymax]) # window size\n",
        "    plt.plot([xmin,xmax],[0,0],'black') # black x axis\n",
        "    plt.plot([0,0],[ymin,ymax], 'black') # black y axis\n",
        "\n",
        "    # Change y1 to be any function\n",
        "    y1 = 3*x\n",
        "    plt.plot(x, y1)\n",
        "    # Plot another line here if you want\n",
        "    # y2 =\n",
        "    # plt.plot(x, y2)\n",
        "\n",
        "    ax.set_xlabel(\"x values\")\n",
        "    ax.set_ylabel(\"y values\")\n",
        "    ax.set_title(\"Some Graph\")\n",
        "    ticks = int(round((xmax-xmin)/10))\n",
        "    ax.set_xticks(np.arange(xmin, xmax, ticks))\n",
        "    ax.set_yticks(np.arange(ymin, ymax, ticks))\n",
        "    ax.grid(True)\n",
        "    plt.show()\n",
        "\n",
        "# Set up the slider\n",
        "interactive_plot = interactive(f, zoom=(1,100))\n",
        "interactive_plot\n"
      ],
      "metadata": {
        "colab": {
          "base_uri": "https://localhost:8080/",
          "height": 504,
          "referenced_widgets": [
            "1dbb481d399d4056a1f4881f496adee1",
            "7302ebc619db46af84a70f750117fe83",
            "2375c7ba99454c0fafad13137d8c8ecb",
            "b0865f6cead840c680a0d8d73770d457",
            "141ae91fec14412e92136dcc81c53536",
            "807bcf9e04834e05aa2406bf0c76ab06",
            "08fc8cac96944ea8b9aec0871dc9940e"
          ]
        },
        "id": "bxZyvrhHgdya",
        "outputId": "bb2c0d34-7705-48f5-9872-26fe912b792f"
      },
      "execution_count": 6,
      "outputs": [
        {
          "output_type": "display_data",
          "data": {
            "text/plain": [
              "interactive(children=(IntSlider(value=50, description='zoom', min=1), Output()), _dom_classes=('widget-interac…"
            ],
            "application/vnd.jupyter.widget-view+json": {
              "version_major": 2,
              "version_minor": 0,
              "model_id": "1dbb481d399d4056a1f4881f496adee1"
            }
          },
          "metadata": {}
        }
      ]
    },
    {
      "cell_type": "markdown",
      "source": [
        "# Solve and graph a system equations"
      ],
      "metadata": {
        "id": "jPx6KRdihs8O"
      }
    },
    {
      "cell_type": "code",
      "source": [
        "from sympy import *\n",
        "from sympy.plotting import plot\n",
        "from sympy import sqrt\n",
        "\n",
        "x, y = symbols('x y')\n",
        "\n",
        "# First equation set equal to zero, ready to solve\n",
        "first = 2*x**2+4*x-4-y\n",
        "\n",
        "\n",
        "# Second equation set equal to zero, ready to solve\n",
        "second = 4*x+1-y\n",
        "\n",
        "\n",
        "# Solve - can be linear or nonlinear equations\n",
        "solution = nonlinsolve([first, second], (x, y))\n",
        "for a in range(len(solution.args)):\n",
        "    x_solution = solution.args[a][0]\n",
        "    y_solution = solution.args[a][1]\n",
        "    print(\"Solution = (\", x_solution, \",\", y_solution, \")\")\n",
        "\n",
        "# Sympy syntax for equation equal to zero, ready to factor\n",
        "y_first = Eq(first,0)\n",
        "\n",
        "# Sympy solve for y\n",
        "y1 = solve(y_first,y)\n",
        "\n",
        "# Same two steps for second equation\n",
        "y_second = Eq(second,0)\n",
        "y2 = solve(y_second,y)\n",
        "\n",
        "# Show factored results\n",
        "print(\"y = \", y1[0])\n",
        "print(\"y = \", y2[0])\n",
        "\n",
        "# Plot solution\n",
        "x = symbols('x')\n",
        "xmin = -10\n",
        "xmax = 10\n",
        "plot(y1[0], y2[0], (x,xmin,xmax))\n",
        "\n"
      ],
      "metadata": {
        "colab": {
          "base_uri": "https://localhost:8080/",
          "height": 578
        },
        "id": "l8GG7vcIh51W",
        "outputId": "df774471-2748-471a-f938-546b0110f3fb"
      },
      "execution_count": 11,
      "outputs": [
        {
          "output_type": "stream",
          "name": "stdout",
          "text": [
            "Solution = ( -sqrt(10)/2 , 1 - 2*sqrt(10) )\n",
            "Solution = ( sqrt(10)/2 , 1 + 2*sqrt(10) )\n",
            "y =  2*x**2 + 4*x - 4\n",
            "y =  4*x + 1\n"
          ]
        },
        {
          "output_type": "display_data",
          "data": {
            "text/plain": [
              "<Figure size 640x480 with 1 Axes>"
            ],
            "image/png": "[encoded data removed]"
          },
          "metadata": {}
        },
        {
          "output_type": "execute_result",
          "data": {
            "text/plain": [
              "<sympy.plotting.backends.matplotlibbackend.matplotlib.MatplotlibBackend at 0x7ca43443d6c0>"
            ]
          },
          "metadata": {},
          "execution_count": 11
        }
      ]
    },
    {
      "cell_type": "markdown",
      "source": [
        "# Save graph and download image"
      ],
      "metadata": {
        "id": "WBWDDS3Gh5cY"
      }
    },
    {
      "cell_type": "code",
      "source": [
        "# use this when graphing\n",
        "\n",
        "from google.colab import files\n",
        "\n",
        "# to save and output graph\n",
        "plt.savefig(\"abc.png\")\n",
        "plt.show()\n",
        "files.download(\"abc.png\")\n",
        "\n",
        "# saved from the tutorial to use later when a graph needs to be saved"
      ],
      "metadata": {
        "id": "yjeduqGjjTWJ"
      },
      "execution_count": null,
      "outputs": []
    },
    {
      "cell_type": "markdown",
      "source": [],
      "metadata": {
        "id": "dZjbdXESjS4C"
      }
    }
  ]
}