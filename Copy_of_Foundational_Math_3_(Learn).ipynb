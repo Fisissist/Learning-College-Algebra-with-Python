{
  "nbformat": 4,
  "nbformat_minor": 0,
  "metadata": {
    "colab": {
      "provenance": [],
      "collapsed_sections": [
        "szp5flp1fA8-",
        "KDloBuvnHQTS",
        "MlRfYVIylkQf"
      ],
      "include_colab_link": true
    },
    "kernelspec": {
      "name": "python3",
      "display_name": "Python 3"
    },
    "language_info": {
      "name": "python"
    },
    "widgets": {
      "application/vnd.jupyter.widget-state+json": {
        "1b6f6c59792f41f390402b3a9bea3702": {
          "model_module": "@jupyter-widgets/controls",
          "model_name": "VBoxModel",
          "model_module_version": "1.5.0",
          "state": {
            "_dom_classes": [
              "widget-interact"
            ],
            "_model_module": "@jupyter-widgets/controls",
            "_model_module_version": "1.5.0",
            "_model_name": "VBoxModel",
            "_view_count": null,
            "_view_module": "@jupyter-widgets/controls",
            "_view_module_version": "1.5.0",
            "_view_name": "VBoxView",
            "box_style": "",
            "children": [
              "IPY_MODEL_df654755e0e846e8bae531514e8f93cb",
              "IPY_MODEL_8a7b1a7b0f7c4bef8b83421fdacac36d",
              "IPY_MODEL_23a52d5260a2429bb8a2f513b075907b",
              "IPY_MODEL_a6d06986449943f499eb37ae8d1c5cab"
            ],
            "layout": "IPY_MODEL_976d6051bda84afa893c05dc6f664f7d"
          }
        },
        "df654755e0e846e8bae531514e8f93cb": {
          "model_module": "@jupyter-widgets/controls",
          "model_name": "IntSliderModel",
          "model_module_version": "1.5.0",
          "state": {
            "_dom_classes": [],
            "_model_module": "@jupyter-widgets/controls",
            "_model_module_version": "1.5.0",
            "_model_name": "IntSliderModel",
            "_view_count": null,
            "_view_module": "@jupyter-widgets/controls",
            "_view_module_version": "1.5.0",
            "_view_name": "IntSliderView",
            "continuous_update": true,
            "description": "a",
            "description_tooltip": null,
            "disabled": false,
            "layout": "IPY_MODEL_483829bc7ecf4fbba6d0171e42b90efb",
            "max": 9,
            "min": -9,
            "orientation": "horizontal",
            "readout": true,
            "readout_format": "d",
            "step": 1,
            "style": "IPY_MODEL_7bbcf56f072b4daa9967fdc25a9af470",
            "value": -2
          }
        },
        "8a7b1a7b0f7c4bef8b83421fdacac36d": {
          "model_module": "@jupyter-widgets/controls",
          "model_name": "IntSliderModel",
          "model_module_version": "1.5.0",
          "state": {
            "_dom_classes": [],
            "_model_module": "@jupyter-widgets/controls",
            "_model_module_version": "1.5.0",
            "_model_name": "IntSliderModel",
            "_view_count": null,
            "_view_module": "@jupyter-widgets/controls",
            "_view_module_version": "1.5.0",
            "_view_name": "IntSliderView",
            "continuous_update": true,
            "description": "b",
            "description_tooltip": null,
            "disabled": false,
            "layout": "IPY_MODEL_221c45652abd46ad8faf237886c3f5d0",
            "max": 9,
            "min": -9,
            "orientation": "horizontal",
            "readout": true,
            "readout_format": "d",
            "step": 1,
            "style": "IPY_MODEL_b55fd417ab5b408b8ce3e98b81da1f3c",
            "value": -1
          }
        },
        "23a52d5260a2429bb8a2f513b075907b": {
          "model_module": "@jupyter-widgets/controls",
          "model_name": "IntSliderModel",
          "model_module_version": "1.5.0",
          "state": {
            "_dom_classes": [],
            "_model_module": "@jupyter-widgets/controls",
            "_model_module_version": "1.5.0",
            "_model_name": "IntSliderModel",
            "_view_count": null,
            "_view_module": "@jupyter-widgets/controls",
            "_view_module_version": "1.5.0",
            "_view_name": "IntSliderView",
            "continuous_update": true,
            "description": "c",
            "description_tooltip": null,
            "disabled": false,
            "layout": "IPY_MODEL_ccaf27a73fe64863941cf38e31346946",
            "max": 9,
            "min": -9,
            "orientation": "horizontal",
            "readout": true,
            "readout_format": "d",
            "step": 1,
            "style": "IPY_MODEL_8a3cb455ee784bb2988e97b89edf6eef",
            "value": 4
          }
        },
        "a6d06986449943f499eb37ae8d1c5cab": {
          "model_module": "@jupyter-widgets/output",
          "model_name": "OutputModel",
          "model_module_version": "1.0.0",
          "state": {
            "_dom_classes": [],
            "_model_module": "@jupyter-widgets/output",
            "_model_module_version": "1.0.0",
            "_model_name": "OutputModel",
            "_view_count": null,
            "_view_module": "@jupyter-widgets/output",
            "_view_module_version": "1.0.0",
            "_view_name": "OutputView",
            "layout": "IPY_MODEL_1913d49c7fd74b1e9cf88786fe49ca54",
            "msg_id": "",
            "outputs": [
              {
                "output_type": "display_data",
                "data": {
                  "text/plain": "<Figure size 640x480 with 1 Axes>",
                  "image/png": "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\n"
                },
                "metadata": {}
              }
            ]
          }
        },
        "976d6051bda84afa893c05dc6f664f7d": {
          "model_module": "@jupyter-widgets/base",
          "model_name": "LayoutModel",
          "model_module_version": "1.2.0",
          "state": {
            "_model_module": "@jupyter-widgets/base",
            "_model_module_version": "1.2.0",
            "_model_name": "LayoutModel",
            "_view_count": null,
            "_view_module": "@jupyter-widgets/base",
            "_view_module_version": "1.2.0",
            "_view_name": "LayoutView",
            "align_content": null,
            "align_items": null,
            "align_self": null,
            "border": null,
            "bottom": null,
            "display": null,
            "flex": null,
            "flex_flow": null,
            "grid_area": null,
            "grid_auto_columns": null,
            "grid_auto_flow": null,
            "grid_auto_rows": null,
            "grid_column": null,
            "grid_gap": null,
            "grid_row": null,
            "grid_template_areas": null,
            "grid_template_columns": null,
            "grid_template_rows": null,
            "height": null,
            "justify_content": null,
            "justify_items": null,
            "left": null,
            "margin": null,
            "max_height": null,
            "max_width": null,
            "min_height": null,
            "min_width": null,
            "object_fit": null,
            "object_position": null,
            "order": null,
            "overflow": null,
            "overflow_x": null,
            "overflow_y": null,
            "padding": null,
            "right": null,
            "top": null,
            "visibility": null,
            "width": null
          }
        },
        "483829bc7ecf4fbba6d0171e42b90efb": {
          "model_module": "@jupyter-widgets/base",
          "model_name": "LayoutModel",
          "model_module_version": "1.2.0",
          "state": {
            "_model_module": "@jupyter-widgets/base",
            "_model_module_version": "1.2.0",
            "_model_name": "LayoutModel",
            "_view_count": null,
            "_view_module": "@jupyter-widgets/base",
            "_view_module_version": "1.2.0",
            "_view_name": "LayoutView",
            "align_content": null,
            "align_items": null,
            "align_self": null,
            "border": null,
            "bottom": null,
            "display": null,
            "flex": null,
            "flex_flow": null,
            "grid_area": null,
            "grid_auto_columns": null,
            "grid_auto_flow": null,
            "grid_auto_rows": null,
            "grid_column": null,
            "grid_gap": null,
            "grid_row": null,
            "grid_template_areas": null,
            "grid_template_columns": null,
            "grid_template_rows": null,
            "height": null,
            "justify_content": null,
            "justify_items": null,
            "left": null,
            "margin": null,
            "max_height": null,
            "max_width": null,
            "min_height": null,
            "min_width": null,
            "object_fit": null,
            "object_position": null,
            "order": null,
            "overflow": null,
            "overflow_x": null,
            "overflow_y": null,
            "padding": null,
            "right": null,
            "top": null,
            "visibility": null,
            "width": null
          }
        },
        "7bbcf56f072b4daa9967fdc25a9af470": {
          "model_module": "@jupyter-widgets/controls",
          "model_name": "SliderStyleModel",
          "model_module_version": "1.5.0",
          "state": {
            "_model_module": "@jupyter-widgets/controls",
            "_model_module_version": "1.5.0",
            "_model_name": "SliderStyleModel",
            "_view_count": null,
            "_view_module": "@jupyter-widgets/base",
            "_view_module_version": "1.2.0",
            "_view_name": "StyleView",
            "description_width": "",
            "handle_color": null
          }
        },
        "221c45652abd46ad8faf237886c3f5d0": {
          "model_module": "@jupyter-widgets/base",
          "model_name": "LayoutModel",
          "model_module_version": "1.2.0",
          "state": {
            "_model_module": "@jupyter-widgets/base",
            "_model_module_version": "1.2.0",
            "_model_name": "LayoutModel",
            "_view_count": null,
            "_view_module": "@jupyter-widgets/base",
            "_view_module_version": "1.2.0",
            "_view_name": "LayoutView",
            "align_content": null,
            "align_items": null,
            "align_self": null,
            "border": null,
            "bottom": null,
            "display": null,
            "flex": null,
            "flex_flow": null,
            "grid_area": null,
            "grid_auto_columns": null,
            "grid_auto_flow": null,
            "grid_auto_rows": null,
            "grid_column": null,
            "grid_gap": null,
            "grid_row": null,
            "grid_template_areas": null,
            "grid_template_columns": null,
            "grid_template_rows": null,
            "height": null,
            "justify_content": null,
            "justify_items": null,
            "left": null,
            "margin": null,
            "max_height": null,
            "max_width": null,
            "min_height": null,
            "min_width": null,
            "object_fit": null,
            "object_position": null,
            "order": null,
            "overflow": null,
            "overflow_x": null,
            "overflow_y": null,
            "padding": null,
            "right": null,
            "top": null,
            "visibility": null,
            "width": null
          }
        },
        "b55fd417ab5b408b8ce3e98b81da1f3c": {
          "model_module": "@jupyter-widgets/controls",
          "model_name": "SliderStyleModel",
          "model_module_version": "1.5.0",
          "state": {
            "_model_module": "@jupyter-widgets/controls",
            "_model_module_version": "1.5.0",
            "_model_name": "SliderStyleModel",
            "_view_count": null,
            "_view_module": "@jupyter-widgets/base",
            "_view_module_version": "1.2.0",
            "_view_name": "StyleView",
            "description_width": "",
            "handle_color": null
          }
        },
        "ccaf27a73fe64863941cf38e31346946": {
          "model_module": "@jupyter-widgets/base",
          "model_name": "LayoutModel",
          "model_module_version": "1.2.0",
          "state": {
            "_model_module": "@jupyter-widgets/base",
            "_model_module_version": "1.2.0",
            "_model_name": "LayoutModel",
            "_view_count": null,
            "_view_module": "@jupyter-widgets/base",
            "_view_module_version": "1.2.0",
            "_view_name": "LayoutView",
            "align_content": null,
            "align_items": null,
            "align_self": null,
            "border": null,
            "bottom": null,
            "display": null,
            "flex": null,
            "flex_flow": null,
            "grid_area": null,
            "grid_auto_columns": null,
            "grid_auto_flow": null,
            "grid_auto_rows": null,
            "grid_column": null,
            "grid_gap": null,
            "grid_row": null,
            "grid_template_areas": null,
            "grid_template_columns": null,
            "grid_template_rows": null,
            "height": null,
            "justify_content": null,
            "justify_items": null,
            "left": null,
            "margin": null,
            "max_height": null,
            "max_width": null,
            "min_height": null,
            "min_width": null,
            "object_fit": null,
            "object_position": null,
            "order": null,
            "overflow": null,
            "overflow_x": null,
            "overflow_y": null,
            "padding": null,
            "right": null,
            "top": null,
            "visibility": null,
            "width": null
          }
        },
        "8a3cb455ee784bb2988e97b89edf6eef": {
          "model_module": "@jupyter-widgets/controls",
          "model_name": "SliderStyleModel",
          "model_module_version": "1.5.0",
          "state": {
            "_model_module": "@jupyter-widgets/controls",
            "_model_module_version": "1.5.0",
            "_model_name": "SliderStyleModel",
            "_view_count": null,
            "_view_module": "@jupyter-widgets/base",
            "_view_module_version": "1.2.0",
            "_view_name": "StyleView",
            "description_width": "",
            "handle_color": null
          }
        },
        "1913d49c7fd74b1e9cf88786fe49ca54": {
          "model_module": "@jupyter-widgets/base",
          "model_name": "LayoutModel",
          "model_module_version": "1.2.0",
          "state": {
            "_model_module": "@jupyter-widgets/base",
            "_model_module_version": "1.2.0",
            "_model_name": "LayoutModel",
            "_view_count": null,
            "_view_module": "@jupyter-widgets/base",
            "_view_module_version": "1.2.0",
            "_view_name": "LayoutView",
            "align_content": null,
            "align_items": null,
            "align_self": null,
            "border": null,
            "bottom": null,
            "display": null,
            "flex": null,
            "flex_flow": null,
            "grid_area": null,
            "grid_auto_columns": null,
            "grid_auto_flow": null,
            "grid_auto_rows": null,
            "grid_column": null,
            "grid_gap": null,
            "grid_row": null,
            "grid_template_areas": null,
            "grid_template_columns": null,
            "grid_template_rows": null,
            "height": null,
            "justify_content": null,
            "justify_items": null,
            "left": null,
            "margin": null,
            "max_height": null,
            "max_width": null,
            "min_height": null,
            "min_width": null,
            "object_fit": null,
            "object_position": null,
            "order": null,
            "overflow": null,
            "overflow_x": null,
            "overflow_y": null,
            "padding": null,
            "right": null,
            "top": null,
            "visibility": null,
            "width": null
          }
        },
        "ce57ec1724674d4b88e49a39acd2a013": {
          "model_module": "@jupyter-widgets/controls",
          "model_name": "VBoxModel",
          "model_module_version": "1.5.0",
          "state": {
            "_dom_classes": [
              "widget-interact"
            ],
            "_model_module": "@jupyter-widgets/controls",
            "_model_module_version": "1.5.0",
            "_model_name": "VBoxModel",
            "_view_count": null,
            "_view_module": "@jupyter-widgets/controls",
            "_view_module_version": "1.5.0",
            "_view_name": "VBoxView",
            "box_style": "",
            "children": [
              "IPY_MODEL_9fbcc9aaf5dd4fb693510a31ae50ff40",
              "IPY_MODEL_a9df79db5c854d038a0b5ec5c9d383ff",
              "IPY_MODEL_3174455fc5bb48c19cda137f7c39bb39"
            ],
            "layout": "IPY_MODEL_813d40edff374647ae05e15dd84655d9"
          }
        },
        "9fbcc9aaf5dd4fb693510a31ae50ff40": {
          "model_module": "@jupyter-widgets/controls",
          "model_name": "IntSliderModel",
          "model_module_version": "1.5.0",
          "state": {
            "_dom_classes": [],
            "_model_module": "@jupyter-widgets/controls",
            "_model_module_version": "1.5.0",
            "_model_name": "IntSliderModel",
            "_view_count": null,
            "_view_module": "@jupyter-widgets/controls",
            "_view_module_version": "1.5.0",
            "_view_name": "IntSliderView",
            "continuous_update": true,
            "description": "a",
            "description_tooltip": null,
            "disabled": false,
            "layout": "IPY_MODEL_142960edda01413ebfc55791005f18f9",
            "max": -1,
            "min": -9,
            "orientation": "horizontal",
            "readout": true,
            "readout_format": "d",
            "step": 1,
            "style": "IPY_MODEL_71a60fe5426c484e9a30d1e7583c6a79",
            "value": -5
          }
        },
        "a9df79db5c854d038a0b5ec5c9d383ff": {
          "model_module": "@jupyter-widgets/controls",
          "model_name": "IntSliderModel",
          "model_module_version": "1.5.0",
          "state": {
            "_dom_classes": [],
            "_model_module": "@jupyter-widgets/controls",
            "_model_module_version": "1.5.0",
            "_model_name": "IntSliderModel",
            "_view_count": null,
            "_view_module": "@jupyter-widgets/controls",
            "_view_module_version": "1.5.0",
            "_view_name": "IntSliderView",
            "continuous_update": true,
            "description": "b",
            "description_tooltip": null,
            "disabled": false,
            "layout": "IPY_MODEL_82e1fb88680447a0bb527e2410864501",
            "max": 9,
            "min": 1,
            "orientation": "horizontal",
            "readout": true,
            "readout_format": "d",
            "step": 1,
            "style": "IPY_MODEL_c10dc80906724f99844412c13b1f5631",
            "value": 5
          }
        },
        "3174455fc5bb48c19cda137f7c39bb39": {
          "model_module": "@jupyter-widgets/output",
          "model_name": "OutputModel",
          "model_module_version": "1.0.0",
          "state": {
            "_dom_classes": [],
            "_model_module": "@jupyter-widgets/output",
            "_model_module_version": "1.0.0",
            "_model_name": "OutputModel",
            "_view_count": null,
            "_view_module": "@jupyter-widgets/output",
            "_view_module_version": "1.0.0",
            "_view_name": "OutputView",
            "layout": "IPY_MODEL_46a16cadacfa439e92941aed741f289e",
            "msg_id": "",
            "outputs": [
              {
                "output_type": "display_data",
                "data": {
                  "text/plain": "<Figure size 640x480 with 1 Axes>",
                  "image/png": "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\n"
                },
                "metadata": {}
              }
            ]
          }
        },
        "813d40edff374647ae05e15dd84655d9": {
          "model_module": "@jupyter-widgets/base",
          "model_name": "LayoutModel",
          "model_module_version": "1.2.0",
          "state": {
            "_model_module": "@jupyter-widgets/base",
            "_model_module_version": "1.2.0",
            "_model_name": "LayoutModel",
            "_view_count": null,
            "_view_module": "@jupyter-widgets/base",
            "_view_module_version": "1.2.0",
            "_view_name": "LayoutView",
            "align_content": null,
            "align_items": null,
            "align_self": null,
            "border": null,
            "bottom": null,
            "display": null,
            "flex": null,
            "flex_flow": null,
            "grid_area": null,
            "grid_auto_columns": null,
            "grid_auto_flow": null,
            "grid_auto_rows": null,
            "grid_column": null,
            "grid_gap": null,
            "grid_row": null,
            "grid_template_areas": null,
            "grid_template_columns": null,
            "grid_template_rows": null,
            "height": null,
            "justify_content": null,
            "justify_items": null,
            "left": null,
            "margin": null,
            "max_height": null,
            "max_width": null,
            "min_height": null,
            "min_width": null,
            "object_fit": null,
            "object_position": null,
            "order": null,
            "overflow": null,
            "overflow_x": null,
            "overflow_y": null,
            "padding": null,
            "right": null,
            "top": null,
            "visibility": null,
            "width": null
          }
        },
        "142960edda01413ebfc55791005f18f9": {
          "model_module": "@jupyter-widgets/base",
          "model_name": "LayoutModel",
          "model_module_version": "1.2.0",
          "state": {
            "_model_module": "@jupyter-widgets/base",
            "_model_module_version": "1.2.0",
            "_model_name": "LayoutModel",
            "_view_count": null,
            "_view_module": "@jupyter-widgets/base",
            "_view_module_version": "1.2.0",
            "_view_name": "LayoutView",
            "align_content": null,
            "align_items": null,
            "align_self": null,
            "border": null,
            "bottom": null,
            "display": null,
            "flex": null,
            "flex_flow": null,
            "grid_area": null,
            "grid_auto_columns": null,
            "grid_auto_flow": null,
            "grid_auto_rows": null,
            "grid_column": null,
            "grid_gap": null,
            "grid_row": null,
            "grid_template_areas": null,
            "grid_template_columns": null,
            "grid_template_rows": null,
            "height": null,
            "justify_content": null,
            "justify_items": null,
            "left": null,
            "margin": null,
            "max_height": null,
            "max_width": null,
            "min_height": null,
            "min_width": null,
            "object_fit": null,
            "object_position": null,
            "order": null,
            "overflow": null,
            "overflow_x": null,
            "overflow_y": null,
            "padding": null,
            "right": null,
            "top": null,
            "visibility": null,
            "width": null
          }
        },
        "71a60fe5426c484e9a30d1e7583c6a79": {
          "model_module": "@jupyter-widgets/controls",
          "model_name": "SliderStyleModel",
          "model_module_version": "1.5.0",
          "state": {
            "_model_module": "@jupyter-widgets/controls",
            "_model_module_version": "1.5.0",
            "_model_name": "SliderStyleModel",
            "_view_count": null,
            "_view_module": "@jupyter-widgets/base",
            "_view_module_version": "1.2.0",
            "_view_name": "StyleView",
            "description_width": "",
            "handle_color": null
          }
        },
        "82e1fb88680447a0bb527e2410864501": {
          "model_module": "@jupyter-widgets/base",
          "model_name": "LayoutModel",
          "model_module_version": "1.2.0",
          "state": {
            "_model_module": "@jupyter-widgets/base",
            "_model_module_version": "1.2.0",
            "_model_name": "LayoutModel",
            "_view_count": null,
            "_view_module": "@jupyter-widgets/base",
            "_view_module_version": "1.2.0",
            "_view_name": "LayoutView",
            "align_content": null,
            "align_items": null,
            "align_self": null,
            "border": null,
            "bottom": null,
            "display": null,
            "flex": null,
            "flex_flow": null,
            "grid_area": null,
            "grid_auto_columns": null,
            "grid_auto_flow": null,
            "grid_auto_rows": null,
            "grid_column": null,
            "grid_gap": null,
            "grid_row": null,
            "grid_template_areas": null,
            "grid_template_columns": null,
            "grid_template_rows": null,
            "height": null,
            "justify_content": null,
            "justify_items": null,
            "left": null,
            "margin": null,
            "max_height": null,
            "max_width": null,
            "min_height": null,
            "min_width": null,
            "object_fit": null,
            "object_position": null,
            "order": null,
            "overflow": null,
            "overflow_x": null,
            "overflow_y": null,
            "padding": null,
            "right": null,
            "top": null,
            "visibility": null,
            "width": null
          }
        },
        "c10dc80906724f99844412c13b1f5631": {
          "model_module": "@jupyter-widgets/controls",
          "model_name": "SliderStyleModel",
          "model_module_version": "1.5.0",
          "state": {
            "_model_module": "@jupyter-widgets/controls",
            "_model_module_version": "1.5.0",
            "_model_name": "SliderStyleModel",
            "_view_count": null,
            "_view_module": "@jupyter-widgets/base",
            "_view_module_version": "1.2.0",
            "_view_name": "StyleView",
            "description_width": "",
            "handle_color": null
          }
        },
        "46a16cadacfa439e92941aed741f289e": {
          "model_module": "@jupyter-widgets/base",
          "model_name": "LayoutModel",
          "model_module_version": "1.2.0",
          "state": {
            "_model_module": "@jupyter-widgets/base",
            "_model_module_version": "1.2.0",
            "_model_name": "LayoutModel",
            "_view_count": null,
            "_view_module": "@jupyter-widgets/base",
            "_view_module_version": "1.2.0",
            "_view_name": "LayoutView",
            "align_content": null,
            "align_items": null,
            "align_self": null,
            "border": null,
            "bottom": null,
            "display": null,
            "flex": null,
            "flex_flow": null,
            "grid_area": null,
            "grid_auto_columns": null,
            "grid_auto_flow": null,
            "grid_auto_rows": null,
            "grid_column": null,
            "grid_gap": null,
            "grid_row": null,
            "grid_template_areas": null,
            "grid_template_columns": null,
            "grid_template_rows": null,
            "height": null,
            "justify_content": null,
            "justify_items": null,
            "left": null,
            "margin": null,
            "max_height": null,
            "max_width": null,
            "min_height": null,
            "min_width": null,
            "object_fit": null,
            "object_position": null,
            "order": null,
            "overflow": null,
            "overflow_x": null,
            "overflow_y": null,
            "padding": null,
            "right": null,
            "top": null,
            "visibility": null,
            "width": null
          }
        },
        "4469546d19f04297a4484673980cf825": {
          "model_module": "@jupyter-widgets/controls",
          "model_name": "VBoxModel",
          "model_module_version": "1.5.0",
          "state": {
            "_dom_classes": [
              "widget-interact"
            ],
            "_model_module": "@jupyter-widgets/controls",
            "_model_module_version": "1.5.0",
            "_model_name": "VBoxModel",
            "_view_count": null,
            "_view_module": "@jupyter-widgets/controls",
            "_view_module_version": "1.5.0",
            "_view_name": "VBoxView",
            "box_style": "",
            "children": [
              "IPY_MODEL_edaac10f20584e5281735ea92f443dd8",
              "IPY_MODEL_82a3cebefa6649f2842b8e27bc1a36d6",
              "IPY_MODEL_122693bcc6b9467c9bc956082c5d6bfc",
              "IPY_MODEL_08734f64e57440bdb21e57987a6aa86f",
              "IPY_MODEL_f695569973b54081889e1e6c99a98757"
            ],
            "layout": "IPY_MODEL_b7c40c6aa783413691e89b5bcb8cb973"
          }
        },
        "edaac10f20584e5281735ea92f443dd8": {
          "model_module": "@jupyter-widgets/controls",
          "model_name": "IntSliderModel",
          "model_module_version": "1.5.0",
          "state": {
            "_dom_classes": [],
            "_model_module": "@jupyter-widgets/controls",
            "_model_module_version": "1.5.0",
            "_model_name": "IntSliderModel",
            "_view_count": null,
            "_view_module": "@jupyter-widgets/controls",
            "_view_module_version": "1.5.0",
            "_view_name": "IntSliderView",
            "continuous_update": true,
            "description": "a",
            "description_tooltip": null,
            "disabled": false,
            "layout": "IPY_MODEL_df26c5137500438b84909b6b17235cdc",
            "max": 9,
            "min": -9,
            "orientation": "horizontal",
            "readout": true,
            "readout_format": "d",
            "step": 1,
            "style": "IPY_MODEL_8a72c44e7fa44275afacc36d6a7788dc",
            "value": -4
          }
        },
        "82a3cebefa6649f2842b8e27bc1a36d6": {
          "model_module": "@jupyter-widgets/controls",
          "model_name": "IntSliderModel",
          "model_module_version": "1.5.0",
          "state": {
            "_dom_classes": [],
            "_model_module": "@jupyter-widgets/controls",
            "_model_module_version": "1.5.0",
            "_model_name": "IntSliderModel",
            "_view_count": null,
            "_view_module": "@jupyter-widgets/controls",
            "_view_module_version": "1.5.0",
            "_view_name": "IntSliderView",
            "continuous_update": true,
            "description": "b",
            "description_tooltip": null,
            "disabled": false,
            "layout": "IPY_MODEL_a1dd38065bae4072a5cee3d666b875b6",
            "max": 9,
            "min": -9,
            "orientation": "horizontal",
            "readout": true,
            "readout_format": "d",
            "step": 1,
            "style": "IPY_MODEL_2bb214142d6a4d2fb0e3401795248ffd",
            "value": 0
          }
        },
        "122693bcc6b9467c9bc956082c5d6bfc": {
          "model_module": "@jupyter-widgets/controls",
          "model_name": "IntSliderModel",
          "model_module_version": "1.5.0",
          "state": {
            "_dom_classes": [],
            "_model_module": "@jupyter-widgets/controls",
            "_model_module_version": "1.5.0",
            "_model_name": "IntSliderModel",
            "_view_count": null,
            "_view_module": "@jupyter-widgets/controls",
            "_view_module_version": "1.5.0",
            "_view_name": "IntSliderView",
            "continuous_update": true,
            "description": "c",
            "description_tooltip": null,
            "disabled": false,
            "layout": "IPY_MODEL_be97b321770c47dfb5f5eb9e0a2eaec8",
            "max": 9,
            "min": -9,
            "orientation": "horizontal",
            "readout": true,
            "readout_format": "d",
            "step": 1,
            "style": "IPY_MODEL_d90a40ae5ad941a4b482b92f22445926",
            "value": 6
          }
        },
        "08734f64e57440bdb21e57987a6aa86f": {
          "model_module": "@jupyter-widgets/controls",
          "model_name": "IntSliderModel",
          "model_module_version": "1.5.0",
          "state": {
            "_dom_classes": [],
            "_model_module": "@jupyter-widgets/controls",
            "_model_module_version": "1.5.0",
            "_model_name": "IntSliderModel",
            "_view_count": null,
            "_view_module": "@jupyter-widgets/controls",
            "_view_module_version": "1.5.0",
            "_view_name": "IntSliderView",
            "continuous_update": true,
            "description": "d",
            "description_tooltip": null,
            "disabled": false,
            "layout": "IPY_MODEL_ff4f1aaae3b649fcb3646c9b4eb1c372",
            "max": 9,
            "min": -9,
            "orientation": "horizontal",
            "readout": true,
            "readout_format": "d",
            "step": 1,
            "style": "IPY_MODEL_055bfa29b96e4a55aabe755505152d1f",
            "value": -5
          }
        },
        "f695569973b54081889e1e6c99a98757": {
          "model_module": "@jupyter-widgets/output",
          "model_name": "OutputModel",
          "model_module_version": "1.0.0",
          "state": {
            "_dom_classes": [],
            "_model_module": "@jupyter-widgets/output",
            "_model_module_version": "1.0.0",
            "_model_name": "OutputModel",
            "_view_count": null,
            "_view_module": "@jupyter-widgets/output",
            "_view_module_version": "1.0.0",
            "_view_name": "OutputView",
            "layout": "IPY_MODEL_aa7d77468831417d95be9c60f0d9427f",
            "msg_id": "",
            "outputs": [
              {
                "output_type": "display_data",
                "data": {
                  "text/plain": "<Figure size 640x480 with 1 Axes>",
                  "image/png": "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\n"
                },
                "metadata": {}
              }
            ]
          }
        },
        "b7c40c6aa783413691e89b5bcb8cb973": {
          "model_module": "@jupyter-widgets/base",
          "model_name": "LayoutModel",
          "model_module_version": "1.2.0",
          "state": {
            "_model_module": "@jupyter-widgets/base",
            "_model_module_version": "1.2.0",
            "_model_name": "LayoutModel",
            "_view_count": null,
            "_view_module": "@jupyter-widgets/base",
            "_view_module_version": "1.2.0",
            "_view_name": "LayoutView",
            "align_content": null,
            "align_items": null,
            "align_self": null,
            "border": null,
            "bottom": null,
            "display": null,
            "flex": null,
            "flex_flow": null,
            "grid_area": null,
            "grid_auto_columns": null,
            "grid_auto_flow": null,
            "grid_auto_rows": null,
            "grid_column": null,
            "grid_gap": null,
            "grid_row": null,
            "grid_template_areas": null,
            "grid_template_columns": null,
            "grid_template_rows": null,
            "height": null,
            "justify_content": null,
            "justify_items": null,
            "left": null,
            "margin": null,
            "max_height": null,
            "max_width": null,
            "min_height": null,
            "min_width": null,
            "object_fit": null,
            "object_position": null,
            "order": null,
            "overflow": null,
            "overflow_x": null,
            "overflow_y": null,
            "padding": null,
            "right": null,
            "top": null,
            "visibility": null,
            "width": null
          }
        },
        "df26c5137500438b84909b6b17235cdc": {
          "model_module": "@jupyter-widgets/base",
          "model_name": "LayoutModel",
          "model_module_version": "1.2.0",
          "state": {
            "_model_module": "@jupyter-widgets/base",
            "_model_module_version": "1.2.0",
            "_model_name": "LayoutModel",
            "_view_count": null,
            "_view_module": "@jupyter-widgets/base",
            "_view_module_version": "1.2.0",
            "_view_name": "LayoutView",
            "align_content": null,
            "align_items": null,
            "align_self": null,
            "border": null,
            "bottom": null,
            "display": null,
            "flex": null,
            "flex_flow": null,
            "grid_area": null,
            "grid_auto_columns": null,
            "grid_auto_flow": null,
            "grid_auto_rows": null,
            "grid_column": null,
            "grid_gap": null,
            "grid_row": null,
            "grid_template_areas": null,
            "grid_template_columns": null,
            "grid_template_rows": null,
            "height": null,
            "justify_content": null,
            "justify_items": null,
            "left": null,
            "margin": null,
            "max_height": null,
            "max_width": null,
            "min_height": null,
            "min_width": null,
            "object_fit": null,
            "object_position": null,
            "order": null,
            "overflow": null,
            "overflow_x": null,
            "overflow_y": null,
            "padding": null,
            "right": null,
            "top": null,
            "visibility": null,
            "width": null
          }
        },
        "8a72c44e7fa44275afacc36d6a7788dc": {
          "model_module": "@jupyter-widgets/controls",
          "model_name": "SliderStyleModel",
          "model_module_version": "1.5.0",
          "state": {
            "_model_module": "@jupyter-widgets/controls",
            "_model_module_version": "1.5.0",
            "_model_name": "SliderStyleModel",
            "_view_count": null,
            "_view_module": "@jupyter-widgets/base",
            "_view_module_version": "1.2.0",
            "_view_name": "StyleView",
            "description_width": "",
            "handle_color": null
          }
        },
        "a1dd38065bae4072a5cee3d666b875b6": {
          "model_module": "@jupyter-widgets/base",
          "model_name": "LayoutModel",
          "model_module_version": "1.2.0",
          "state": {
            "_model_module": "@jupyter-widgets/base",
            "_model_module_version": "1.2.0",
            "_model_name": "LayoutModel",
            "_view_count": null,
            "_view_module": "@jupyter-widgets/base",
            "_view_module_version": "1.2.0",
            "_view_name": "LayoutView",
            "align_content": null,
            "align_items": null,
            "align_self": null,
            "border": null,
            "bottom": null,
            "display": null,
            "flex": null,
            "flex_flow": null,
            "grid_area": null,
            "grid_auto_columns": null,
            "grid_auto_flow": null,
            "grid_auto_rows": null,
            "grid_column": null,
            "grid_gap": null,
            "grid_row": null,
            "grid_template_areas": null,
            "grid_template_columns": null,
            "grid_template_rows": null,
            "height": null,
            "justify_content": null,
            "justify_items": null,
            "left": null,
            "margin": null,
            "max_height": null,
            "max_width": null,
            "min_height": null,
            "min_width": null,
            "object_fit": null,
            "object_position": null,
            "order": null,
            "overflow": null,
            "overflow_x": null,
            "overflow_y": null,
            "padding": null,
            "right": null,
            "top": null,
            "visibility": null,
            "width": null
          }
        },
        "2bb214142d6a4d2fb0e3401795248ffd": {
          "model_module": "@jupyter-widgets/controls",
          "model_name": "SliderStyleModel",
          "model_module_version": "1.5.0",
          "state": {
            "_model_module": "@jupyter-widgets/controls",
            "_model_module_version": "1.5.0",
            "_model_name": "SliderStyleModel",
            "_view_count": null,
            "_view_module": "@jupyter-widgets/base",
            "_view_module_version": "1.2.0",
            "_view_name": "StyleView",
            "description_width": "",
            "handle_color": null
          }
        },
        "be97b321770c47dfb5f5eb9e0a2eaec8": {
          "model_module": "@jupyter-widgets/base",
          "model_name": "LayoutModel",
          "model_module_version": "1.2.0",
          "state": {
            "_model_module": "@jupyter-widgets/base",
            "_model_module_version": "1.2.0",
            "_model_name": "LayoutModel",
            "_view_count": null,
            "_view_module": "@jupyter-widgets/base",
            "_view_module_version": "1.2.0",
            "_view_name": "LayoutView",
            "align_content": null,
            "align_items": null,
            "align_self": null,
            "border": null,
            "bottom": null,
            "display": null,
            "flex": null,
            "flex_flow": null,
            "grid_area": null,
            "grid_auto_columns": null,
            "grid_auto_flow": null,
            "grid_auto_rows": null,
            "grid_column": null,
            "grid_gap": null,
            "grid_row": null,
            "grid_template_areas": null,
            "grid_template_columns": null,
            "grid_template_rows": null,
            "height": null,
            "justify_content": null,
            "justify_items": null,
            "left": null,
            "margin": null,
            "max_height": null,
            "max_width": null,
            "min_height": null,
            "min_width": null,
            "object_fit": null,
            "object_position": null,
            "order": null,
            "overflow": null,
            "overflow_x": null,
            "overflow_y": null,
            "padding": null,
            "right": null,
            "top": null,
            "visibility": null,
            "width": null
          }
        },
        "d90a40ae5ad941a4b482b92f22445926": {
          "model_module": "@jupyter-widgets/controls",
          "model_name": "SliderStyleModel",
          "model_module_version": "1.5.0",
          "state": {
            "_model_module": "@jupyter-widgets/controls",
            "_model_module_version": "1.5.0",
            "_model_name": "SliderStyleModel",
            "_view_count": null,
            "_view_module": "@jupyter-widgets/base",
            "_view_module_version": "1.2.0",
            "_view_name": "StyleView",
            "description_width": "",
            "handle_color": null
          }
        },
        "ff4f1aaae3b649fcb3646c9b4eb1c372": {
          "model_module": "@jupyter-widgets/base",
          "model_name": "LayoutModel",
          "model_module_version": "1.2.0",
          "state": {
            "_model_module": "@jupyter-widgets/base",
            "_model_module_version": "1.2.0",
            "_model_name": "LayoutModel",
            "_view_count": null,
            "_view_module": "@jupyter-widgets/base",
            "_view_module_version": "1.2.0",
            "_view_name": "LayoutView",
            "align_content": null,
            "align_items": null,
            "align_self": null,
            "border": null,
            "bottom": null,
            "display": null,
            "flex": null,
            "flex_flow": null,
            "grid_area": null,
            "grid_auto_columns": null,
            "grid_auto_flow": null,
            "grid_auto_rows": null,
            "grid_column": null,
            "grid_gap": null,
            "grid_row": null,
            "grid_template_areas": null,
            "grid_template_columns": null,
            "grid_template_rows": null,
            "height": null,
            "justify_content": null,
            "justify_items": null,
            "left": null,
            "margin": null,
            "max_height": null,
            "max_width": null,
            "min_height": null,
            "min_width": null,
            "object_fit": null,
            "object_position": null,
            "order": null,
            "overflow": null,
            "overflow_x": null,
            "overflow_y": null,
            "padding": null,
            "right": null,
            "top": null,
            "visibility": null,
            "width": null
          }
        },
        "055bfa29b96e4a55aabe755505152d1f": {
          "model_module": "@jupyter-widgets/controls",
          "model_name": "SliderStyleModel",
          "model_module_version": "1.5.0",
          "state": {
            "_model_module": "@jupyter-widgets/controls",
            "_model_module_version": "1.5.0",
            "_model_name": "SliderStyleModel",
            "_view_count": null,
            "_view_module": "@jupyter-widgets/base",
            "_view_module_version": "1.2.0",
            "_view_name": "StyleView",
            "description_width": "",
            "handle_color": null
          }
        },
        "aa7d77468831417d95be9c60f0d9427f": {
          "model_module": "@jupyter-widgets/base",
          "model_name": "LayoutModel",
          "model_module_version": "1.2.0",
          "state": {
            "_model_module": "@jupyter-widgets/base",
            "_model_module_version": "1.2.0",
            "_model_name": "LayoutModel",
            "_view_count": null,
            "_view_module": "@jupyter-widgets/base",
            "_view_module_version": "1.2.0",
            "_view_name": "LayoutView",
            "align_content": null,
            "align_items": null,
            "align_self": null,
            "border": null,
            "bottom": null,
            "display": null,
            "flex": null,
            "flex_flow": null,
            "grid_area": null,
            "grid_auto_columns": null,
            "grid_auto_flow": null,
            "grid_auto_rows": null,
            "grid_column": null,
            "grid_gap": null,
            "grid_row": null,
            "grid_template_areas": null,
            "grid_template_columns": null,
            "grid_template_rows": null,
            "height": null,
            "justify_content": null,
            "justify_items": null,
            "left": null,
            "margin": null,
            "max_height": null,
            "max_width": null,
            "min_height": null,
            "min_width": null,
            "object_fit": null,
            "object_position": null,
            "order": null,
            "overflow": null,
            "overflow_x": null,
            "overflow_y": null,
            "padding": null,
            "right": null,
            "top": null,
            "visibility": null,
            "width": null
          }
        }
      }
    }
  },
  "cells": [
    {
      "cell_type": "markdown",
      "metadata": {
        "id": "view-in-github",
        "colab_type": "text"
      },
      "source": [
        "<a href=\"https://colab.research.google.com/github/Fisissist/Learning-College-Algebra-with-Python/blob/main/Copy_of_Foundational_Math_3_(Learn).ipynb\" target=\"_parent\"><img src=\"https://colab.research.google.com/assets/colab-badge.svg\" alt=\"Open In Colab\"/></a>"
      ]
    },
    {
      "cell_type": "markdown",
      "metadata": {
        "id": "EsfO5Q92tL-6"
      },
      "source": [
        "[![freeCodeCamp](https://cdn.freecodecamp.org/testable-projects-fcc/images/fcc_secondary.svg)](https://freecodecamp.org/)"
      ]
    },
    {
      "cell_type": "markdown",
      "metadata": {
        "id": "57mlyO58UfN0"
      },
      "source": [
        "**Learn Foundational Math 3 by Building a Financial App**<br>\n",
        "Each of these steps will lead you toward the Certification Project. Once you complete a step, click to expand the next step."
      ]
    },
    {
      "cell_type": "markdown",
      "metadata": {
        "id": "szp5flp1fA8-"
      },
      "source": [
        "# &darr; **Do this first** &darr;\n",
        "Copy this notebook to your own account by clicking the `File` button at the top, and then click `Save a copy in Drive`. You will need to be logged in to Google. The file will be in a folder called \"Colab Notebooks\" in your Google Drive."
      ]
    },
    {
      "cell_type": "markdown",
      "source": [
        "# Step 0 - Acquire the Testing Library"
      ],
      "metadata": {
        "id": "KDloBuvnHQTS"
      }
    },
    {
      "cell_type": "markdown",
      "source": [
        "Please run this code to get the library file from FreeCodeCamp. Each step will use this library to test your code. You do not need to edit anything; just run this code cell and wait a few seconds until it tells you to go on to the next step."
      ],
      "metadata": {
        "id": "JiW6TlNezZKS"
      }
    },
    {
      "cell_type": "code",
      "source": [
        "# You may need to run this cell at the beginning of each new session\n",
        "\n",
        "!pip install requests\n",
        "\n",
        "# This will just take a few seconds\n",
        "\n",
        "import requests\n",
        "\n",
        "# Get the library from GitHub\n",
        "url = 'https://raw.githubusercontent.com/edatfreecodecamp/python-math/main/math-code-test-c.py'\n",
        "r = requests.get(url)\n",
        "\n",
        "# Save the library in a local working directory\n",
        "with open('math_code_test_c.py', 'w') as f:\n",
        "    f.write(r.text)\n",
        "\n",
        "# Now you can import the library\n",
        "import math_code_test_c as test\n",
        "\n",
        "# This will tell you if the code works\n",
        "test.step00()"
      ],
      "metadata": {
        "id": "eTlHceacGa1C",
        "colab": {
          "base_uri": "https://localhost:8080/"
        },
        "outputId": "87098096-042d-4f39-b3ac-3e96adde80d5"
      },
      "execution_count": 3,
      "outputs": [
        {
          "output_type": "stream",
          "name": "stdout",
          "text": [
            "Requirement already satisfied: requests in /usr/local/lib/python3.11/dist-packages (2.32.3)\n",
            "Requirement already satisfied: charset-normalizer<4,>=2 in /usr/local/lib/python3.11/dist-packages (from requests) (3.4.1)\n",
            "Requirement already satisfied: idna<4,>=2.5 in /usr/local/lib/python3.11/dist-packages (from requests) (3.10)\n",
            "Requirement already satisfied: urllib3<3,>=1.21.1 in /usr/local/lib/python3.11/dist-packages (from requests) (2.3.0)\n",
            "Requirement already satisfied: certifi>=2017.4.17 in /usr/local/lib/python3.11/dist-packages (from requests) (2024.12.14)\n",
            "Code test passed\n",
            "Go on to the next step\n"
          ]
        }
      ]
    },
    {
      "cell_type": "markdown",
      "metadata": {
        "id": "r1AM-AcqkbyF"
      },
      "source": [
        "# Step 1 - Graphing Inequalities"
      ]
    },
    {
      "cell_type": "markdown",
      "metadata": {
        "id": "K8rdL_OEkd-t"
      },
      "source": [
        "Learn Inequalities by Building Shaded Graphs. Notice how you set up the plot, like you learned in the last certification. Run the following code and you will see that the graph of y <u>></u> 2x is not quite right. Because y is greater, the shading should be above the line. The second two arguments in the `fill_between()` function give a range of y values to shade. Change just that part of the code to make the graph correct. (Hint: Think about the top of the graph.)\n"
      ]
    },
    {
      "cell_type": "code",
      "metadata": {
        "id": "QAVgVP3xUd4J",
        "colab": {
          "base_uri": "https://localhost:8080/",
          "height": 507
        },
        "outputId": "6a85a979-20c0-405e-f643-4400f584ab27"
      },
      "source": [
        "import matplotlib.pyplot as plt\n",
        "import numpy as np\n",
        "\n",
        "xmin = -10\n",
        "xmax = 10\n",
        "ymin = - 10\n",
        "ymax = 10\n",
        "points = 2*(xmax-xmin)\n",
        "x = np.linspace(xmin,xmax,points)\n",
        "\n",
        "fig, ax = plt.subplots()\n",
        "plt.axis([xmin,xmax,ymin,ymax]) # window size\n",
        "plt.plot([xmin,xmax],[0,0],'b') # blue x axis\n",
        "plt.plot([0,0],[ymin,ymax], 'b') # blue y axis\n",
        "\n",
        "plt.title(\"y > 2x\")\n",
        "\n",
        "y1 = 2*x\n",
        "plt.plot(x, y1)\n",
        "\n",
        "# Only change code below this line\n",
        "plt.fill_between(x, y1, ymax)\n",
        "\n",
        "plt.show()\n",
        "\n",
        "\n",
        "# Only change code above this line\n",
        "import math_code_test_c as test\n",
        "test.step01(In[-1].split('# Only change code above this line')[0])"
      ],
      "execution_count": 4,
      "outputs": [
        {
          "output_type": "display_data",
          "data": {
            "text/plain": [
              "<Figure size 640x480 with 1 Axes>"
            ],
            "image/png": "[encoded data removed]"
          },
          "metadata": {}
        },
        {
          "output_type": "stream",
          "name": "stdout",
          "text": [
            " \n",
            "Code test passed\n",
            "Go on to the next step\n"
          ]
        }
      ]
    },
    {
      "cell_type": "markdown",
      "metadata": {
        "id": "8wXbGsoYkm60"
      },
      "source": [
        "# Step 2 - Graphing inequalities - Part 2"
      ]
    },
    {
      "cell_type": "markdown",
      "metadata": {
        "id": "ehY1G02Dkv7r"
      },
      "source": [
        "The default graph will give you a solid line, but you can change the type of line and the color. As `'b'` is for a solid blue line, `'b--'` will be a dashed blue line and `'r--'` will display a dashed red line. Change the code to graph a dashed red line."
      ]
    },
    {
      "cell_type": "code",
      "metadata": {
        "id": "3Pp_SmUikwgy",
        "colab": {
          "base_uri": "https://localhost:8080/",
          "height": 490
        },
        "outputId": "bd9dc13d-e622-47f0-95bf-3550236f4f95"
      },
      "source": [
        "import matplotlib.pyplot as plt\n",
        "import numpy as np\n",
        "\n",
        "xmin = -10\n",
        "xmax = 10\n",
        "ymin = - 10\n",
        "ymax = 10\n",
        "points = 2*(xmax-xmin)\n",
        "x = np.linspace(xmin,xmax,points)\n",
        "\n",
        "fig, ax = plt.subplots()\n",
        "plt.axis([xmin,xmax,ymin,ymax]) # window size\n",
        "plt.plot([xmin,xmax],[0,0],'b') # blue x axis\n",
        "plt.plot([0,0],[ymin,ymax], 'b') # blue y axis\n",
        "\n",
        "y1 = 2*x\n",
        "\n",
        "# Only change the next line:\n",
        "plt.plot(x, y1,'r--')\n",
        "\n",
        "plt.fill_between(x, y1, ymin, facecolor='r')\n",
        "plt.show()\n",
        "\n",
        "\n",
        "\n",
        "# Only change code above this line\n",
        "import math_code_test_c as test\n",
        "test.step02(In[-1].split('# Only change code above this line')[0])"
      ],
      "execution_count": 5,
      "outputs": [
        {
          "output_type": "display_data",
          "data": {
            "text/plain": [
              "<Figure size 640x480 with 1 Axes>"
            ],
            "image/png": "[encoded data removed]"
          },
          "metadata": {}
        },
        {
          "output_type": "stream",
          "name": "stdout",
          "text": [
            " \n",
            "Code test passed\n",
            "Go on to the next step\n"
          ]
        }
      ]
    },
    {
      "cell_type": "markdown",
      "metadata": {
        "id": "tBxuJtHck2Oo"
      },
      "source": [
        "# Step 3 - Making Art with Graphs"
      ]
    },
    {
      "cell_type": "markdown",
      "metadata": {
        "id": "PTr63nCrlTiM"
      },
      "source": [
        "Now plot four inequalities on the graph, in a pattern. Notice how you only need to define the x values once. In the `fill_between()` function notice a fourth argument, `facecolor=`, to indicate a different color for the shaded area. The color name in single quotes, like 'green' or 'yellow' or any common color name. Run the code to see the pattern, then reverse the order of the colors and run it again."
      ]
    },
    {
      "cell_type": "code",
      "metadata": {
        "id": "Iyoq1h3vlV-a",
        "colab": {
          "base_uri": "https://localhost:8080/",
          "height": 490
        },
        "outputId": "aabdd1bc-d367-48f2-e4ad-f6ee9a4e73b2"
      },
      "source": [
        "import matplotlib.pyplot as plt\n",
        "import numpy as np\n",
        "\n",
        "xmin = -10\n",
        "xmax = 10\n",
        "ymin = - 10\n",
        "ymax = 10\n",
        "points = 2*(xmax-xmin)\n",
        "x = np.linspace(xmin,xmax,points)\n",
        "\n",
        "fig, ax = plt.subplots()\n",
        "plt.axis([xmin,xmax,ymin,ymax]) # window size\n",
        "plt.plot([xmin,xmax],[0,0],'b') # blue x axis\n",
        "plt.plot([0,0],[ymin,ymax], 'b') # blue y axis\n",
        "\n",
        "# Only change the lines indicated below\n",
        "\n",
        "# line 1\n",
        "y1 = x+6\n",
        "plt.plot(x, y1)\n",
        "plt.fill_between(x, y1, 10, facecolor='blue') # change this line\n",
        "\n",
        "# line 2\n",
        "y2 = x+3\n",
        "plt.plot(x, y2)\n",
        "plt.fill_between(x, y2, y1, facecolor='green') # change this line\n",
        "\n",
        "# line 3\n",
        "y3 = x-1\n",
        "plt.plot(x, y3)\n",
        "plt.fill_between(x, y3, y2, facecolor='yellow') # change this line\n",
        "\n",
        "# line 4\n",
        "y4 = x-4\n",
        "plt.plot(x, y4)\n",
        "plt.fill_between(x, y4, y3, facecolor='r') # change this line\n",
        "\n",
        "plt.show()\n",
        "\n",
        "\n",
        "\n",
        "# Only change code above this line\n",
        "import math_code_test_c as test\n",
        "test.step03(In[-1].split('# Only change code above this line')[0])"
      ],
      "execution_count": 6,
      "outputs": [
        {
          "output_type": "display_data",
          "data": {
            "text/plain": [
              "<Figure size 640x480 with 1 Axes>"
            ],
            "image/png": "[encoded data removed]"
          },
          "metadata": {}
        },
        {
          "output_type": "stream",
          "name": "stdout",
          "text": [
            " \n",
            "Code test passed\n",
            "Go on to the next step\n"
          ]
        }
      ]
    },
    {
      "cell_type": "markdown",
      "metadata": {
        "id": "s3z_zaNWlet8"
      },
      "source": [
        "# Step 4 - Monomials"
      ]
    },
    {
      "cell_type": "markdown",
      "metadata": {
        "id": "BTOGQIpElet-"
      },
      "source": [
        "A <i>monomial</i> means \"one thing\" or one term. In a math equation, each term has a sign, a coefficient, and a variable to an exponent. Here are some examples: In the term -3x<sup>2</sup> you can see that the sign is negative, the coefficient is 3, the variable is x, the exponent is 2. The term x also has all of these parts: the sign is positive, the coefficient is 1, the variable is x, and the exponent is 1. In the term 5, the sign is positive, the coefficient is 5, the variable is still x, and the exponent is zero (notice that you don't need to write some of these parts, like x<sup>0</sup>). You can use `sympy` to display monomials nicely. Just run the code to see how this looks.  "
      ]
    },
    {
      "cell_type": "code",
      "metadata": {
        "id": "oAPKmzeblet_",
        "colab": {
          "base_uri": "https://localhost:8080/",
          "height": 75
        },
        "outputId": "a1b17b71-0cfd-4280-8550-cb896d800cd5"
      },
      "source": [
        "from sympy import symbols, Eq\n",
        "\n",
        "x = symbols('x')\n",
        "eq1 = Eq(-2*x**3 , -16)\n",
        "display(eq1)\n",
        "\n",
        "\n",
        "# Just run this code\n",
        "import math_code_test_c as test\n",
        "test.step00()"
      ],
      "execution_count": 7,
      "outputs": [
        {
          "output_type": "display_data",
          "data": {
            "text/plain": [
              "Eq(-2*x**3, -16)"
            ],
            "text/latex": "$\\displaystyle - 2 x^{3} = -16$"
          },
          "metadata": {}
        },
        {
          "output_type": "stream",
          "name": "stdout",
          "text": [
            "Code test passed\n",
            "Go on to the next step\n"
          ]
        }
      ]
    },
    {
      "cell_type": "markdown",
      "metadata": {
        "id": "lnP9BOpPlhdK"
      },
      "source": [
        "# Step 5 - Polynomials"
      ]
    },
    {
      "cell_type": "markdown",
      "metadata": {
        "id": "ABF6PI7TlhdL"
      },
      "source": [
        "A \"monomial\" is one thing. A \"binomial\" is two things. A \"trinomial\" is three things. A \"polynomial\" is many things. In standard form, `x` is the variable; you put your terms in order from highest exponent to lowest; refer to the coefficients with letters in alphabetical order; and set all of this equal to `y` (because it is a function that you can graph). Example: y = ax<sup>4</sup> + bx<sup>3</sup> + cx<sup>2</sup> + dx + e <br>\n",
        "Write code to prompt for integer input and display a polynomial. Remember to use the `**` for exponents. Parts of this are already done for you."
      ]
    },
    {
      "cell_type": "code",
      "metadata": {
        "id": "USVAJRualhdL",
        "colab": {
          "base_uri": "https://localhost:8080/",
          "height": 185
        },
        "outputId": "907a37e6-79f6-467d-b13c-dce42a35c115"
      },
      "source": [
        "from IPython.display import display, Math\n",
        "from sympy import *\n",
        "\n",
        "x,y = symbols('x y')\n",
        "\n",
        "a = int(input(\"Enter coefficient A: \"))\n",
        "b = int(input(\"Enter coefficient B: \"))\n",
        "c = int(input(\"Enter coefficient C: \"))\n",
        "d = int(input(\"Enter coefficient D: \"))\n",
        "# continue this to prompt for variables c and d\n",
        "\n",
        "# change the next line to display the full polynomial\n",
        "y = a*x**3 + b*x**2 + c*x + d\n",
        "\n",
        "print(\"Here is your equation:\")\n",
        "display(Math(\"y = \" + latex(y)))\n",
        "\n",
        "\n",
        "# Only change code above this line\n",
        "import math_code_test_c as test\n",
        "test.step05(In[-1].split('# Only change code above this line')[0])"
      ],
      "execution_count": 8,
      "outputs": [
        {
          "output_type": "stream",
          "name": "stdout",
          "text": [
            "Enter coefficient A: 4\n",
            "Enter coefficient B: 2\n",
            "Enter coefficient C: 5\n",
            "Enter coefficient D: 3\n",
            "Here is your equation:\n"
          ]
        },
        {
          "output_type": "display_data",
          "data": {
            "text/plain": [
              "<IPython.core.display.Math object>"
            ],
            "text/latex": "$\\displaystyle y = 4 x^{3} + 2 x^{2} + 5 x + 3$"
          },
          "metadata": {}
        },
        {
          "output_type": "stream",
          "name": "stdout",
          "text": [
            " \n",
            "Code test passed\n",
            "Go on to the next step\n"
          ]
        }
      ]
    },
    {
      "cell_type": "markdown",
      "metadata": {
        "id": "yoavB8H_ljVn"
      },
      "source": [
        "# Step 6 - Interactive Polynomial Graph"
      ]
    },
    {
      "cell_type": "markdown",
      "metadata": {
        "id": "3yk-TKO6ljVo"
      },
      "source": [
        "For this polynomial, y = ax<sup>2</sup> + bx + c, you can move the sliders to adjust the coefficients and see how that affects the graph. Notice how the `f()` function takes two arguments and the `interactive()` function defines two sliders. Run this code and interact with it. Then add the third coefficient (\"c\") by changing three things: the `def` line so that the function takes three arguments, the `plt.plot` line so that it includes \"+ c\", and the `interactive` line to include a third slider."
      ]
    },
    {
      "cell_type": "code",
      "metadata": {
        "id": "sOecWXLOljVo",
        "colab": {
          "base_uri": "https://localhost:8080/",
          "height": 586,
          "referenced_widgets": [
            "1b6f6c59792f41f390402b3a9bea3702",
            "df654755e0e846e8bae531514e8f93cb",
            "8a7b1a7b0f7c4bef8b83421fdacac36d",
            "23a52d5260a2429bb8a2f513b075907b",
            "a6d06986449943f499eb37ae8d1c5cab",
            "976d6051bda84afa893c05dc6f664f7d",
            "483829bc7ecf4fbba6d0171e42b90efb",
            "7bbcf56f072b4daa9967fdc25a9af470",
            "221c45652abd46ad8faf237886c3f5d0",
            "b55fd417ab5b408b8ce3e98b81da1f3c",
            "ccaf27a73fe64863941cf38e31346946",
            "8a3cb455ee784bb2988e97b89edf6eef",
            "1913d49c7fd74b1e9cf88786fe49ca54"
          ]
        },
        "outputId": "96980eb4-5dcc-40b7-c2c2-d33b0ef42fc6"
      },
      "source": [
        "%matplotlib inline\n",
        "from ipywidgets import interactive\n",
        "import matplotlib.pyplot as plt\n",
        "import numpy as np\n",
        "\n",
        "# Change the next line:\n",
        "def f(a, b, c):\n",
        "    plt.axis([-10,10,-10,10]) # window size\n",
        "    plt.plot([-10,10],[0,0],'k') # blue x axis\n",
        "    plt.plot([0,0],[-10,10], 'k') # blue y axis\n",
        "    x = np.linspace(-10, 10, 200)\n",
        "    plt.plot(x, a*x**2+b*x+c) # Change this line\n",
        "    plt.show()\n",
        "\n",
        "# Change the next line:\n",
        "interactive_plot = interactive(f, a=(-9, 9), b=(-9, 9), c=(-9, 9))\n",
        "display(interactive_plot)\n",
        "\n",
        "\n",
        "# Only change code above this line\n",
        "import math_code_test_c as test\n",
        "test.step06(In[-1].split('# Only change code above this line')[0])"
      ],
      "execution_count": 9,
      "outputs": [
        {
          "output_type": "display_data",
          "data": {
            "text/plain": [
              "interactive(children=(IntSlider(value=0, description='a', max=9, min=-9), IntSlider(value=0, description='b', …"
            ],
            "application/vnd.jupyter.widget-view+json": {
              "version_major": 2,
              "version_minor": 0,
              "model_id": "1b6f6c59792f41f390402b3a9bea3702"
            }
          },
          "metadata": {}
        },
        {
          "output_type": "stream",
          "name": "stdout",
          "text": [
            " \n",
            "Code test passed\n",
            "Go on to the next step\n"
          ]
        }
      ]
    },
    {
      "cell_type": "markdown",
      "metadata": {
        "id": "MlRfYVIylkQf"
      },
      "source": [
        "# Step 7 - Exponential Functions"
      ]
    },
    {
      "cell_type": "markdown",
      "metadata": {
        "id": "H16dtXc0lkQg"
      },
      "source": [
        "The general formula for an `exponential function` is $y = a*b^{x}$ (where `a` and `b` are constants and `x` is the variable in the exponent). The shape of exponential graphs, especially when not drawn to scale, are very consistent, so the numerical values are more important to calculate. Things that grow exponentially include populations, investments, and other \"percent increase\" situations. Run this code and use the sliders to see the slight changes. Notice the scale. Then change the slider so that `a` has negative values from -9 to -1 and see how that changes the graph."
      ]
    },
    {
      "cell_type": "code",
      "metadata": {
        "id": "8KIMFu7LlkQg",
        "colab": {
          "base_uri": "https://localhost:8080/",
          "height": 173,
          "referenced_widgets": [
            "ce57ec1724674d4b88e49a39acd2a013",
            "9fbcc9aaf5dd4fb693510a31ae50ff40",
            "a9df79db5c854d038a0b5ec5c9d383ff",
            "3174455fc5bb48c19cda137f7c39bb39",
            "813d40edff374647ae05e15dd84655d9",
            "142960edda01413ebfc55791005f18f9",
            "71a60fe5426c484e9a30d1e7583c6a79",
            "82e1fb88680447a0bb527e2410864501",
            "c10dc80906724f99844412c13b1f5631",
            "46a16cadacfa439e92941aed741f289e"
          ]
        },
        "outputId": "77e448d7-6a5b-4556-f210-f91658e8e491"
      },
      "source": [
        "%matplotlib inline\n",
        "from ipywidgets import interactive\n",
        "import matplotlib.pyplot as plt\n",
        "import numpy as np\n",
        "\n",
        "xmin = -10\n",
        "xmax = 10\n",
        "ymin = -100\n",
        "ymax = 100\n",
        "\n",
        "def f(a, b):\n",
        "    plt.axis([xmin,xmax,ymin,ymax]) # window size\n",
        "    plt.plot([xmin,xmax],[0,0],'k') # x axis\n",
        "    plt.plot([0,0],[ymin,ymax], 'k') # y axis\n",
        "    x = np.linspace(xmin, xmax, 1000)\n",
        "    plt.plot(x, a*b**x)\n",
        "    plt.show()\n",
        "\n",
        "# Only change the next line:\n",
        "interactive_plot = interactive(f, a=(-9,-1), b=(1, 9))\n",
        "display(interactive_plot)\n",
        "\n",
        "\n",
        "# Only change code above this line\n",
        "import math_code_test_c as test\n",
        "test.step07(In[-1].split('# Only change code above this line')[0])"
      ],
      "execution_count": 10,
      "outputs": [
        {
          "output_type": "display_data",
          "data": {
            "text/plain": [
              "interactive(children=(IntSlider(value=-5, description='a', max=-1, min=-9), IntSlider(value=5, description='b'…"
            ],
            "application/vnd.jupyter.widget-view+json": {
              "version_major": 2,
              "version_minor": 0,
              "model_id": "ce57ec1724674d4b88e49a39acd2a013"
            }
          },
          "metadata": {}
        },
        {
          "output_type": "stream",
          "name": "stdout",
          "text": [
            " \n",
            "Code test passed\n",
            "Go on to the next step\n"
          ]
        }
      ]
    },
    {
      "cell_type": "markdown",
      "metadata": {
        "id": "NGH1FcttllvS"
      },
      "source": [
        "# Step 8 - Percent Increase"
      ]
    },
    {
      "cell_type": "markdown",
      "metadata": {
        "id": "KLKYiioGllvT"
      },
      "source": [
        "One formula for calculating a percent increase is <b>A = P(1 + r)<sup>t</sup></b> where `A` would be the `y` value on a graph and `t` would be the `x` value. `A` is the <i>annuity</i>, which is the amount you have at the end. `P` is the <i>principle</i>, which is the amount you have at the beginning. `R` (usually not capitalized) is the <i>rate</i>, a percent converted to a decimal. The exponent `t` represents <i>time</i>, usually in years. The code already prompts for `P`, `r` and `t`, so use those variables to calculate the annuity value."
      ]
    },
    {
      "cell_type": "code",
      "metadata": {
        "id": "Vkp6zmxIllvT",
        "colab": {
          "base_uri": "https://localhost:8080/"
        },
        "outputId": "7fd2359b-2b2b-4e45-d998-1740972c92fc"
      },
      "source": [
        "p = float(input(\"Starting amount = \"))\n",
        "r = float(input(\"Enter the percentage rate, converted to a decimal: \"))\n",
        "t = float(input(\"How many years will this investment grow? \"))\n",
        "\n",
        "# Change the next line to calculate the annuity\n",
        "a = p*(1+r)**t\n",
        "\n",
        "print(\"The annuity is \", a)\n",
        "\n",
        "\n",
        "# Only change code above this line\n",
        "import math_code_test_c as test\n",
        "test.step08(In[-1].split('# Only change code above this line')[0])"
      ],
      "execution_count": 11,
      "outputs": [
        {
          "output_type": "stream",
          "name": "stdout",
          "text": [
            "Starting amount = 2000\n",
            "Enter the percentage rate, converted to a decimal: .025\n",
            "How many years will this investment grow? 10\n",
            "The annuity is  2560.169088392713\n",
            " \n",
            "Code test passed\n",
            "Go on to the next step\n"
          ]
        }
      ]
    },
    {
      "cell_type": "markdown",
      "metadata": {
        "id": "Sx0kwIdalmmY"
      },
      "source": [
        "# Step 9 - Percent Decrease"
      ]
    },
    {
      "cell_type": "markdown",
      "metadata": {
        "id": "Wx7fXQDKlmmZ"
      },
      "source": [
        "The percent decrease formula is very similar, except you subtract the rate, so the formula is <b>A = P(1 - r)<sup>t</sup></b>. Some things that decrease by a percent include car values, decay of some elements, and sales discounts. Use the existing variables to calculate the final value (`a`)."
      ]
    },
    {
      "cell_type": "code",
      "metadata": {
        "id": "zJmQoa6YlmmZ",
        "colab": {
          "base_uri": "https://localhost:8080/"
        },
        "outputId": "8a33631a-c430-48e5-c830-1cf8bcb93f71"
      },
      "source": [
        "p = float(input(\"Starting amount = \"))\n",
        "r = float(input(\"Enter the percentage rate, converted to a decimal: \"))\n",
        "t = float(input(\"How many years will this decrease continue? \"))\n",
        "\n",
        "# Change the next line to calculate the final amount\n",
        "a = p*(1-r)**t\n",
        "\n",
        "print(\"The final amount is \", a)\n",
        "\n",
        "# Only change code above this line\n",
        "import math_code_test_c as test\n",
        "test.step09(In[-1].split('# Only change code above this line')[0])"
      ],
      "execution_count": 12,
      "outputs": [
        {
          "output_type": "stream",
          "name": "stdout",
          "text": [
            "Starting amount = 2000\n",
            "Enter the percentage rate, converted to a decimal: .025\n",
            "How many years will this decrease continue? 10\n",
            "The final amount is  1552.6592417128752\n",
            " \n",
            "Code test passed\n",
            "Go on to the next step\n"
          ]
        }
      ]
    },
    {
      "cell_type": "markdown",
      "source": [
        "#Step 10 - Compound Interest"
      ],
      "metadata": {
        "id": "S-DVSzwDvKvE"
      }
    },
    {
      "cell_type": "markdown",
      "source": [
        "When you use percent increase formulas for money in the bank, it's called <i>compound interest</i>. The amount of money you earn beyond the original principle is the interest. When the bank calculates the interest and adds it to the principle, that process is called <i>compounding</i> and it can happen any number of times per year. The formula is <b> A = P(1 + $\\frac{r}{n}$)<sup>nt</sup></b> where <i>n</i> is the number of times the bank compounds the money per year. Notice that if n = 1 then this formula is the same as the formula from an earlier step. Write the code to calculate the annuity (hint: use extra parentheses)."
      ],
      "metadata": {
        "id": "qf181QFOvCgd"
      }
    },
    {
      "cell_type": "code",
      "source": [
        "p = float(input(\"Starting amount: \"))\n",
        "r = float(input(\"Percentage rate, converted to a decimal: \"))\n",
        "t = float(input(\"Number of years this investment will grow: \"))\n",
        "n = int(input(\"Number of times compounded per year: \"))\n",
        "\n",
        "# Change the next line to calculate the annuity\n",
        "annuity = p*(1+(r/n))**(n*t)\n",
        "\n",
        "print(\"The annuity is \", annuity)\n",
        "\n",
        "\n",
        "# Only change code above this line\n",
        "import math_code_test_c as test\n",
        "test.step10(In[-1].split('# Only change code above this line')[0])"
      ],
      "metadata": {
        "id": "O0FAXixVvGXh",
        "colab": {
          "base_uri": "https://localhost:8080/"
        },
        "outputId": "7e69ab3c-75b2-43bd-b589-d51dca9acd5e"
      },
      "execution_count": 13,
      "outputs": [
        {
          "output_type": "stream",
          "name": "stdout",
          "text": [
            "Starting amount: 20000\n",
            "Percentage rate, converted to a decimal: .025\n",
            "Number of years this investment will grow: 10\n",
            "Number of times compounded per year: 4\n",
            "The annuity is  25660.53641230403\n",
            " \n",
            "Code test passed\n",
            "Go on to the next step\n"
          ]
        }
      ]
    },
    {
      "cell_type": "markdown",
      "metadata": {
        "id": "H6LTAPYplxvi"
      },
      "source": [
        "# Step 11 - Continuous Growth"
      ]
    },
    {
      "cell_type": "markdown",
      "metadata": {
        "id": "5oRPxD6olxvi"
      },
      "source": [
        "In the first formula, A = P(1 + r)<sup>t</sup>, money is compounded annually.<br>\n",
        "In the second formula, A = P(1 + $\\frac{r}{n})^{nt}$, money is compounded `n` times per year.<br>\n",
        "As `n` gets to be a really big number, you get a different formula, A = Pe$^{rt}$, for continuous growth.<br>\n",
        "In this formula, `e` is a constant, about equal to 2.718281828. The following code already prompts for the four variables once. Use those variables to compare the annuity from the three formulas. Notice you need to `import math` to use `math.e` (the best approximation of e)."
      ]
    },
    {
      "cell_type": "code",
      "metadata": {
        "id": "kf3Q0Yg7lxvk",
        "colab": {
          "base_uri": "https://localhost:8080/"
        },
        "outputId": "e55b345c-cb64-47a4-fe8c-a2364c8439e8"
      },
      "source": [
        "import math\n",
        "\n",
        "p = float(input(\"Principle: \"))\n",
        "r = float(input(\"Rate: \"))\n",
        "t = int(input(\"Time: \"))\n",
        "n = int(input(\"N: \"))\n",
        "\n",
        "# Only change the following three formulas:\n",
        "a_annual = p*(1+r)**t\n",
        "a_n_times = p*(1+r/n)**(n*t)\n",
        "a_continuous = p*math.e**(r*t) # use math.e in this formula\n",
        "\n",
        "# Only change the code above this line\n",
        "\n",
        "print(\"Compounded annually, anuity = \", a_annual)\n",
        "print(\"Compounded \", n, \"times per year, anuity = \", a_n_times)\n",
        "print(\"Compounded continuously, anuity = \", a_continuous)\n",
        "\n",
        "\n",
        "# Only change code above this line\n",
        "import math_code_test_c as test\n",
        "test.step11(In[-1].split('# Only change code above this line')[0])"
      ],
      "execution_count": 18,
      "outputs": [
        {
          "output_type": "stream",
          "name": "stdout",
          "text": [
            "Principle: 20000\n",
            "Rate: .025\n",
            "Time: 6\n",
            "N: 21\n",
            "Compounded annually, anuity =  23193.8683642578\n",
            "Compounded  21 times per year, anuity =  23234.611888153624\n",
            "Compounded continuously, anuity =  23236.68485456566\n",
            " \n",
            "Code test passed\n",
            "Go on to the next step\n"
          ]
        }
      ]
    },
    {
      "cell_type": "markdown",
      "metadata": {
        "id": "iaEBltZXln-Q"
      },
      "source": [
        "# Step 12 - Investments"
      ]
    },
    {
      "cell_type": "markdown",
      "source": [
        "If you have an investment where you contrubute money every month and the value also increases by a consistent percentage, you can create a loop to calculate the accumulated value. In each iteration, use the <i>simple interest</i> formula: interest = principle * rate * time. (Hint: for one month, t = $\\frac{1}{12}$ or you can just divide by 12.)"
      ],
      "metadata": {
        "id": "JTQ9uZw3UeGT"
      }
    },
    {
      "cell_type": "code",
      "metadata": {
        "id": "t7sRzH5Oln-R",
        "colab": {
          "base_uri": "https://localhost:8080/"
        },
        "outputId": "8ecbb736-e00f-4dc4-fe0f-e736db0cf71e"
      },
      "source": [
        "p = float(input(\"Starting amount: \"))\n",
        "r = float(input(\"Annual percentage rate: \"))\n",
        "t = int(input(\"Number of years: \"))\n",
        "monthly = float(input(\"Monthly contribution: \"))\n",
        "\n",
        "# Hint: keep updating this annuity variable in the loop\n",
        "annuity = p\n",
        "\n",
        "# Each iteration of the loop represents one month\n",
        "for a in range(12*t):\n",
        "    annuity = annuity + monthly\n",
        "    # Change the next line to calculate the interest\n",
        "    interest = annuity*r/12\n",
        "    annuity = annuity + interest\n",
        "\n",
        "# Keep this line:\n",
        "print(\"Annuity = \", annuity)\n",
        "\n",
        "\n",
        "# Only change code above this line\n",
        "import math_code_test_c as test\n",
        "test.step12(p,r,t,monthly,annuity)"
      ],
      "execution_count": 15,
      "outputs": [
        {
          "output_type": "stream",
          "name": "stdout",
          "text": [
            "Starting amount: 4000\n",
            "Annual percentage rate: .25\n",
            "Number of years: 7\n",
            "Monthly contribution: 2\n",
            "Annuity =  23064.142911933894\n",
            " \n",
            "Code test passed\n",
            "Go on to the next step\n"
          ]
        }
      ]
    },
    {
      "cell_type": "markdown",
      "metadata": {
        "id": "l5GwlqRdlpEu"
      },
      "source": [
        "# Step 13 - Mortgage Payments"
      ]
    },
    {
      "cell_type": "markdown",
      "metadata": {
        "id": "50OH4hj8lpEv"
      },
      "source": [
        "When borrowing a large amount of money over a long period of time, the formula to calculate monthly payments gets complicated. Here it is:<br>\n",
        " monthly payment = P$\\frac{\\frac{r}{12}(1 + \\frac{r}{12})^{12t}}{(1 + \\frac{r}{12})^{12t} - 1}$ where, as usual, `P` is the principle, `r` is the annual interest rate (as a decimal), and  `t` is the time in years. Write the code to prompt for these variables and calculate the monthly payment. Hint: Use other variables and do this in steps."
      ]
    },
    {
      "cell_type": "code",
      "metadata": {
        "id": "E5X8_WbnlpEv",
        "colab": {
          "base_uri": "https://localhost:8080/"
        },
        "outputId": "c7995873-653a-4ed1-bcdf-df1468e2c483"
      },
      "source": [
        "p = float(input(\"Amount borrowed: \"))\n",
        "r = float(input(\"Annual percentage rate: \"))\n",
        "t = float(input(\"Number of years: \"))\n",
        "\n",
        "# Write your code here and change the pmt variable\n",
        "mult = 1+r/12\n",
        "exp = 12*t\n",
        "top = r/12*mult**exp\n",
        "bot = (mult**exp)-1\n",
        "pmt = top/bot\n",
        "\n",
        "\n",
        "print(\"Monthly payment = $\", pmt)\n",
        "\n",
        "\n",
        "# Only change code above this line\n",
        "import math_code_test_c as test\n",
        "test.step13(p,r,t,pmt)"
      ],
      "execution_count": 19,
      "outputs": [
        {
          "output_type": "stream",
          "name": "stdout",
          "text": [
            "Amount borrowed: 20000\n",
            "Annual percentage rate: .025\n",
            "Number of years: 10\n",
            "Monthly payment = $ 0.009426990170396044\n",
            " \n",
            "Here is one way to write the code, using extra variables:\n",
            "mult = 1+r/12\n",
            "exp = 12*t\n",
            "top = r/12*mult**exp\n",
            "bot = (mult**exp)-1\n",
            "pmt = top/bot\n"
          ]
        }
      ]
    },
    {
      "cell_type": "markdown",
      "metadata": {
        "id": "8vdTo36Pl0yv"
      },
      "source": [
        "# Step 14 - Exponents and Logarithms"
      ]
    },
    {
      "cell_type": "markdown",
      "metadata": {
        "id": "gyMju8CVl0yw"
      },
      "source": [
        "Exponential functions and logarithmic functions are inverses of each other. Here is an example: <b>2<sup>4</sup> = 16</b> and <b>log<sub>2</sub>16 = 4</b>. Both have the same information rearranged in different ways. If you had 2<sup>4</sup> = x you would be able to do that easily, but if you had 2<sup>x</sup> = 16 it would be more difficult. You could write that last equation as a logarithm: log<sub>2</sub>16 = x. In Python, you would write this as `math.log(16,2)`. In both cases, you would read it as \"the log, base 2, of 16\" and the answer would be an exponent. The logarithm is especially useful when the exponent is not a nice integer. Write code to prompt for the base and the result, then use logarithms to calculate the exponent."
      ]
    },
    {
      "cell_type": "code",
      "metadata": {
        "id": "ehtA_ATbl0yw",
        "colab": {
          "base_uri": "https://localhost:8080/"
        },
        "outputId": "183196a9-705c-4568-ebe0-3652e68550d0"
      },
      "source": [
        "import math\n",
        "\n",
        "base = float(input(\"base: \"))\n",
        "result = float(input(\"result: \"))\n",
        "\n",
        "# Just change the next line:\n",
        "exp = math.log(result,base)\n",
        "\n",
        "print(\"exponent = \", exp)\n",
        "\n",
        "\n",
        "# Only change code above this line\n",
        "import math_code_test_c as test\n",
        "test.step14(In[-1].split('# Only change code above this line')[0])"
      ],
      "execution_count": 20,
      "outputs": [
        {
          "output_type": "stream",
          "name": "stdout",
          "text": [
            "base: 2\n",
            "result: 16\n",
            "exponent =  4.0\n",
            " \n",
            "Code test passed\n",
            "Go on to the next step\n"
          ]
        }
      ]
    },
    {
      "cell_type": "markdown",
      "metadata": {
        "id": "U_7bv7aG4UJe"
      },
      "source": [
        "# Step 15 - Natural Logs"
      ]
    },
    {
      "cell_type": "markdown",
      "metadata": {
        "id": "uKjifZw04UJe"
      },
      "source": [
        "If you know the rate, how long will it take for something to double?\n",
        "Start with the continuous growth formula:<br>\n",
        "A = Pe<sup>rt</sup><br>\n",
        "If annuity is two times the principle, divide both sides by P\n",
        "and get this:<br>\n",
        "2 = e<sup>rt</sup><br>\n",
        "Because of the base <i>e</i>, take the natural log of both sides and get this:<br>\n",
        "ln(2) = rt<br>\n",
        "Then divide by r to solve for t or divide by t to solve for r. In Python, use `math.log()` with one argument and no base to calculate natural log (which is a logarithm with base e). So the natural log of 2 is `math.log(2)`. Just run the code to see this example."
      ]
    },
    {
      "cell_type": "code",
      "metadata": {
        "id": "dM3RxByK4UJe",
        "colab": {
          "base_uri": "https://localhost:8080/"
        },
        "outputId": "5beecfef-200a-4fd9-9dcf-a1093b11aa4b"
      },
      "source": [
        "import math\n",
        "\n",
        "r = float(input(\"Enter the annual rate as a decimal: \\n\"))\n",
        "t = math.log(2)/r\n",
        "print(\"Your money will double in \", t, \" years\")\n",
        "\n",
        "\n",
        "# Just run this code\n",
        "import math_code_test_c as test\n",
        "test.step00()"
      ],
      "execution_count": 21,
      "outputs": [
        {
          "output_type": "stream",
          "name": "stdout",
          "text": [
            "Enter the annual rate as a decimal: \n",
            ".025\n",
            "Your money will double in  27.72588722239781  years\n",
            "Code test passed\n",
            "Go on to the next step\n"
          ]
        }
      ]
    },
    {
      "cell_type": "markdown",
      "metadata": {
        "id": "B7DOz9nh4XAb"
      },
      "source": [
        "# Step 16 - Common Logs"
      ]
    },
    {
      "cell_type": "markdown",
      "metadata": {
        "id": "MD3dH5yF4XAb"
      },
      "source": [
        "The <i>common log</i> is base 10, because that is our number system. Run this code a few times to see how the exponents relate to moving the decimal point to get the resulting number. Notice the floor function. Then take out the floor function to see the exact logarithm."
      ]
    },
    {
      "cell_type": "code",
      "metadata": {
        "id": "n390hG0GcEXI",
        "colab": {
          "base_uri": "https://localhost:8080/"
        },
        "outputId": "153222b8-83be-4513-e3f6-222bffc9b515"
      },
      "source": [
        "import math\n",
        "\n",
        "n = input('Enter a number with several digits or several decimal places: ')\n",
        "n = float(n)\n",
        "\n",
        "\n",
        "# Rund the code then change the next line:\n",
        "exp = math.log(n, 10)\n",
        "\n",
        "# This avoids a weird Python quirk:\n",
        "if n==1000:\n",
        "    exp = 3\n",
        "\n",
        "print(\"exponent = \", exp)\n",
        "\n",
        "\n",
        "# Only change code above this line\n",
        "import math_code_test_c as test\n",
        "test.step16(In[-1].split('# Only change code above this line')[0])"
      ],
      "execution_count": 22,
      "outputs": [
        {
          "output_type": "stream",
          "name": "stdout",
          "text": [
            "Enter a number with several digits or several decimal places: .01111\n",
            "exponent =  -1.9542859410591322\n",
            " \n",
            "Code test passed\n",
            "Go on to the next step\n"
          ]
        }
      ]
    },
    {
      "cell_type": "markdown",
      "metadata": {
        "id": "cqvLtj7t4VMN"
      },
      "source": [
        "# Step 17 - Scientific Notation"
      ]
    },
    {
      "cell_type": "markdown",
      "metadata": {
        "id": "-Uh4YmRt4VMN"
      },
      "source": [
        "<i>Scientific Notation</i> is a way of writing very large or very small numbers without all of the zeros or decimal places. For example, 45,000,000 could be written as 4.5 x 10<sup>7</sup> in scientific notation and 0.00000045 could be written as 4.5 x 10<sup>-7</sup>. The notation requires base 10, so it will always use the structure <b>n $*$ 10<sup>x</sup></b> where n is one digit then the decimal point. Change the code below to print each number in scientific notation. Determine the value of each variable by counting (not writing code). You will automate this process in the next step."
      ]
    },
    {
      "cell_type": "code",
      "metadata": {
        "id": "UyPF6dKz4VMO",
        "colab": {
          "base_uri": "https://localhost:8080/"
        },
        "outputId": "13325ba3-d452-497c-ece0-a896871df035"
      },
      "source": [
        "a = 156000000000\n",
        "b = 0.000000000413\n",
        "\n",
        "# Change the code below this line\n",
        "\n",
        "a1 = 1.56\n",
        "a2 = 11\n",
        "b1 = 4.13\n",
        "b2 = -10\n",
        "\n",
        "print(a, \" = \", a1, \"* 10^\", a2)\n",
        "\n",
        "print(b, \" = \", b1, \"* 10^\", b2)\n",
        "\n",
        "\n",
        "# Only change code above this line\n",
        "import math_code_test_c as test\n",
        "test.step17(b1,b2)"
      ],
      "execution_count": 23,
      "outputs": [
        {
          "output_type": "stream",
          "name": "stdout",
          "text": [
            "156000000000  =  1.56 * 10^ 11\n",
            "4.13e-10  =  4.13 * 10^ -10\n",
            " \n",
            "Code test passed\n",
            "Go on to the next step\n"
          ]
        }
      ]
    },
    {
      "cell_type": "markdown",
      "metadata": {
        "id": "GsLj1NhZl1ya"
      },
      "source": [
        "#Step 18 - Logs and Scientific Notation"
      ]
    },
    {
      "cell_type": "markdown",
      "metadata": {
        "id": "uhWbIGVml1yb"
      },
      "source": [
        "Writing code for scientific notation, you will make use of logarithms with base 10. Remember that scientific notation is in the form n $*$ 10<sup>x</sup> where `n` is one digit and then a decimal. To convert a number to scientific notation, take the log of the number and use the `floor()` function to get the expoenent (just as you did in a previous step). Divide the original number by 10 to that exponent and you get `n` (hint: dividing by 10<sup>x</sup> is the same as multiplying by 10<sup>-x</sup>). Rounding is usually necessary. Write the code to convert numbers to scientific notation."
      ]
    },
    {
      "cell_type": "code",
      "metadata": {
        "id": "y8PXrFCYl1yb",
        "colab": {
          "base_uri": "https://localhost:8080/"
        },
        "outputId": "17fd1ccb-ea12-4764-8cbf-cee48628fd28"
      },
      "source": [
        "import math\n",
        "\n",
        "a = .00000000000234\n",
        "b = 12300000000000\n",
        "\n",
        "# Use these three lines as a model\n",
        "x1 = math.floor(math.log(a,10))\n",
        "n1 = round(a*10**(-x1),2)\n",
        "print(\"a = \", n1, \"* 10^\", x1)\n",
        "\n",
        "# Change the next two lines to match the model\n",
        "x2 = math.floor(math.log(b,10))\n",
        "n2 = round(b*10**(-x2),2)\n",
        "print(\"b = \", n2, \"* 10^\", x2)\n",
        "\n",
        "\n",
        "\n",
        "# Only change code above this line\n",
        "import math_code_test_c as test\n",
        "test.step18(In[-1].split('# Only change code above this line')[0])"
      ],
      "execution_count": 24,
      "outputs": [
        {
          "output_type": "stream",
          "name": "stdout",
          "text": [
            "a =  2.34 * 10^ -12\n",
            "b =  1.23 * 10^ 13\n",
            " \n",
            "Code test passed\n",
            "Go on to the next step\n"
          ]
        }
      ]
    },
    {
      "cell_type": "markdown",
      "metadata": {
        "id": "d7Lc9KfMYU8Y"
      },
      "source": [
        "# Step 19 - Scientific Notation Conversion"
      ]
    },
    {
      "cell_type": "markdown",
      "metadata": {
        "id": "21gdVKfeYc5R"
      },
      "source": [
        "Now ask for a number as input, and write the code to convert that number into scientific notation. You can re-use code you used in the previous step, using `n` and `x` as variables to print n * 10^x."
      ]
    },
    {
      "cell_type": "code",
      "metadata": {
        "id": "VkOkpmrP4XAb",
        "colab": {
          "base_uri": "https://localhost:8080/"
        },
        "outputId": "6db083cd-46fc-4b39-c5df-79ce04787f40"
      },
      "source": [
        "import math\n",
        "\n",
        "a = float(input('Enter a number to convert to scientific notation: '))\n",
        "\n",
        "# write your code here\n",
        "x = math.floor(math.log(a,10))\n",
        "n = round(a*10**(-x),2)\n",
        "print(a, \" = \",n,'* 10^',x)\n",
        "\n",
        "# Only change code above this line\n",
        "import math_code_test_c as test\n",
        "test.step19(In[-1].split('# Only change code above this line')[0])"
      ],
      "execution_count": 25,
      "outputs": [
        {
          "output_type": "stream",
          "name": "stdout",
          "text": [
            "Enter a number to convert to scientific notation: 1000002\n",
            "1000002.0  =  1.0 * 10^ 6\n",
            " \n",
            "Code test passed\n",
            "Go on to the next step\n"
          ]
        }
      ]
    },
    {
      "cell_type": "markdown",
      "metadata": {
        "id": "VkD30ljxlyw9"
      },
      "source": [
        "# Step 20 - Graphing Exponents and Logs"
      ]
    },
    {
      "cell_type": "markdown",
      "metadata": {
        "id": "A7YL0fIdlyw-"
      },
      "source": [
        "When not writing code, the <i>natural log</i> is written as \"ln\" and it means a logarithm with base e. Like any pair of inverse functions, the line y = e<sup>x</sup> and the line y = ln(x) are mirrored over the line y = x.  Because of the `np.linspace()` function in this code, `np.log()` works, but `math.log()` does not work here. Both log() functions in Python use e as the base by default. When using the `numpy` library, use `np.log10()` for base 10, `np.log2()` for base 2, etc. Because log functions can only have positive x values, the np.linspace() function will define a positive range for the log() function. Run this code, then change the blue line function to graph y = 2<sup>x</sup> and change the green line function to graph y = log<sub>2</sub>x and notice the similarities between the graphs."
      ]
    },
    {
      "cell_type": "code",
      "metadata": {
        "id": "fJiDmoW1lyw_",
        "colab": {
          "base_uri": "https://localhost:8080/",
          "height": 490
        },
        "outputId": "dae751fd-e0fd-4d90-ebfb-e6065f0a66fd"
      },
      "source": [
        "import matplotlib.pyplot as plt\n",
        "import numpy as np\n",
        "import math\n",
        "\n",
        "xmin = -10\n",
        "xmax = 10\n",
        "ymin = -10\n",
        "ymax = 10\n",
        "plt.axis([xmin,xmax,ymin,ymax]) # window size\n",
        "plt.plot([xmin,xmax],[0,0],'k') # x axis\n",
        "plt.plot([0,0],[ymin,ymax], 'k') # y axis\n",
        "\n",
        "# Same x values for two lines\n",
        "x1 = np.linspace(xmin, xmax, 1000)\n",
        "\n",
        "# Blue line for y = e^x\n",
        "plt.plot(x1, 2**x1, 'b')  # Change this line\n",
        "\n",
        "# Red line for y = x\n",
        "plt.plot(x1, x1, 'r')\n",
        "\n",
        "# Different x values for y = log(x) because x > 0\n",
        "x2 = np.linspace(.001, xmax, 500)\n",
        "\n",
        "# Green line for y = log(x)\n",
        "plt.plot(x2, np.log2(x2), 'g')  # Change this line\n",
        "\n",
        "plt.show()\n",
        "\n",
        "\n",
        "# Only change code above this line\n",
        "import math_code_test_c as test\n",
        "test.step20(In[-1].split('# Only change code above this line')[0])"
      ],
      "execution_count": 26,
      "outputs": [
        {
          "output_type": "display_data",
          "data": {
            "text/plain": [
              "<Figure size 640x480 with 1 Axes>"
            ],
            "image/png": "[encoded data removed]"
          },
          "metadata": {}
        },
        {
          "output_type": "stream",
          "name": "stdout",
          "text": [
            " \n",
            "Code test passed\n",
            "Go on to the next step\n"
          ]
        }
      ]
    },
    {
      "cell_type": "markdown",
      "metadata": {
        "id": "bJzxcKIfz8Qt"
      },
      "source": [
        "# Step 21 - Log Application - pH Scale"
      ]
    },
    {
      "cell_type": "markdown",
      "metadata": {
        "id": "pfF3voqSz8Q9"
      },
      "source": [
        "The pH scale, for measuring acids and bases, is a logarithmic scale. The negative log of the hydrogen concentration is the pH. Example: if the hydrogen concentration is .007 then that would be 7 * 10<sup>-3</sup> and therefore a pH of 3. Write the code to prompt for hydrogen concentration and then print the pH. Hint: the <i>ceiling</i> function (`math.ceil()`) works better than rounding here."
      ]
    },
    {
      "cell_type": "code",
      "metadata": {
        "id": "tepkvSubz8Q9",
        "colab": {
          "base_uri": "https://localhost:8080/"
        },
        "outputId": "f3b9eaf9-1a58-40d3-fa73-54f4e1a2165d"
      },
      "source": [
        "import math\n",
        "\n",
        "decimal = float(input(\"Enter the hydrogen concentration as a decimal number: \"))\n",
        "\n",
        "# Write your code here\n",
        "h = math.ceil(-math.log(decimal,10))\n",
        "\n",
        "print(\"pH = \", h)\n",
        "\n",
        "# Only change code above this line\n",
        "import math_code_test_c as test\n",
        "test.step21(In[-1].split('# Only change code above this line')[0])"
      ],
      "execution_count": 27,
      "outputs": [
        {
          "output_type": "stream",
          "name": "stdout",
          "text": [
            "Enter the hydrogen concentration as a decimal number: .01111\n",
            "pH =  2\n",
            " \n",
            "Code test passed\n"
          ]
        }
      ]
    },
    {
      "cell_type": "markdown",
      "source": [
        "# Step 22 - Functions for the Project"
      ],
      "metadata": {
        "id": "8iWUAktvPLYp"
      }
    },
    {
      "cell_type": "markdown",
      "source": [
        "Define a function for calculating mortgage payments and a function for calculating investment balance. Use code you wrote in earlier steps. Each function should prompt for input and print the output."
      ],
      "metadata": {
        "id": "a9gRwbr-PGPC"
      }
    },
    {
      "cell_type": "code",
      "source": [
        "import matplotlib.pyplot as plt\n",
        "\n",
        "def mortgagePayment():\n",
        "    print('Mortgage Payment')\n",
        "\n",
        "    p = float(input(\"Amount Borrowed: \"))\n",
        "    r = float(input(\"Annual Percentage Rate, as Decimal: \"))\n",
        "    t = float(input(\"Number of Years: \"))\n",
        "\n",
        "    n = r/12*(1+r/12)**(12*t)\n",
        "    d = ((1+r/12)**(12*t))-1\n",
        "    pmt = n/d\n",
        "\n",
        "    print(f\"Monthly Payment = ${pmt:.02f}\")\n",
        "\n",
        "def investmentBalance():\n",
        "    print('Your Investment')\n",
        "\n",
        "    p = float(input(\"Starting Amount: \"))\n",
        "    r = float(input(\"Annual Percentage Rate, as Decimal: \"))\n",
        "    t = int(input(\"Number of Years: \"))\n",
        "    monthly = float(input(\"Your Monthly Contribution: \"))\n",
        "\n",
        "    # Hint: keep updating this annuity variable in the loop\n",
        "    annuity = p\n",
        "\n",
        "    months:list = []\n",
        "    annuities:list = []\n",
        "\n",
        "    # Each iteration of the loop represents one month\n",
        "    for a in range(12*t):\n",
        "        annuity = annuity + monthly\n",
        "        interest = annuity*r/12\n",
        "        annuity = annuity + interest\n",
        "\n",
        "        months.append(a+1)\n",
        "        annuities.append(annuity)\n",
        "\n",
        "    # Keep this line:\n",
        "    print(f\"Annuity = ${annuity:.02f}\")\n",
        "\n",
        "    plt.title(\"Investment Balance\")\n",
        "    plt.xlabel(\"Months\")\n",
        "    plt.ylabel(\"Balance\")\n",
        "    plt.plot([months],[annuities],'ro')\n",
        "    plt.show()\n",
        "\n",
        "# This step does not have a test"
      ],
      "metadata": {
        "id": "neFvvCOzO_WB",
        "colab": {
          "base_uri": "https://localhost:8080/",
          "height": 582
        },
        "outputId": "e629e063-7fe0-4cbd-922d-f1420b54028c"
      },
      "execution_count": 38,
      "outputs": [
        {
          "output_type": "stream",
          "name": "stdout",
          "text": [
            "Your Investment\n",
            "Starting Amount: 25000\n",
            "Annual Percentage Rate: .25\n",
            "Number of Years: 3\n",
            "Your Monthly Contribution: 25\n",
            "Annuity = $53867.16\n"
          ]
        },
        {
          "output_type": "display_data",
          "data": {
            "text/plain": [
              "<Figure size 640x480 with 1 Axes>"
            ],
            "image/png": "[encoded data removed]"
          },
          "metadata": {}
        }
      ]
    },
    {
      "cell_type": "markdown",
      "source": [
        "# Step 23 - More Functions"
      ],
      "metadata": {
        "id": "rzaQj8dEOfzb"
      }
    },
    {
      "cell_type": "markdown",
      "source": [
        "Create a function that produces an interactive polynomial graph (with sliders). Use code from an earlier step."
      ],
      "metadata": {
        "id": "C6OV8KzQOTS_"
      }
    },
    {
      "cell_type": "code",
      "source": [
        "%matplotlib inline\n",
        "from ipywidgets import interactive\n",
        "import matplotlib.pyplot as plt\n",
        "import numpy as np\n",
        "\n",
        "def polyGraph():\n",
        "    def f(a, b, c, d):\n",
        "        plt.axis([-10,10,-10,10])\n",
        "        plt.plot([-10,10],[0,0],'k')\n",
        "        plt.plot([0,0],[-10,10],'k')\n",
        "        x = np.linspace(-10, 10, 200)\n",
        "        plt.plot(x, a*x**3+b*x**2+c*x+d)\n",
        "        plt.show()\n",
        "\n",
        "    interactive_plot = interactive(f, a=(-9, 9), b=(-9, 9), c=(-9, 9), d=(-9,9))\n",
        "    display(interactive_plot)\n",
        "\n",
        "polyGraph()"
      ],
      "metadata": {
        "colab": {
          "base_uri": "https://localhost:8080/",
          "height": 563,
          "referenced_widgets": [
            "4469546d19f04297a4484673980cf825",
            "edaac10f20584e5281735ea92f443dd8",
            "82a3cebefa6649f2842b8e27bc1a36d6",
            "122693bcc6b9467c9bc956082c5d6bfc",
            "08734f64e57440bdb21e57987a6aa86f",
            "f695569973b54081889e1e6c99a98757",
            "b7c40c6aa783413691e89b5bcb8cb973",
            "df26c5137500438b84909b6b17235cdc",
            "8a72c44e7fa44275afacc36d6a7788dc",
            "a1dd38065bae4072a5cee3d666b875b6",
            "2bb214142d6a4d2fb0e3401795248ffd",
            "be97b321770c47dfb5f5eb9e0a2eaec8",
            "d90a40ae5ad941a4b482b92f22445926",
            "ff4f1aaae3b649fcb3646c9b4eb1c372",
            "055bfa29b96e4a55aabe755505152d1f",
            "aa7d77468831417d95be9c60f0d9427f"
          ]
        },
        "id": "iTlfmcfTiJCo",
        "outputId": "bfc00ef8-4392-4a53-cb62-0886c70c28fb"
      },
      "execution_count": 39,
      "outputs": [
        {
          "output_type": "display_data",
          "data": {
            "text/plain": [
              "interactive(children=(IntSlider(value=0, description='a', max=9, min=-9), IntSlider(value=0, description='b', …"
            ],
            "application/vnd.jupyter.widget-view+json": {
              "version_major": 2,
              "version_minor": 0,
              "model_id": "4469546d19f04297a4484673980cf825"
            }
          },
          "metadata": {}
        }
      ]
    },
    {
      "cell_type": "markdown",
      "source": [
        "# Step 24 - New Function"
      ],
      "metadata": {
        "id": "UptjjiCOTSS2"
      }
    },
    {
      "cell_type": "markdown",
      "source": [
        "Create a function to print the time required for money to double, given the rate. Use the continuous growth formula from an earlier step."
      ],
      "metadata": {
        "id": "XKXNbHzGTKAp"
      }
    },
    {
      "cell_type": "code",
      "source": [
        "# Write your code here\n",
        "import math\n",
        "\n",
        "def doubleMoney():\n",
        "    r = float(input('Rate, as decmial: '))\n",
        "    t = math.log(2)/r\n",
        "    print(f'Your money willl double in {t:.2f} years at a rate of {r*100}%.')\n",
        "\n",
        "doubleMoney()\n",
        "\n",
        "# This step does not have a test"
      ],
      "metadata": {
        "id": "kWs_IpxrTYyl",
        "colab": {
          "base_uri": "https://localhost:8080/"
        },
        "outputId": "226a0903-08d1-4f5b-b81f-d0c470e928fa"
      },
      "execution_count": 41,
      "outputs": [
        {
          "output_type": "stream",
          "name": "stdout",
          "text": [
            "Rate, as decmial: .06\n",
            "Your money willl double in 11.55 years at a rate of 6.0%.\n"
          ]
        }
      ]
    },
    {
      "cell_type": "markdown",
      "source": [
        "# Step 25 - Certification Project 3"
      ],
      "metadata": {
        "id": "CRa5i8s3UCuL"
      }
    },
    {
      "cell_type": "markdown",
      "source": [
        "Build a financial app that does all of the following:<br>\n",
        "<ul>\n",
        "<li>Calculate annuity with monthly or continuous growth</li>\n",
        "<li>Calculate monthly mortgage payment</li>\n",
        "<li>Estimate retirement investment balance</li>\n",
        "<li>Determine how long until an amount doubles, given the rate</li>\n",
        "<li>Solve logarithmic equations</li>\n",
        "<li>Convert to (and from) scientific notation</li>\n",
        "</ul>"
      ],
      "metadata": {
        "id": "nngVpvqeT4U7"
      }
    },
    {
      "cell_type": "code",
      "source": [
        "# Write your code here\n",
        "import math\n",
        "import matplotlib.pyplot as plt\n",
        "\n",
        "def doubleMoney():\n",
        "    r = float(input('Rate, as decmial: '))\n",
        "    t = math.log(2)/r\n",
        "    print(f'Your money willl double in {t:.2f} years at a rate of {r*100}%.')\n",
        "\n",
        "def annuity():\n",
        "    p = float(input(\"Principle: \"))\n",
        "    r = float(input(\"Rate, as decimal: \"))\n",
        "    t = int(input(\"Time: \"))\n",
        "    n = int(input(\"N: \"))\n",
        "\n",
        "    a_annual = p*(1+r)**t\n",
        "    a_n_times = p*(1+r/n)**(n*t)\n",
        "    a_continuous = p*math.e**(r*t)\n",
        "\n",
        "    print(f\"Compounded annually, anuity = {a_annual}\", end='||')\n",
        "    print(f\"Compounded {n} times per year, anuity = {a_n_times}\", end='||')\n",
        "    print(f\"Compounded continuously, anuity = {a_continuous}\")\n",
        "\n",
        "def mortgagePayment():\n",
        "    print('Mortgage Payment')\n",
        "\n",
        "    p = float(input(\"Amount Borrowed: \"))\n",
        "    r = float(input(\"Annual Percentage Rate, as Decimal: \"))\n",
        "    t = float(input(\"Number of Years: \"))\n",
        "\n",
        "    n = r/12*(1+r/12)**(12*t)\n",
        "    d = ((1+r/12)**(12*t))-1\n",
        "    pmt = n/d\n",
        "\n",
        "    print(f\"Monthly Payment = ${pmt:.02f}\")\n",
        "\n",
        "def investmentBalance():\n",
        "    print('Your Investment')\n",
        "\n",
        "    p = float(input(\"Starting Amount: \"))\n",
        "    r = float(input(\"Annual Percentage Rate, as Decimal: \"))\n",
        "    t = int(input(\"Number of Years: \"))\n",
        "    monthly = float(input(\"Your Monthly Contribution: \"))\n",
        "\n",
        "    # Hint: keep updating this annuity variable in the loop\n",
        "    annuity = p\n",
        "\n",
        "    months:list = []\n",
        "    annuities:list = []\n",
        "\n",
        "    # Each iteration of the loop represents one month\n",
        "    for a in range(12*t):\n",
        "        annuity = annuity + monthly\n",
        "        interest = annuity*r/12\n",
        "        annuity = annuity + interest\n",
        "\n",
        "        months.append(a+1)\n",
        "        annuities.append(annuity)\n",
        "\n",
        "    print(f\"Annuity = ${annuity:.02f}\")\n",
        "\n",
        "    plt.title(\"Investment Balance\")\n",
        "    plt.xlabel(\"Months\")\n",
        "    plt.ylabel(\"Balance\")\n",
        "    plt.plot([months],[annuities],'ro')\n",
        "    plt.show()\n",
        "\n",
        "def convert2Scientific():\n",
        "    a = float(input('Enter a number to convert to scientific notation: '))\n",
        "\n",
        "    x = math.floor(math.log(a,10))\n",
        "    n = round(a*10**(-x),2)\n",
        "    print(a, \" = \",n,'* 10^',x)\n",
        "\n",
        "def convertFromSci():\n",
        "    x = float(input('Enter a number in scientific notation, do not enter exponent: '))\n",
        "    n = float(input('Enter the exponent: '))\n",
        "\n",
        "    a = x*10**n\n",
        "    print(f'The value is:  {a}')\n",
        "\n",
        "def logEquation():\n",
        "    base = float(input(\"Base: \"))\n",
        "    result = float(input(\"Result: \"))\n",
        "\n",
        "    exp = math.log(result,base)\n",
        "\n",
        "    print(\"Exponent = \", exp)\n",
        "\n",
        "def convert():\n",
        "    print(f'1. Convert to scientific notation')\n",
        "    print(f'2. Convert from scientific notation')\n",
        "\n",
        "    match input('Select an option: '):\n",
        "        case '1':\n",
        "            convert2Scientific()\n",
        "        case '2':\n",
        "            convertFromSci()\n",
        "        case _:\n",
        "            print('Unknown option')\n",
        "\n",
        "def menu():\n",
        "    print('Select an option:')\n",
        "\n",
        "    print(f'1. Calculate annuity with monthly or continuous growth')\n",
        "    print(f'2. Calculate monthly mortgage payment')\n",
        "    print(f'3. Estimate retirement investment balance')\n",
        "    print(f'4. Determine how long until an amount doubles, given the rate')\n",
        "    print(f'5. Solve logarithmic equations')\n",
        "    print(f'6. Convert to (and from) scientific notation')\n",
        "\n",
        "    match input('Select an option: '):\n",
        "        case '1':\n",
        "            annuity()\n",
        "        case '2':\n",
        "            mortgagePayment()\n",
        "        case '3':\n",
        "            investmentBalance()\n",
        "        case '4':\n",
        "            doubleMoney()\n",
        "        case '5':\n",
        "            logEquation()\n",
        "        case '6':\n",
        "            convert()\n",
        "        case _:\n",
        "            print('Unknown option')\n",
        "\n",
        "inquery = input(\"Query? y/n: \")\n",
        "while inquery == 'y':\n",
        "    menu()\n",
        "    inquery = input(\"Query? y/n: \")\n",
        "\n",
        "print('Goodbye')\n",
        "    # This step does not have a test"
      ],
      "metadata": {
        "id": "fa2o--pDT-Sd",
        "colab": {
          "base_uri": "https://localhost:8080/"
        },
        "outputId": "1886e8e3-106b-4ce3-90aa-83aed1769ad3"
      },
      "execution_count": 7,
      "outputs": [
        {
          "output_type": "stream",
          "name": "stdout",
          "text": [
            "Query? y/n: y\n",
            "Select an option:\n",
            "1. Calculate annuity with monthly or continuous growth\n",
            "2. Calculate monthly mortgage payment\n",
            "3. Estimate retirement investment balance\n",
            "4. Determine how long until an amount doubles, given the rate\n",
            "5. Solve logarithmic equations\n",
            "6. Convert to (and from) scientific notation\n",
            "Select an option: tr\n",
            "Unknown option\n",
            "Query? y/n: y\n",
            "Select an option:\n",
            "1. Calculate annuity with monthly or continuous growth\n",
            "2. Calculate monthly mortgage payment\n",
            "3. Estimate retirement investment balance\n",
            "4. Determine how long until an amount doubles, given the rate\n",
            "5. Solve logarithmic equations\n",
            "6. Convert to (and from) scientific notation\n",
            "Select an option: 45\n",
            "Unknown option\n",
            "Query? y/n: y\n",
            "Select an option:\n",
            "1. Calculate annuity with monthly or continuous growth\n",
            "2. Calculate monthly mortgage payment\n",
            "3. Estimate retirement investment balance\n",
            "4. Determine how long until an amount doubles, given the rate\n",
            "5. Solve logarithmic equations\n",
            "6. Convert to (and from) scientific notation\n",
            "Select an option: 6\n",
            "1. Convert to scientific notation\n",
            "2. Convert from scientific notation\n",
            "Select an option: 1\n",
            "Enter a number to convert to scientific notation: 2223432\n",
            "2223432.0  =  2.22 * 10^ 6\n",
            "Query? y/n: n\n",
            "Goodbye\n"
          ]
        }
      ]
    }
  ]
}