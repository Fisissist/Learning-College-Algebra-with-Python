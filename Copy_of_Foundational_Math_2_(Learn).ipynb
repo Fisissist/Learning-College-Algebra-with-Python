{
  "nbformat": 4,
  "nbformat_minor": 0,
  "metadata": {
    "colab": {
      "provenance": [],
      "collapsed_sections": [
        "szp5flp1fA8-",
        "iNcDJ45bGtYk",
        "ZWDxpIPUFfda",
        "i1mBd8gGFvBV",
        "MYQL57cD2ejS",
        "jIHKROStFMcR",
        "wLDO_IRrFw7z",
        "ExVB2joZF0rk",
        "3MqIpFTOF1m9",
        "NKq_qwCsF3Dj",
        "wvdngkOTF4Hi",
        "Q19Wm90DF5zf",
        "YSY2k7S3F6d7",
        "ykj42UNeF7K5",
        "QSKeBTgXHRAv",
        "0epVLhL0F88U",
        "8FCFQaq1Hizh",
        "BhKPZQJZF9w0",
        "I0mklEluF-jI",
        "eFehWNexGASC",
        "WbqugasGGCKJ",
        "hN_fvENUGBAm",
        "vteEy9QFGD5I",
        "VXxx7RCVSs4j",
        "jpo7oASHGEu7",
        "pE5o0-VMaIy3"
      ],
      "include_colab_link": true
    },
    "kernelspec": {
      "name": "python3",
      "display_name": "Python 3"
    },
    "language_info": {
      "name": "python"
    },
    "widgets": {
      "application/vnd.jupyter.widget-state+json": {
        "2a42cb88a4b44c749dcee83dc6d63165": {
          "model_module": "@jupyter-widgets/controls",
          "model_name": "VBoxModel",
          "model_module_version": "1.5.0",
          "state": {
            "_dom_classes": [
              "widget-interact"
            ],
            "_model_module": "@jupyter-widgets/controls",
            "_model_module_version": "1.5.0",
            "_model_name": "VBoxModel",
            "_view_count": null,
            "_view_module": "@jupyter-widgets/controls",
            "_view_module_version": "1.5.0",
            "_view_name": "VBoxView",
            "box_style": "",
            "children": [
              "IPY_MODEL_fa057f6716ed44e481a5d9b82af7f9f1",
              "IPY_MODEL_f8886e3c3d304674810096d1dc21d0cc",
              "IPY_MODEL_6779171ef2af4133b22d3d3151892ea3",
              "IPY_MODEL_afa74fae4a5a4c8fb791fa174cc31687"
            ],
            "layout": "IPY_MODEL_e38a5ad46d51434cbd9049b6c586f282"
          }
        },
        "fa057f6716ed44e481a5d9b82af7f9f1": {
          "model_module": "@jupyter-widgets/controls",
          "model_name": "IntSliderModel",
          "model_module_version": "1.5.0",
          "state": {
            "_dom_classes": [],
            "_model_module": "@jupyter-widgets/controls",
            "_model_module_version": "1.5.0",
            "_model_name": "IntSliderModel",
            "_view_count": null,
            "_view_module": "@jupyter-widgets/controls",
            "_view_module_version": "1.5.0",
            "_view_name": "IntSliderView",
            "continuous_update": true,
            "description": "a",
            "description_tooltip": null,
            "disabled": false,
            "layout": "IPY_MODEL_53dde4adcf5f48819f9e211d7cc7a0fa",
            "max": 9,
            "min": -9,
            "orientation": "horizontal",
            "readout": true,
            "readout_format": "d",
            "step": 1,
            "style": "IPY_MODEL_6837142d16684cdb9550fa7757a795f4",
            "value": 1
          }
        },
        "f8886e3c3d304674810096d1dc21d0cc": {
          "model_module": "@jupyter-widgets/controls",
          "model_name": "IntSliderModel",
          "model_module_version": "1.5.0",
          "state": {
            "_dom_classes": [],
            "_model_module": "@jupyter-widgets/controls",
            "_model_module_version": "1.5.0",
            "_model_name": "IntSliderModel",
            "_view_count": null,
            "_view_module": "@jupyter-widgets/controls",
            "_view_module_version": "1.5.0",
            "_view_name": "IntSliderView",
            "continuous_update": true,
            "description": "b",
            "description_tooltip": null,
            "disabled": false,
            "layout": "IPY_MODEL_0d9e09cd7d5d454aa0b94fb09e2e94d0",
            "max": 9,
            "min": -9,
            "orientation": "horizontal",
            "readout": true,
            "readout_format": "d",
            "step": 1,
            "style": "IPY_MODEL_8c534c8c28834d32afc2a5dfa8c7eba9",
            "value": 4
          }
        },
        "6779171ef2af4133b22d3d3151892ea3": {
          "model_module": "@jupyter-widgets/controls",
          "model_name": "IntSliderModel",
          "model_module_version": "1.5.0",
          "state": {
            "_dom_classes": [],
            "_model_module": "@jupyter-widgets/controls",
            "_model_module_version": "1.5.0",
            "_model_name": "IntSliderModel",
            "_view_count": null,
            "_view_module": "@jupyter-widgets/controls",
            "_view_module_version": "1.5.0",
            "_view_name": "IntSliderView",
            "continuous_update": true,
            "description": "c",
            "description_tooltip": null,
            "disabled": false,
            "layout": "IPY_MODEL_4792b533099142fe914006fea958df52",
            "max": 9,
            "min": -9,
            "orientation": "horizontal",
            "readout": true,
            "readout_format": "d",
            "step": 1,
            "style": "IPY_MODEL_95569d51bb0845d99d9759a25cf3818c",
            "value": 2
          }
        },
        "afa74fae4a5a4c8fb791fa174cc31687": {
          "model_module": "@jupyter-widgets/output",
          "model_name": "OutputModel",
          "model_module_version": "1.0.0",
          "state": {
            "_dom_classes": [],
            "_model_module": "@jupyter-widgets/output",
            "_model_module_version": "1.0.0",
            "_model_name": "OutputModel",
            "_view_count": null,
            "_view_module": "@jupyter-widgets/output",
            "_view_module_version": "1.0.0",
            "_view_name": "OutputView",
            "layout": "IPY_MODEL_b3888bb4ace34a3b82180750aefd8317",
            "msg_id": "",
            "outputs": [
              {
                "output_type": "display_data",
                "data": {
                  "text/plain": "<Figure size 640x480 with 1 Axes>",
                  "image/png": "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\n"
                },
                "metadata": {}
              }
            ]
          }
        },
        "e38a5ad46d51434cbd9049b6c586f282": {
          "model_module": "@jupyter-widgets/base",
          "model_name": "LayoutModel",
          "model_module_version": "1.2.0",
          "state": {
            "_model_module": "@jupyter-widgets/base",
            "_model_module_version": "1.2.0",
            "_model_name": "LayoutModel",
            "_view_count": null,
            "_view_module": "@jupyter-widgets/base",
            "_view_module_version": "1.2.0",
            "_view_name": "LayoutView",
            "align_content": null,
            "align_items": null,
            "align_self": null,
            "border": null,
            "bottom": null,
            "display": null,
            "flex": null,
            "flex_flow": null,
            "grid_area": null,
            "grid_auto_columns": null,
            "grid_auto_flow": null,
            "grid_auto_rows": null,
            "grid_column": null,
            "grid_gap": null,
            "grid_row": null,
            "grid_template_areas": null,
            "grid_template_columns": null,
            "grid_template_rows": null,
            "height": null,
            "justify_content": null,
            "justify_items": null,
            "left": null,
            "margin": null,
            "max_height": null,
            "max_width": null,
            "min_height": null,
            "min_width": null,
            "object_fit": null,
            "object_position": null,
            "order": null,
            "overflow": null,
            "overflow_x": null,
            "overflow_y": null,
            "padding": null,
            "right": null,
            "top": null,
            "visibility": null,
            "width": null
          }
        },
        "53dde4adcf5f48819f9e211d7cc7a0fa": {
          "model_module": "@jupyter-widgets/base",
          "model_name": "LayoutModel",
          "model_module_version": "1.2.0",
          "state": {
            "_model_module": "@jupyter-widgets/base",
            "_model_module_version": "1.2.0",
            "_model_name": "LayoutModel",
            "_view_count": null,
            "_view_module": "@jupyter-widgets/base",
            "_view_module_version": "1.2.0",
            "_view_name": "LayoutView",
            "align_content": null,
            "align_items": null,
            "align_self": null,
            "border": null,
            "bottom": null,
            "display": null,
            "flex": null,
            "flex_flow": null,
            "grid_area": null,
            "grid_auto_columns": null,
            "grid_auto_flow": null,
            "grid_auto_rows": null,
            "grid_column": null,
            "grid_gap": null,
            "grid_row": null,
            "grid_template_areas": null,
            "grid_template_columns": null,
            "grid_template_rows": null,
            "height": null,
            "justify_content": null,
            "justify_items": null,
            "left": null,
            "margin": null,
            "max_height": null,
            "max_width": null,
            "min_height": null,
            "min_width": null,
            "object_fit": null,
            "object_position": null,
            "order": null,
            "overflow": null,
            "overflow_x": null,
            "overflow_y": null,
            "padding": null,
            "right": null,
            "top": null,
            "visibility": null,
            "width": null
          }
        },
        "6837142d16684cdb9550fa7757a795f4": {
          "model_module": "@jupyter-widgets/controls",
          "model_name": "SliderStyleModel",
          "model_module_version": "1.5.0",
          "state": {
            "_model_module": "@jupyter-widgets/controls",
            "_model_module_version": "1.5.0",
            "_model_name": "SliderStyleModel",
            "_view_count": null,
            "_view_module": "@jupyter-widgets/base",
            "_view_module_version": "1.2.0",
            "_view_name": "StyleView",
            "description_width": "",
            "handle_color": null
          }
        },
        "0d9e09cd7d5d454aa0b94fb09e2e94d0": {
          "model_module": "@jupyter-widgets/base",
          "model_name": "LayoutModel",
          "model_module_version": "1.2.0",
          "state": {
            "_model_module": "@jupyter-widgets/base",
            "_model_module_version": "1.2.0",
            "_model_name": "LayoutModel",
            "_view_count": null,
            "_view_module": "@jupyter-widgets/base",
            "_view_module_version": "1.2.0",
            "_view_name": "LayoutView",
            "align_content": null,
            "align_items": null,
            "align_self": null,
            "border": null,
            "bottom": null,
            "display": null,
            "flex": null,
            "flex_flow": null,
            "grid_area": null,
            "grid_auto_columns": null,
            "grid_auto_flow": null,
            "grid_auto_rows": null,
            "grid_column": null,
            "grid_gap": null,
            "grid_row": null,
            "grid_template_areas": null,
            "grid_template_columns": null,
            "grid_template_rows": null,
            "height": null,
            "justify_content": null,
            "justify_items": null,
            "left": null,
            "margin": null,
            "max_height": null,
            "max_width": null,
            "min_height": null,
            "min_width": null,
            "object_fit": null,
            "object_position": null,
            "order": null,
            "overflow": null,
            "overflow_x": null,
            "overflow_y": null,
            "padding": null,
            "right": null,
            "top": null,
            "visibility": null,
            "width": null
          }
        },
        "8c534c8c28834d32afc2a5dfa8c7eba9": {
          "model_module": "@jupyter-widgets/controls",
          "model_name": "SliderStyleModel",
          "model_module_version": "1.5.0",
          "state": {
            "_model_module": "@jupyter-widgets/controls",
            "_model_module_version": "1.5.0",
            "_model_name": "SliderStyleModel",
            "_view_count": null,
            "_view_module": "@jupyter-widgets/base",
            "_view_module_version": "1.2.0",
            "_view_name": "StyleView",
            "description_width": "",
            "handle_color": null
          }
        },
        "4792b533099142fe914006fea958df52": {
          "model_module": "@jupyter-widgets/base",
          "model_name": "LayoutModel",
          "model_module_version": "1.2.0",
          "state": {
            "_model_module": "@jupyter-widgets/base",
            "_model_module_version": "1.2.0",
            "_model_name": "LayoutModel",
            "_view_count": null,
            "_view_module": "@jupyter-widgets/base",
            "_view_module_version": "1.2.0",
            "_view_name": "LayoutView",
            "align_content": null,
            "align_items": null,
            "align_self": null,
            "border": null,
            "bottom": null,
            "display": null,
            "flex": null,
            "flex_flow": null,
            "grid_area": null,
            "grid_auto_columns": null,
            "grid_auto_flow": null,
            "grid_auto_rows": null,
            "grid_column": null,
            "grid_gap": null,
            "grid_row": null,
            "grid_template_areas": null,
            "grid_template_columns": null,
            "grid_template_rows": null,
            "height": null,
            "justify_content": null,
            "justify_items": null,
            "left": null,
            "margin": null,
            "max_height": null,
            "max_width": null,
            "min_height": null,
            "min_width": null,
            "object_fit": null,
            "object_position": null,
            "order": null,
            "overflow": null,
            "overflow_x": null,
            "overflow_y": null,
            "padding": null,
            "right": null,
            "top": null,
            "visibility": null,
            "width": null
          }
        },
        "95569d51bb0845d99d9759a25cf3818c": {
          "model_module": "@jupyter-widgets/controls",
          "model_name": "SliderStyleModel",
          "model_module_version": "1.5.0",
          "state": {
            "_model_module": "@jupyter-widgets/controls",
            "_model_module_version": "1.5.0",
            "_model_name": "SliderStyleModel",
            "_view_count": null,
            "_view_module": "@jupyter-widgets/base",
            "_view_module_version": "1.2.0",
            "_view_name": "StyleView",
            "description_width": "",
            "handle_color": null
          }
        },
        "b3888bb4ace34a3b82180750aefd8317": {
          "model_module": "@jupyter-widgets/base",
          "model_name": "LayoutModel",
          "model_module_version": "1.2.0",
          "state": {
            "_model_module": "@jupyter-widgets/base",
            "_model_module_version": "1.2.0",
            "_model_name": "LayoutModel",
            "_view_count": null,
            "_view_module": "@jupyter-widgets/base",
            "_view_module_version": "1.2.0",
            "_view_name": "LayoutView",
            "align_content": null,
            "align_items": null,
            "align_self": null,
            "border": null,
            "bottom": null,
            "display": null,
            "flex": null,
            "flex_flow": null,
            "grid_area": null,
            "grid_auto_columns": null,
            "grid_auto_flow": null,
            "grid_auto_rows": null,
            "grid_column": null,
            "grid_gap": null,
            "grid_row": null,
            "grid_template_areas": null,
            "grid_template_columns": null,
            "grid_template_rows": null,
            "height": null,
            "justify_content": null,
            "justify_items": null,
            "left": null,
            "margin": null,
            "max_height": null,
            "max_width": null,
            "min_height": null,
            "min_width": null,
            "object_fit": null,
            "object_position": null,
            "order": null,
            "overflow": null,
            "overflow_x": null,
            "overflow_y": null,
            "padding": null,
            "right": null,
            "top": null,
            "visibility": null,
            "width": null
          }
        },
        "9c2386eee121492d9867bd0c6d6dcdb3": {
          "model_module": "@jupyter-widgets/controls",
          "model_name": "VBoxModel",
          "model_module_version": "1.5.0",
          "state": {
            "_dom_classes": [
              "widget-interact"
            ],
            "_model_module": "@jupyter-widgets/controls",
            "_model_module_version": "1.5.0",
            "_model_name": "VBoxModel",
            "_view_count": null,
            "_view_module": "@jupyter-widgets/controls",
            "_view_module_version": "1.5.0",
            "_view_name": "VBoxView",
            "box_style": "",
            "children": [
              "IPY_MODEL_af2fafa45af741839809dbad8b1a0966",
              "IPY_MODEL_cd59657d7ec14640917c4c7510623f80",
              "IPY_MODEL_caff72648b8447bd9107ad4fc77f9d71"
            ],
            "layout": "IPY_MODEL_f499cae0328941b89b60361b429b8048"
          }
        },
        "af2fafa45af741839809dbad8b1a0966": {
          "model_module": "@jupyter-widgets/controls",
          "model_name": "IntSliderModel",
          "model_module_version": "1.5.0",
          "state": {
            "_dom_classes": [],
            "_model_module": "@jupyter-widgets/controls",
            "_model_module_version": "1.5.0",
            "_model_name": "IntSliderModel",
            "_view_count": null,
            "_view_module": "@jupyter-widgets/controls",
            "_view_module_version": "1.5.0",
            "_view_name": "IntSliderView",
            "continuous_update": true,
            "description": "m",
            "description_tooltip": null,
            "disabled": false,
            "layout": "IPY_MODEL_a7892e8c08d84023a82dfb79e5ffb687",
            "max": 9,
            "min": -9,
            "orientation": "horizontal",
            "readout": true,
            "readout_format": "d",
            "step": 1,
            "style": "IPY_MODEL_6ca07fa97f36435988236ca6e248fb87",
            "value": 5
          }
        },
        "cd59657d7ec14640917c4c7510623f80": {
          "model_module": "@jupyter-widgets/controls",
          "model_name": "IntSliderModel",
          "model_module_version": "1.5.0",
          "state": {
            "_dom_classes": [],
            "_model_module": "@jupyter-widgets/controls",
            "_model_module_version": "1.5.0",
            "_model_name": "IntSliderModel",
            "_view_count": null,
            "_view_module": "@jupyter-widgets/controls",
            "_view_module_version": "1.5.0",
            "_view_name": "IntSliderView",
            "continuous_update": true,
            "description": "b",
            "description_tooltip": null,
            "disabled": false,
            "layout": "IPY_MODEL_40153cb0484c461587771b7c87399065",
            "max": 9,
            "min": -9,
            "orientation": "horizontal",
            "readout": true,
            "readout_format": "d",
            "step": 1,
            "style": "IPY_MODEL_c66a1c1724c244bcab62f6e3372d5ab3",
            "value": -5
          }
        },
        "caff72648b8447bd9107ad4fc77f9d71": {
          "model_module": "@jupyter-widgets/output",
          "model_name": "OutputModel",
          "model_module_version": "1.0.0",
          "state": {
            "_dom_classes": [],
            "_model_module": "@jupyter-widgets/output",
            "_model_module_version": "1.0.0",
            "_model_name": "OutputModel",
            "_view_count": null,
            "_view_module": "@jupyter-widgets/output",
            "_view_module_version": "1.0.0",
            "_view_name": "OutputView",
            "layout": "IPY_MODEL_4508672656dc43129efaa8810fb3bf05",
            "msg_id": "",
            "outputs": [
              {
                "output_type": "display_data",
                "data": {
                  "text/plain": "<Figure size 640x480 with 1 Axes>",
                  "image/png": "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\n"
                },
                "metadata": {}
              }
            ]
          }
        },
        "f499cae0328941b89b60361b429b8048": {
          "model_module": "@jupyter-widgets/base",
          "model_name": "LayoutModel",
          "model_module_version": "1.2.0",
          "state": {
            "_model_module": "@jupyter-widgets/base",
            "_model_module_version": "1.2.0",
            "_model_name": "LayoutModel",
            "_view_count": null,
            "_view_module": "@jupyter-widgets/base",
            "_view_module_version": "1.2.0",
            "_view_name": "LayoutView",
            "align_content": null,
            "align_items": null,
            "align_self": null,
            "border": null,
            "bottom": null,
            "display": null,
            "flex": null,
            "flex_flow": null,
            "grid_area": null,
            "grid_auto_columns": null,
            "grid_auto_flow": null,
            "grid_auto_rows": null,
            "grid_column": null,
            "grid_gap": null,
            "grid_row": null,
            "grid_template_areas": null,
            "grid_template_columns": null,
            "grid_template_rows": null,
            "height": null,
            "justify_content": null,
            "justify_items": null,
            "left": null,
            "margin": null,
            "max_height": null,
            "max_width": null,
            "min_height": null,
            "min_width": null,
            "object_fit": null,
            "object_position": null,
            "order": null,
            "overflow": null,
            "overflow_x": null,
            "overflow_y": null,
            "padding": null,
            "right": null,
            "top": null,
            "visibility": null,
            "width": null
          }
        },
        "a7892e8c08d84023a82dfb79e5ffb687": {
          "model_module": "@jupyter-widgets/base",
          "model_name": "LayoutModel",
          "model_module_version": "1.2.0",
          "state": {
            "_model_module": "@jupyter-widgets/base",
            "_model_module_version": "1.2.0",
            "_model_name": "LayoutModel",
            "_view_count": null,
            "_view_module": "@jupyter-widgets/base",
            "_view_module_version": "1.2.0",
            "_view_name": "LayoutView",
            "align_content": null,
            "align_items": null,
            "align_self": null,
            "border": null,
            "bottom": null,
            "display": null,
            "flex": null,
            "flex_flow": null,
            "grid_area": null,
            "grid_auto_columns": null,
            "grid_auto_flow": null,
            "grid_auto_rows": null,
            "grid_column": null,
            "grid_gap": null,
            "grid_row": null,
            "grid_template_areas": null,
            "grid_template_columns": null,
            "grid_template_rows": null,
            "height": null,
            "justify_content": null,
            "justify_items": null,
            "left": null,
            "margin": null,
            "max_height": null,
            "max_width": null,
            "min_height": null,
            "min_width": null,
            "object_fit": null,
            "object_position": null,
            "order": null,
            "overflow": null,
            "overflow_x": null,
            "overflow_y": null,
            "padding": null,
            "right": null,
            "top": null,
            "visibility": null,
            "width": null
          }
        },
        "6ca07fa97f36435988236ca6e248fb87": {
          "model_module": "@jupyter-widgets/controls",
          "model_name": "SliderStyleModel",
          "model_module_version": "1.5.0",
          "state": {
            "_model_module": "@jupyter-widgets/controls",
            "_model_module_version": "1.5.0",
            "_model_name": "SliderStyleModel",
            "_view_count": null,
            "_view_module": "@jupyter-widgets/base",
            "_view_module_version": "1.2.0",
            "_view_name": "StyleView",
            "description_width": "",
            "handle_color": null
          }
        },
        "40153cb0484c461587771b7c87399065": {
          "model_module": "@jupyter-widgets/base",
          "model_name": "LayoutModel",
          "model_module_version": "1.2.0",
          "state": {
            "_model_module": "@jupyter-widgets/base",
            "_model_module_version": "1.2.0",
            "_model_name": "LayoutModel",
            "_view_count": null,
            "_view_module": "@jupyter-widgets/base",
            "_view_module_version": "1.2.0",
            "_view_name": "LayoutView",
            "align_content": null,
            "align_items": null,
            "align_self": null,
            "border": null,
            "bottom": null,
            "display": null,
            "flex": null,
            "flex_flow": null,
            "grid_area": null,
            "grid_auto_columns": null,
            "grid_auto_flow": null,
            "grid_auto_rows": null,
            "grid_column": null,
            "grid_gap": null,
            "grid_row": null,
            "grid_template_areas": null,
            "grid_template_columns": null,
            "grid_template_rows": null,
            "height": null,
            "justify_content": null,
            "justify_items": null,
            "left": null,
            "margin": null,
            "max_height": null,
            "max_width": null,
            "min_height": null,
            "min_width": null,
            "object_fit": null,
            "object_position": null,
            "order": null,
            "overflow": null,
            "overflow_x": null,
            "overflow_y": null,
            "padding": null,
            "right": null,
            "top": null,
            "visibility": null,
            "width": null
          }
        },
        "c66a1c1724c244bcab62f6e3372d5ab3": {
          "model_module": "@jupyter-widgets/controls",
          "model_name": "SliderStyleModel",
          "model_module_version": "1.5.0",
          "state": {
            "_model_module": "@jupyter-widgets/controls",
            "_model_module_version": "1.5.0",
            "_model_name": "SliderStyleModel",
            "_view_count": null,
            "_view_module": "@jupyter-widgets/base",
            "_view_module_version": "1.2.0",
            "_view_name": "StyleView",
            "description_width": "",
            "handle_color": null
          }
        },
        "4508672656dc43129efaa8810fb3bf05": {
          "model_module": "@jupyter-widgets/base",
          "model_name": "LayoutModel",
          "model_module_version": "1.2.0",
          "state": {
            "_model_module": "@jupyter-widgets/base",
            "_model_module_version": "1.2.0",
            "_model_name": "LayoutModel",
            "_view_count": null,
            "_view_module": "@jupyter-widgets/base",
            "_view_module_version": "1.2.0",
            "_view_name": "LayoutView",
            "align_content": null,
            "align_items": null,
            "align_self": null,
            "border": null,
            "bottom": null,
            "display": null,
            "flex": null,
            "flex_flow": null,
            "grid_area": null,
            "grid_auto_columns": null,
            "grid_auto_flow": null,
            "grid_auto_rows": null,
            "grid_column": null,
            "grid_gap": null,
            "grid_row": null,
            "grid_template_areas": null,
            "grid_template_columns": null,
            "grid_template_rows": null,
            "height": null,
            "justify_content": null,
            "justify_items": null,
            "left": null,
            "margin": null,
            "max_height": null,
            "max_width": null,
            "min_height": null,
            "min_width": null,
            "object_fit": null,
            "object_position": null,
            "order": null,
            "overflow": null,
            "overflow_x": null,
            "overflow_y": null,
            "padding": null,
            "right": null,
            "top": null,
            "visibility": null,
            "width": null
          }
        },
        "c0081dc1b49c467cb63991e349902dc5": {
          "model_module": "@jupyter-widgets/controls",
          "model_name": "VBoxModel",
          "model_module_version": "1.5.0",
          "state": {
            "_dom_classes": [
              "widget-interact"
            ],
            "_model_module": "@jupyter-widgets/controls",
            "_model_module_version": "1.5.0",
            "_model_name": "VBoxModel",
            "_view_count": null,
            "_view_module": "@jupyter-widgets/controls",
            "_view_module_version": "1.5.0",
            "_view_name": "VBoxView",
            "box_style": "",
            "children": [
              "IPY_MODEL_d6ae18a475cd41cfa4d3cb6bf69fe873",
              "IPY_MODEL_ed0122b049314a0888dacb693bc61ebd"
            ],
            "layout": "IPY_MODEL_92af084f623f4776969192d443a2ed31"
          }
        },
        "d6ae18a475cd41cfa4d3cb6bf69fe873": {
          "model_module": "@jupyter-widgets/controls",
          "model_name": "IntSliderModel",
          "model_module_version": "1.5.0",
          "state": {
            "_dom_classes": [],
            "_model_module": "@jupyter-widgets/controls",
            "_model_module_version": "1.5.0",
            "_model_name": "IntSliderModel",
            "_view_count": null,
            "_view_module": "@jupyter-widgets/controls",
            "_view_module_version": "1.5.0",
            "_view_name": "IntSliderView",
            "continuous_update": true,
            "description": "zoom",
            "description_tooltip": null,
            "disabled": false,
            "layout": "IPY_MODEL_e948c77bf7234b62871b78a2141781af",
            "max": 100,
            "min": 1,
            "orientation": "horizontal",
            "readout": true,
            "readout_format": "d",
            "step": 1,
            "style": "IPY_MODEL_ab8fe78b09854896b38e5f9a73cc18a8",
            "value": 45
          }
        },
        "ed0122b049314a0888dacb693bc61ebd": {
          "model_module": "@jupyter-widgets/output",
          "model_name": "OutputModel",
          "model_module_version": "1.0.0",
          "state": {
            "_dom_classes": [],
            "_model_module": "@jupyter-widgets/output",
            "_model_module_version": "1.0.0",
            "_model_name": "OutputModel",
            "_view_count": null,
            "_view_module": "@jupyter-widgets/output",
            "_view_module_version": "1.0.0",
            "_view_name": "OutputView",
            "layout": "IPY_MODEL_b83fbac7f133454a8e4fe45d7ceb8372",
            "msg_id": "",
            "outputs": [
              {
                "output_type": "display_data",
                "data": {
                  "text/plain": "<Figure size 640x480 with 1 Axes>",
                  "image/png": "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\n"
                },
                "metadata": {}
              }
            ]
          }
        },
        "92af084f623f4776969192d443a2ed31": {
          "model_module": "@jupyter-widgets/base",
          "model_name": "LayoutModel",
          "model_module_version": "1.2.0",
          "state": {
            "_model_module": "@jupyter-widgets/base",
            "_model_module_version": "1.2.0",
            "_model_name": "LayoutModel",
            "_view_count": null,
            "_view_module": "@jupyter-widgets/base",
            "_view_module_version": "1.2.0",
            "_view_name": "LayoutView",
            "align_content": null,
            "align_items": null,
            "align_self": null,
            "border": null,
            "bottom": null,
            "display": null,
            "flex": null,
            "flex_flow": null,
            "grid_area": null,
            "grid_auto_columns": null,
            "grid_auto_flow": null,
            "grid_auto_rows": null,
            "grid_column": null,
            "grid_gap": null,
            "grid_row": null,
            "grid_template_areas": null,
            "grid_template_columns": null,
            "grid_template_rows": null,
            "height": null,
            "justify_content": null,
            "justify_items": null,
            "left": null,
            "margin": null,
            "max_height": null,
            "max_width": null,
            "min_height": null,
            "min_width": null,
            "object_fit": null,
            "object_position": null,
            "order": null,
            "overflow": null,
            "overflow_x": null,
            "overflow_y": null,
            "padding": null,
            "right": null,
            "top": null,
            "visibility": null,
            "width": null
          }
        },
        "e948c77bf7234b62871b78a2141781af": {
          "model_module": "@jupyter-widgets/base",
          "model_name": "LayoutModel",
          "model_module_version": "1.2.0",
          "state": {
            "_model_module": "@jupyter-widgets/base",
            "_model_module_version": "1.2.0",
            "_model_name": "LayoutModel",
            "_view_count": null,
            "_view_module": "@jupyter-widgets/base",
            "_view_module_version": "1.2.0",
            "_view_name": "LayoutView",
            "align_content": null,
            "align_items": null,
            "align_self": null,
            "border": null,
            "bottom": null,
            "display": null,
            "flex": null,
            "flex_flow": null,
            "grid_area": null,
            "grid_auto_columns": null,
            "grid_auto_flow": null,
            "grid_auto_rows": null,
            "grid_column": null,
            "grid_gap": null,
            "grid_row": null,
            "grid_template_areas": null,
            "grid_template_columns": null,
            "grid_template_rows": null,
            "height": null,
            "justify_content": null,
            "justify_items": null,
            "left": null,
            "margin": null,
            "max_height": null,
            "max_width": null,
            "min_height": null,
            "min_width": null,
            "object_fit": null,
            "object_position": null,
            "order": null,
            "overflow": null,
            "overflow_x": null,
            "overflow_y": null,
            "padding": null,
            "right": null,
            "top": null,
            "visibility": null,
            "width": null
          }
        },
        "ab8fe78b09854896b38e5f9a73cc18a8": {
          "model_module": "@jupyter-widgets/controls",
          "model_name": "SliderStyleModel",
          "model_module_version": "1.5.0",
          "state": {
            "_model_module": "@jupyter-widgets/controls",
            "_model_module_version": "1.5.0",
            "_model_name": "SliderStyleModel",
            "_view_count": null,
            "_view_module": "@jupyter-widgets/base",
            "_view_module_version": "1.2.0",
            "_view_name": "StyleView",
            "description_width": "",
            "handle_color": null
          }
        },
        "b83fbac7f133454a8e4fe45d7ceb8372": {
          "model_module": "@jupyter-widgets/base",
          "model_name": "LayoutModel",
          "model_module_version": "1.2.0",
          "state": {
            "_model_module": "@jupyter-widgets/base",
            "_model_module_version": "1.2.0",
            "_model_name": "LayoutModel",
            "_view_count": null,
            "_view_module": "@jupyter-widgets/base",
            "_view_module_version": "1.2.0",
            "_view_name": "LayoutView",
            "align_content": null,
            "align_items": null,
            "align_self": null,
            "border": null,
            "bottom": null,
            "display": null,
            "flex": null,
            "flex_flow": null,
            "grid_area": null,
            "grid_auto_columns": null,
            "grid_auto_flow": null,
            "grid_auto_rows": null,
            "grid_column": null,
            "grid_gap": null,
            "grid_row": null,
            "grid_template_areas": null,
            "grid_template_columns": null,
            "grid_template_rows": null,
            "height": null,
            "justify_content": null,
            "justify_items": null,
            "left": null,
            "margin": null,
            "max_height": null,
            "max_width": null,
            "min_height": null,
            "min_width": null,
            "object_fit": null,
            "object_position": null,
            "order": null,
            "overflow": null,
            "overflow_x": null,
            "overflow_y": null,
            "padding": null,
            "right": null,
            "top": null,
            "visibility": null,
            "width": null
          }
        }
      }
    }
  },
  "cells": [
    {
      "cell_type": "markdown",
      "metadata": {
        "id": "view-in-github",
        "colab_type": "text"
      },
      "source": [
        "<a href=\"https://colab.research.google.com/github/Fisissist/Learning-College-Algebra-with-Python/blob/main/Copy_of_Foundational_Math_2_(Learn).ipynb\" target=\"_parent\"><img src=\"https://colab.research.google.com/assets/colab-badge.svg\" alt=\"Open In Colab\"/></a>"
      ]
    },
    {
      "cell_type": "markdown",
      "metadata": {
        "id": "EsfO5Q92tL-6"
      },
      "source": [
        "[![freeCodeCamp](https://cdn.freecodecamp.org/testable-projects-fcc/images/fcc_secondary.svg)](https://freecodecamp.org/)"
      ]
    },
    {
      "cell_type": "markdown",
      "metadata": {
        "id": "7ECUmRBSGOb4"
      },
      "source": [
        "**Learn Foundational Math 2 by Building Cartesian Graphs**<br>\n",
        "Each of these steps will lead you toward the Certification Project. Once you complete a step, click to expand the next step."
      ]
    },
    {
      "cell_type": "markdown",
      "metadata": {
        "id": "szp5flp1fA8-"
      },
      "source": [
        "# &darr; **Do this first** &darr;\n",
        "Copy this notebook to your own account by clicking the `File` button at the top, and then click `Save a copy in Drive`. You will need to be logged in to Google. The file will be in a folder called \"Colab Notebooks\" in your Google Drive."
      ]
    },
    {
      "cell_type": "markdown",
      "source": [
        "# Step 0 - Acquire the testing library"
      ],
      "metadata": {
        "id": "iNcDJ45bGtYk"
      }
    },
    {
      "cell_type": "markdown",
      "source": [
        "Please run this code to get the library file from FreeCodeCamp. Each step will use this library to test your code. You do not need to edit anything; just run this code cell and wait a few seconds until it tells you to go on to the next step."
      ],
      "metadata": {
        "id": "2_U7sdv4zaww"
      }
    },
    {
      "cell_type": "code",
      "source": [
        "# You may need to run this cell at the beginning of each new session\n",
        "\n",
        "!pip install requests\n",
        "\n",
        "# This will just take a few seconds\n",
        "\n",
        "import requests\n",
        "\n",
        "# Get the library from GitHub\n",
        "url = 'https://raw.githubusercontent.com/edatfreecodecamp/python-math/main/math-code-test-b.py'\n",
        "r = requests.get(url)\n",
        "\n",
        "# Save the library in a local working directory\n",
        "with open('math_code_test_b.py', 'w') as f:\n",
        "    f.write(r.text)\n",
        "\n",
        "# Now you can import the library\n",
        "import math_code_test_b as test\n",
        "\n",
        "# This will tell you if the code works\n",
        "test.step01()"
      ],
      "metadata": {
        "id": "aDuDRHETG3Oy",
        "colab": {
          "base_uri": "https://localhost:8080/"
        },
        "outputId": "215c0416-6c67-461f-e029-4df0f7f75e22"
      },
      "execution_count": null,
      "outputs": [
        {
          "output_type": "stream",
          "name": "stdout",
          "text": [
            "Requirement already satisfied: requests in /usr/local/lib/python3.10/dist-packages (2.32.3)\n",
            "Requirement already satisfied: charset-normalizer<4,>=2 in /usr/local/lib/python3.10/dist-packages (from requests) (3.4.0)\n",
            "Requirement already satisfied: idna<4,>=2.5 in /usr/local/lib/python3.10/dist-packages (from requests) (3.10)\n",
            "Requirement already satisfied: urllib3<3,>=1.21.1 in /usr/local/lib/python3.10/dist-packages (from requests) (2.2.3)\n",
            "Requirement already satisfied: certifi>=2017.4.17 in /usr/local/lib/python3.10/dist-packages (from requests) (2024.12.14)\n",
            "Code test Passed\n",
            "Go on to the next step\n"
          ]
        }
      ]
    },
    {
      "cell_type": "markdown",
      "metadata": {
        "id": "ZWDxpIPUFfda"
      },
      "source": [
        "# Step 1 - Cartesian Coordinates"
      ]
    },
    {
      "cell_type": "markdown",
      "metadata": {
        "id": "eTWzFpChFltm"
      },
      "source": [
        "Learn Cartesian coordinates by building a scatterplot game. The Cartesian plane is the classic x-y coordinate grid (invented by Ren$\\acute{e}$ DesCartes) where \"<i>x</i>\" is the horizontal axis and \"<i>y</i>\" is the vertical axis. Each (x,y) coordinate pair is a point on the graph. The point (0,0) is the \"origin.\" The x value tells how much to move right (positive) or left (negative) from the origin. The y value tells you how much you move up (positive) or down (negative) from the origin. Notice that you are importing `matplotlib` to create the graph. The following code just displays one quadrant of the Cartesian graph. Just run this code to see how Python displays a graph.\n"
      ]
    },
    {
      "cell_type": "code",
      "metadata": {
        "id": "OGdjnZw0Fmf7",
        "colab": {
          "base_uri": "https://localhost:8080/",
          "height": 472
        },
        "outputId": "30244d2b-3691-42f8-fe8e-50975e8bbfb5"
      },
      "source": [
        "import matplotlib.pyplot as plt\n",
        "\n",
        "fig, ax = plt.subplots()\n",
        "plt.show()\n",
        "\n",
        "# Just run this code to see a blank graph\n",
        "import math_code_test_b as test\n",
        "test.step01()"
      ],
      "execution_count": null,
      "outputs": [
        {
          "output_type": "display_data",
          "data": {
            "text/plain": [
              "<Figure size 640x480 with 1 Axes>"
            ],
            "image/png": "[encoded data removed]"
          },
          "metadata": {}
        },
        {
          "output_type": "stream",
          "name": "stdout",
          "text": [
            "Code test Passed\n",
            "Go on to the next step\n"
          ]
        }
      ]
    },
    {
      "cell_type": "markdown",
      "metadata": {
        "id": "i1mBd8gGFvBV"
      },
      "source": [
        "# Step 2 - Cartesian Coordinates (Part 2)"
      ]
    },
    {
      "cell_type": "markdown",
      "metadata": {
        "id": "aylg20IGFvBW"
      },
      "source": [
        "Here you will create a standard window but still not highlight each axis. Run this code once, then change the window size to 20 in each direction and run it again."
      ]
    },
    {
      "cell_type": "code",
      "metadata": {
        "id": "EKfFo4_EFvBX",
        "colab": {
          "base_uri": "https://localhost:8080/",
          "height": 490
        },
        "outputId": "5f7afe31-046e-4c3e-c5c0-cfdd9303608a"
      },
      "source": [
        "import matplotlib.pyplot as plt\n",
        "\n",
        "fig, ax = plt.subplots()\n",
        "\n",
        "# Only change the numbers in the next line:\n",
        "plt.axis([-20,20,-20,20])\n",
        "\n",
        "plt.show()\n",
        "\n",
        "\n",
        "# Only change code above this line\n",
        "import math_code_test_b as test\n",
        "test.step02(In[-1].split('# Only change code above this line')[0])"
      ],
      "execution_count": null,
      "outputs": [
        {
          "output_type": "display_data",
          "data": {
            "text/plain": [
              "<Figure size 640x480 with 1 Axes>"
            ],
            "image/png": "[encoded data removed]"
          },
          "metadata": {}
        },
        {
          "output_type": "stream",
          "name": "stdout",
          "text": [
            " \n",
            "Code test passed\n",
            "Go on to the next step\n"
          ]
        }
      ]
    },
    {
      "cell_type": "markdown",
      "source": [
        "# Step 3 - Graph Dimensions"
      ],
      "metadata": {
        "id": "MYQL57cD2ejS"
      }
    },
    {
      "cell_type": "markdown",
      "source": [
        "When you look at this code, you can see how Python sets up window dimensions. You will also notice that it is easier and more organized to define the dimensions as variables. Run the code, then change just the `xmax` value to 20 and run it again to see the difference."
      ],
      "metadata": {
        "id": "b2k229tOz9YQ"
      }
    },
    {
      "cell_type": "code",
      "source": [
        "import matplotlib.pyplot as plt\n",
        "\n",
        "xmin = -10\n",
        "xmax = 20\n",
        "ymin = -10\n",
        "ymax = 10\n",
        "\n",
        "fig, ax = plt.subplots()\n",
        "plt.axis([xmin,xmax,ymin,ymax]) # window size\n",
        "plt.show()\n",
        "\n",
        "# Only change code above this line\n",
        "import math_code_test_b as test\n",
        "test.step03(In[-1].split('# Only change code above this line')[0])"
      ],
      "metadata": {
        "id": "uXvHo-5a2Zi_",
        "colab": {
          "base_uri": "https://localhost:8080/",
          "height": 490
        },
        "outputId": "8d71f456-d728-476b-9e4f-c76bbcaa9deb"
      },
      "execution_count": null,
      "outputs": [
        {
          "output_type": "display_data",
          "data": {
            "text/plain": [
              "<Figure size 640x480 with 1 Axes>"
            ],
            "image/png": "[encoded data removed]"
          },
          "metadata": {}
        },
        {
          "output_type": "stream",
          "name": "stdout",
          "text": [
            " \n",
            "Code test passed\n",
            "Go on to the next step\n"
          ]
        }
      ]
    },
    {
      "cell_type": "markdown",
      "source": [
        "# Step 4 - Displaying Axis Lines"
      ],
      "metadata": {
        "id": "jIHKROStFMcR"
      }
    },
    {
      "cell_type": "markdown",
      "source": [
        "Notice the code to `plot` a line for the x axis and a line for the y axis. The `'b'` makes the line blue. Run the code, then change each 'b' to 'g' to make the lines green."
      ],
      "metadata": {
        "id": "NhrHvY1YEndp"
      }
    },
    {
      "cell_type": "code",
      "source": [
        "import matplotlib.pyplot as plt\n",
        "\n",
        "xmin = -10\n",
        "xmax = 10\n",
        "ymin = -10\n",
        "ymax = 10\n",
        "\n",
        "fig, ax = plt.subplots()\n",
        "plt.axis([xmin,xmax,ymin,ymax]) # window size\n",
        "plt.plot([xmin,xmax],[0,0],'g') # blue x axis\n",
        "plt.plot([0,0],[ymin,ymax],'g') # blue y axis\n",
        "\n",
        "plt.show()\n",
        "\n",
        "# Only change code above this line\n",
        "import math_code_test_b as test\n",
        "test.step04(In[-1].split('# Only change code above this line')[0])"
      ],
      "metadata": {
        "id": "mgWhRLtwFGOd",
        "colab": {
          "base_uri": "https://localhost:8080/",
          "height": 490
        },
        "outputId": "ef154615-7a42-436d-ed28-bd3cb1fcfa40"
      },
      "execution_count": null,
      "outputs": [
        {
          "output_type": "display_data",
          "data": {
            "text/plain": [
              "<Figure size 640x480 with 1 Axes>"
            ],
            "image/png": "[encoded data removed]"
          },
          "metadata": {}
        },
        {
          "output_type": "stream",
          "name": "stdout",
          "text": [
            " \n",
            "Code test passed\n",
            "Go on to the next step\n"
          ]
        }
      ]
    },
    {
      "cell_type": "markdown",
      "metadata": {
        "id": "wLDO_IRrFw7z"
      },
      "source": [
        "# Step 5 - Plotting a Point"
      ]
    },
    {
      "cell_type": "markdown",
      "metadata": {
        "id": "iOZ8TJISFw71"
      },
      "source": [
        "Now you will plot a point on the graph. Notice the `'ro'` makes the point a red dot. Run the code, then change the location of the point to (-5,1) and run it again. Keep the window size the same. Notice the difference between plotting a point and plotting a line."
      ]
    },
    {
      "cell_type": "code",
      "metadata": {
        "id": "N09NlV3DFw71",
        "colab": {
          "base_uri": "https://localhost:8080/",
          "height": 490
        },
        "outputId": "37f90c7f-f9ce-487f-e31d-242e924a60e6"
      },
      "source": [
        "import matplotlib.pyplot as plt\n",
        "\n",
        "xmin = -10\n",
        "xmax = 10\n",
        "ymin = -10\n",
        "ymax = 10\n",
        "\n",
        "fig, ax = plt.subplots()\n",
        "plt.axis([xmin,xmax,ymin,ymax]) # window size\n",
        "plt.plot([xmin,xmax],[0,0],'b') # blue x axis\n",
        "plt.plot([0,0],[ymin,ymax],'b') # blue y axis\n",
        "\n",
        "# Change only the numbers in the following line:\n",
        "plt.plot([-5],[1], 'ro')\n",
        "\n",
        "plt.show()\n",
        "\n",
        "\n",
        "# Only change code above this line\n",
        "import math_code_test_b as test\n",
        "test.step05(In[-1].split('# Only change code above this line')[0])"
      ],
      "execution_count": null,
      "outputs": [
        {
          "output_type": "display_data",
          "data": {
            "text/plain": [
              "<Figure size 640x480 with 1 Axes>"
            ],
            "image/png": "[encoded data removed]"
          },
          "metadata": {}
        },
        {
          "output_type": "stream",
          "name": "stdout",
          "text": [
            " \n",
            "Code test passed\n",
            "Go on to the next step\n"
          ]
        }
      ]
    },
    {
      "cell_type": "markdown",
      "metadata": {
        "id": "ExVB2joZF0rk"
      },
      "source": [
        "# Step 6 - Plotting Several Points"
      ]
    },
    {
      "cell_type": "markdown",
      "metadata": {
        "id": "G48kO0jcF0rl"
      },
      "source": [
        "You have actually been using arrays to plot each singular point so far. In this step, you will see an array of x values and an array of y values defined before the plot statement. Notice that these two short arrays create one point: (4,2). Add two numbers to each array so that it also plots points (1,1) and (2,5)."
      ]
    },
    {
      "cell_type": "code",
      "metadata": {
        "id": "YkRIMNimF0rm",
        "colab": {
          "base_uri": "https://localhost:8080/",
          "height": 490
        },
        "outputId": "fdc73e0c-6728-40d1-b606-cfdd955b5fb7"
      },
      "source": [
        "import matplotlib.pyplot as plt\n",
        "\n",
        "# only change the next two lines:\n",
        "x = [4,1,2]\n",
        "y = [2,1,5]\n",
        "\n",
        "# Only change code above this line\n",
        "\n",
        "xmin = -10\n",
        "xmax = 10\n",
        "ymin = -10\n",
        "ymax = 10\n",
        "\n",
        "fig, ax = plt.subplots()\n",
        "plt.axis([xmin,xmax,ymin,ymax]) # window size\n",
        "plt.plot([xmin,xmax],[0,0],'b') # blue x axis\n",
        "plt.plot([0,0],[ymin,ymax],'b') # blue y axis\n",
        "\n",
        "plt.plot(x, y, 'ro') # red points\n",
        "plt.show()\n",
        "\n",
        "\n",
        "# Only change code above this line\n",
        "import math_code_test_b as test\n",
        "test.step06(In[-1].split('# Only change code above this line')[0])"
      ],
      "execution_count": null,
      "outputs": [
        {
          "output_type": "display_data",
          "data": {
            "text/plain": [
              "<Figure size 640x480 with 1 Axes>"
            ],
            "image/png": "[encoded data removed]"
          },
          "metadata": {}
        },
        {
          "output_type": "stream",
          "name": "stdout",
          "text": [
            " \n",
            "Code test passed\n",
            "Go on to the next step\n"
          ]
        }
      ]
    },
    {
      "cell_type": "markdown",
      "metadata": {
        "id": "3MqIpFTOF1m9"
      },
      "source": [
        "# Step 7 - Plotting Points and Lines"
      ]
    },
    {
      "cell_type": "markdown",
      "metadata": {
        "id": "1O1_p4BqF1m-"
      },
      "source": [
        "Notice the subtle difference between plotting points and lines. Each `plot()` statement takes an array of x values, an array of y values, and a third argument to tell what you are plotting. The default plot is a line. The letters `'r'` and `'b'` (and `'g'` and a few others) indicate common colors. The \"o\" in `'ro'` indicates a dot, where `'rs'` would indicate a red square and `'r^'` would indicate a red triangle. Plot a red line and two green squares."
      ]
    },
    {
      "cell_type": "code",
      "metadata": {
        "id": "oMRcOD7hF1m-",
        "colab": {
          "base_uri": "https://localhost:8080/",
          "height": 490
        },
        "outputId": "64563883-4ce9-4595-9e16-e9ef9b039528"
      },
      "source": [
        "import matplotlib.pyplot as plt\n",
        "\n",
        "# Use these numbers:\n",
        "linex = [2,4]\n",
        "liney = [1,5]\n",
        "pointx = [1,6]\n",
        "pointy = [6,3]\n",
        "\n",
        "# Keep these lines:\n",
        "xmin = -10\n",
        "xmax = 10\n",
        "ymin = -10\n",
        "ymax = 10\n",
        "\n",
        "fig, ax = plt.subplots()\n",
        "plt.axis([xmin,xmax,ymin,ymax]) # window size\n",
        "plt.plot([xmin,xmax],[0,0],'k') # blue x axis\n",
        "plt.plot([0,0],[ymin,ymax],'k') # blue y axis\n",
        "\n",
        "# Change the next two lines:\n",
        "plt.plot(linex,liney,'r')\n",
        "plt.plot(pointx, pointy,'gs')\n",
        "\n",
        "plt.show()\n",
        "\n",
        "\n",
        "# Only change code above this line\n",
        "import math_code_test_b as test\n",
        "test.step07(In[-1].split('# Only change code above this line')[0])"
      ],
      "execution_count": null,
      "outputs": [
        {
          "output_type": "display_data",
          "data": {
            "text/plain": [
              "<Figure size 640x480 with 1 Axes>"
            ],
            "image/png": "[encoded data removed]"
          },
          "metadata": {}
        },
        {
          "output_type": "stream",
          "name": "stdout",
          "text": [
            " \n",
            "Code test passed\n",
            "Go on to the next step\n"
          ]
        }
      ]
    },
    {
      "cell_type": "markdown",
      "metadata": {
        "id": "NKq_qwCsF3Dj"
      },
      "source": [
        "# Step 8 - Making a Scatterplot Game"
      ]
    },
    {
      "cell_type": "markdown",
      "metadata": {
        "id": "sBh-rNyOF3Dk"
      },
      "source": [
        "To make the game, you can make a loop that plots a random point and asks the user to input the (x,y) coordinates. Notice the `for` loop that runs three rounds of the game. Run the code, play the game, then you can go on to the next step."
      ]
    },
    {
      "cell_type": "code",
      "metadata": {
        "id": "uR5TFWbLF3Dk",
        "colab": {
          "base_uri": "https://localhost:8080/",
          "height": 1000
        },
        "outputId": "45b296d1-ede8-4614-88e2-af7efb383c89"
      },
      "source": [
        "import matplotlib.pyplot as plt\n",
        "import random\n",
        "\n",
        "score = 0\n",
        "\n",
        "xmin = -8\n",
        "xmax = 8\n",
        "ymin = -8\n",
        "ymax = 8\n",
        "\n",
        "fig, ax = plt.subplots()\n",
        "\n",
        "for i in range(0,3):\n",
        "    xpoint = random.randint(xmin, xmax)\n",
        "    ypoint = random.randint(ymin, ymax)\n",
        "    x = [xpoint]\n",
        "    y = [ypoint]\n",
        "    plt.axis([xmin,xmax,ymin,ymax]) # window size\n",
        "    plt.plot([xmin,xmax],[0,0],'b') # blue x axis\n",
        "    plt.plot([0,0],[ymin,ymax], 'b') # blue y axis\n",
        "    plt.plot(x, y, 'ro')\n",
        "    print(\" \")\n",
        "    plt.grid() # displays grid lines on graph\n",
        "    plt.show()\n",
        "    guess = input(\"Enter the coordinates of the red point point: \\n\")\n",
        "    guess_array = guess.split(\",\")\n",
        "    xguess = int(guess_array[0])\n",
        "    yguess = int(guess_array[1])\n",
        "    if xguess == xpoint and yguess == ypoint:\n",
        "        score = score + 1\n",
        "\n",
        "print(\"Your score: \", score) # notice this is not in the loop\n",
        "\n",
        "\n",
        "# Only change code above this line\n",
        "import math_code_test_b as test\n",
        "test.step08(score)"
      ],
      "execution_count": null,
      "outputs": [
        {
          "output_type": "stream",
          "name": "stdout",
          "text": [
            " \n"
          ]
        },
        {
          "output_type": "display_data",
          "data": {
            "text/plain": [
              "<Figure size 640x480 with 1 Axes>"
            ],
            "image/png": "[encoded data removed]"
          },
          "metadata": {}
        },
        {
          "output_type": "stream",
          "name": "stdout",
          "text": [
            "Enter the coordinates of the red point point: \n",
            "0,-4\n",
            " \n"
          ]
        },
        {
          "output_type": "display_data",
          "data": {
            "text/plain": [
              "<Figure size 640x480 with 1 Axes>"
            ],
            "image/png": "[encoded data removed]"
          },
          "metadata": {}
        },
        {
          "output_type": "stream",
          "name": "stdout",
          "text": [
            "Enter the coordinates of the red point point: \n",
            "0,0\n",
            " \n"
          ]
        },
        {
          "output_type": "display_data",
          "data": {
            "text/plain": [
              "<Figure size 640x480 with 1 Axes>"
            ],
            "image/png": "[encoded data removed]"
          },
          "metadata": {}
        },
        {
          "output_type": "stream",
          "name": "stdout",
          "text": [
            "Enter the coordinates of the red point point: \n",
            "2,4\n",
            "Your score:  2\n",
            "You can go on to the next step\n"
          ]
        }
      ]
    },
    {
      "cell_type": "markdown",
      "metadata": {
        "id": "wvdngkOTF4Hi"
      },
      "source": [
        "# Step 9 - Graphing Linear Equations"
      ]
    },
    {
      "cell_type": "markdown",
      "metadata": {
        "id": "fTzBZAmtF4Hj"
      },
      "source": [
        "Besides graphing points, you can graph <i>linear equations</i> (or <i>functions</i>). The graph will be a straight line, and the equation will not have any exponents. For these graphs, you will import `numpy` and use the `linspace()` function to define the x values. That function takes three arguments: starting number, ending number, and number of steps. Notice the `plot()` function only has two arguments: the x values and a function (y = 2x - 3) for the y values. Run this code, then use the same x values to graph `y = -x + 3`."
      ]
    },
    {
      "cell_type": "code",
      "metadata": {
        "id": "xJ0pkcFsF4Hj",
        "colab": {
          "base_uri": "https://localhost:8080/",
          "height": 490
        },
        "outputId": "bec206f9-8da4-4a27-db93-11bb2b96bd25"
      },
      "source": [
        "import matplotlib.pyplot as plt\n",
        "import numpy as np\n",
        "\n",
        "xmin = -10\n",
        "xmax = 10\n",
        "ymin = -10\n",
        "ymax = 10\n",
        "\n",
        "fig, ax = plt.subplots()\n",
        "plt.axis([xmin,xmax,ymin,ymax]) # window size\n",
        "plt.plot([xmin,xmax],[0,0],'b') # blue x axis\n",
        "plt.plot([0,0],[ymin,ymax], 'b') # blue y axis\n",
        "\n",
        "x = np.linspace(-9,9,36)\n",
        "\n",
        "# Only change the next line to graph y = -x + 3\n",
        "plt.plot(x, -x + 3)\n",
        "\n",
        "\n",
        "\n",
        "plt.show()\n",
        "\n",
        "\n",
        "# Only change code above this line\n",
        "import math_code_test_b as test\n",
        "test.step09(In[-1].split('# Only change code above this line')[0])"
      ],
      "execution_count": null,
      "outputs": [
        {
          "output_type": "display_data",
          "data": {
            "text/plain": [
              "<Figure size 640x480 with 1 Axes>"
            ],
            "image/png": "[encoded data removed]"
          },
          "metadata": {}
        },
        {
          "output_type": "stream",
          "name": "stdout",
          "text": [
            " \n",
            "Code test passed\n",
            "Go on to the next step\n"
          ]
        }
      ]
    },
    {
      "cell_type": "markdown",
      "metadata": {
        "id": "Q19Wm90DF5zf"
      },
      "source": [
        "# Step 10 - Creating Interactive Graphs"
      ]
    },
    {
      "cell_type": "markdown",
      "metadata": {
        "id": "JNEjD9DxF5zh"
      },
      "source": [
        "Like the previous graphs, you will graph a line. This time, you will create two sliders to change the <i>slope</i> and the <i>y intecept</i>. Notice the additional imports and other changes: You define a function with two arguments. All of the graphing happens within that `f(m,b)` function. The `interactive()` function calls your defined function and sets the boundaries for the sliders. Run this code then adjust the sliders and notice how they affect the graph."
      ]
    },
    {
      "cell_type": "code",
      "metadata": {
        "id": "9lh41CENF5zh",
        "colab": {
          "base_uri": "https://localhost:8080/",
          "height": 553,
          "referenced_widgets": [
            "9c2386eee121492d9867bd0c6d6dcdb3",
            "af2fafa45af741839809dbad8b1a0966",
            "cd59657d7ec14640917c4c7510623f80",
            "caff72648b8447bd9107ad4fc77f9d71",
            "f499cae0328941b89b60361b429b8048",
            "a7892e8c08d84023a82dfb79e5ffb687",
            "6ca07fa97f36435988236ca6e248fb87",
            "40153cb0484c461587771b7c87399065",
            "c66a1c1724c244bcab62f6e3372d5ab3",
            "4508672656dc43129efaa8810fb3bf05"
          ]
        },
        "outputId": "39587e57-a156-4f5c-a691-15362d4751ce"
      },
      "source": [
        "%matplotlib inline\n",
        "from ipywidgets import interactive\n",
        "import matplotlib.pyplot as plt\n",
        "import numpy as np\n",
        "\n",
        "# Define the graphing function\n",
        "def f(m, b):\n",
        "    xmin = -10\n",
        "    xmax = 10\n",
        "    ymin = -10\n",
        "    ymax = 10\n",
        "    plt.axis([xmin,xmax,ymin,ymax]) # window size\n",
        "    plt.plot([xmin,xmax],[0,0],'black') # black x axis\n",
        "    plt.plot([0,0],[ymin,ymax], 'black') # black y axis\n",
        "    plt.title('y = mx + b')\n",
        "    x = np.linspace(-10, 10, 1000)\n",
        "    plt.plot(x, m*x+b)\n",
        "    plt.show()\n",
        "\n",
        "# Set up the sliders\n",
        "interactive_plot = interactive(f, m=(-9, 9), b=(-9, 9))\n",
        "interactive_plot\n",
        "\n",
        "\n",
        "# Just run this code and use the sliders\n",
        "import math_code_test_b as test\n",
        "test.step01()\n",
        "interactive_plot"
      ],
      "execution_count": null,
      "outputs": [
        {
          "output_type": "stream",
          "name": "stdout",
          "text": [
            "Code test Passed\n",
            "Go on to the next step\n"
          ]
        },
        {
          "output_type": "display_data",
          "data": {
            "text/plain": [
              "interactive(children=(IntSlider(value=0, description='m', max=9, min=-9), IntSlider(value=0, description='b', …"
            ],
            "application/vnd.jupyter.widget-view+json": {
              "version_major": 2,
              "version_minor": 0,
              "model_id": "9c2386eee121492d9867bd0c6d6dcdb3"
            }
          },
          "metadata": {}
        }
      ]
    },
    {
      "cell_type": "markdown",
      "metadata": {
        "id": "YSY2k7S3F6d7"
      },
      "source": [
        "# Step 11 - Graphing Systems"
      ]
    },
    {
      "cell_type": "markdown",
      "metadata": {
        "id": "8MG28-VPF6d8"
      },
      "source": [
        "When you graph two equations on the same coordinate plane, they are a <i>system of equations</i>. Notice how the `points` variable defines the number of points and the `linspace()` function uses that variable. Run this code to see the graph, then change `y2` so that it graphs y = -x - 3."
      ]
    },
    {
      "cell_type": "code",
      "metadata": {
        "id": "wYHGm-PAF6d9",
        "colab": {
          "base_uri": "https://localhost:8080/",
          "height": 490
        },
        "outputId": "a205fbee-0054-457a-c2f8-68327cbb42c7"
      },
      "source": [
        "import matplotlib.pyplot as plt\n",
        "import numpy as np\n",
        "\n",
        "\n",
        "xmin = -10\n",
        "xmax = 10\n",
        "ymin = -10\n",
        "ymax = 10\n",
        "points = 2*(xmax-xmin)\n",
        "\n",
        "# Define the x values once\n",
        "x = np.linspace(xmin,xmax,points)\n",
        "\n",
        "fig, ax = plt.subplots()\n",
        "plt.axis([xmin,xmax,ymin,ymax]) # window size\n",
        "plt.plot([xmin,xmax],[0,0],'b') # blue x axis\n",
        "plt.plot([0,0],[ymin,ymax], 'b') # blue y axis\n",
        "\n",
        "# line 1\n",
        "y1 = 2*x\n",
        "plt.plot(x, y1)\n",
        "\n",
        "# line 2\n",
        "y2 = -x - 3\n",
        "plt.plot(x, y2)\n",
        "\n",
        "plt.show()\n",
        "\n",
        "\n",
        "# Only change code above this line\n",
        "import math_code_test_b as test\n",
        "test.step11(In[-1].split('# Only change code above this line')[0])"
      ],
      "execution_count": null,
      "outputs": [
        {
          "output_type": "display_data",
          "data": {
            "text/plain": [
              "<Figure size 640x480 with 1 Axes>"
            ],
            "image/png": "[encoded data removed]"
          },
          "metadata": {}
        },
        {
          "output_type": "stream",
          "name": "stdout",
          "text": [
            " \n",
            "Code test passed\n",
            "Go on to the next step\n"
          ]
        }
      ]
    },
    {
      "cell_type": "markdown",
      "metadata": {
        "id": "ykj42UNeF7K5"
      },
      "source": [
        "# Step 12 - Systems of Equations - Algebra"
      ]
    },
    {
      "cell_type": "markdown",
      "metadata": {
        "id": "n_-rpo6nF7K7"
      },
      "source": [
        "In a system of equations, the solution is the point where the two equations intersect, the (x,y) values that work in each equation. To work with algabraic expressions, you will import `sympy` and define x and y as symbols. If you have two equations and two variables, set each equation equal to zero. The `linsolve()` function takes the non-zero side of each equation and the variables used. Notice the syntax. Run the code, then change the two equations to solve 2x + y - 15 = 0 and 3x - y = 0."
      ]
    },
    {
      "cell_type": "code",
      "metadata": {
        "id": "6dFzZfqRF7K7",
        "colab": {
          "base_uri": "https://localhost:8080/"
        },
        "outputId": "b1d6e125-a0fc-4f16-e8cb-bb6fc542bdaf"
      },
      "source": [
        "from sympy import *\n",
        "x,y = symbols('x y')\n",
        "\n",
        "\n",
        "# Change the equations in the following line:\n",
        "print(linsolve([2*x + y -15, 3*x - y], (x, y)))\n",
        "\n",
        "\n",
        "# Only change code above this line\n",
        "import math_code_test_b as test\n",
        "test.step12(In[-1].split('# Only change code above this line')[0])"
      ],
      "execution_count": null,
      "outputs": [
        {
          "output_type": "stream",
          "name": "stdout",
          "text": [
            "{(3, 9)}\n",
            " \n",
            "Code test passed\n",
            "Go on to the next step\n"
          ]
        }
      ]
    },
    {
      "cell_type": "markdown",
      "source": [
        "# Step 13 - Solutions as Coordinates"
      ],
      "metadata": {
        "id": "QSKeBTgXHRAv"
      }
    },
    {
      "cell_type": "markdown",
      "source": [
        "The `linsolve()` function returns a <i>finite set</i>, and you can convert that \"finite set\" into (x,y) coordinates. Notice how the code parses the `solution` variable into two separate variables. Just run the code to see how this works."
      ],
      "metadata": {
        "id": "D2Ca3L-fHCzi"
      }
    },
    {
      "cell_type": "code",
      "source": [
        "from sympy import *\n",
        "x,y = symbols('x y')\n",
        "\n",
        "# Use variables for each equation\n",
        "first = x + y\n",
        "second = x - y\n",
        "\n",
        "# parse finite set answer as coordinate pair\n",
        "solution = linsolve([first, second], (x, y))\n",
        "x_solution = solution.args[0][0]\n",
        "y_solution = solution.args[0][1]\n",
        "\n",
        "print(\"x = \", x_solution)\n",
        "print(\"y = \", y_solution)\n",
        "print(\" \")\n",
        "print(\"Solution: (\",x_solution,\",\",y_solution,\")\")\n",
        "\n",
        "\n",
        "# Just run this code\n",
        "import math_code_test_b as test\n",
        "test.step01()"
      ],
      "metadata": {
        "id": "7uhBD85SHK3S",
        "colab": {
          "base_uri": "https://localhost:8080/"
        },
        "outputId": "2479b917-f96c-45db-9fa5-e28ad6e127b5"
      },
      "execution_count": null,
      "outputs": [
        {
          "output_type": "stream",
          "name": "stdout",
          "text": [
            "x =  0\n",
            "y =  0\n",
            " \n",
            "Solution: ( 0 , 0 )\n",
            "Code test Passed\n",
            "Go on to the next step\n"
          ]
        }
      ]
    },
    {
      "cell_type": "markdown",
      "metadata": {
        "id": "0epVLhL0F88U"
      },
      "source": [
        "# Step 14 - Systems from User Input"
      ]
    },
    {
      "cell_type": "markdown",
      "metadata": {
        "id": "VhoI5uNrF88V"
      },
      "source": [
        "For more flexibility, you can get each equation as user input (instead of defining them in the code). Run this code and try it out - to solve any system of two equations."
      ]
    },
    {
      "cell_type": "code",
      "metadata": {
        "id": "8irtXhucF88W",
        "colab": {
          "base_uri": "https://localhost:8080/"
        },
        "outputId": "b9b43259-5122-4735-cd47-eba70792f094"
      },
      "source": [
        "from sympy import *\n",
        "\n",
        "x,y = symbols('x y')\n",
        "print(\"Remember to use Python syntax with x and y as variables\")\n",
        "print(\"Notice how each equation is already set equal to zero\")\n",
        "first = input(\"Enter the first equation: 0 = \")\n",
        "second = input(\"Enter the second equation: 0 = \")\n",
        "solution = linsolve([first, second], (x, y))\n",
        "x_solution = solution.args[0][0]\n",
        "y_solution = solution.args[0][1]\n",
        "\n",
        "print(\"x = \", x_solution)\n",
        "print(\"y = \", y_solution)\n",
        "\n",
        "\n",
        "# Just run this code and test it with different equations\n",
        "import math_code_test_b as test\n",
        "test.step14()"
      ],
      "execution_count": null,
      "outputs": [
        {
          "output_type": "stream",
          "name": "stdout",
          "text": [
            "Remember to use Python syntax with x and y as variables\n",
            "Notice how each equation is already set equal to zero\n",
            "Enter the first equation: 0 = x+y\n",
            "Enter the second equation: 0 = 4*x+7*y+4\n",
            "x =  4/3\n",
            "y =  -4/3\n",
            " \n",
            "If you didn't get a syntax error, code test passed\n"
          ]
        }
      ]
    },
    {
      "cell_type": "markdown",
      "source": [
        "# Step 15 - Solve and graph a system"
      ],
      "metadata": {
        "id": "8FCFQaq1Hizh"
      }
    },
    {
      "cell_type": "markdown",
      "source": [
        "Now you can put it all together: solve a system of equations, graph the system, and plot a point where the two lines intersect. Notice how this code is not like the previous solving equations code or the graphing code or the user input code. Python uses `sympy` to get the (x,y) solution and `numpy` to get the values to graph, so the user inputs nummerical values and the code uses them in two different ways. Think about how you would do this if the user input values for ax + by = c."
      ],
      "metadata": {
        "id": "wMwKLQvyHaWp"
      }
    },
    {
      "cell_type": "code",
      "source": [
        "from sympy import *\n",
        "import matplotlib.pyplot as plt\n",
        "import numpy as np\n",
        "\n",
        "print(\"First equation: y = mx + b\")\n",
        "mb_1 = input(\"Enter m and b, separated by a comma: \")\n",
        "mb_in1 = mb_1.split(\",\")\n",
        "m1 = float(mb_in1[0])\n",
        "b1 = float(mb_in1[1])\n",
        "\n",
        "print(\"Second equation: y = mx + b\")\n",
        "mb_2 = input(\"Enter m and b, separated by a comma: \")\n",
        "mb_in2 = mb_2.split(\",\")\n",
        "m2 = float(mb_in2[0])\n",
        "b2 = float(mb_in2[1])\n",
        "\n",
        "# Solve the system of equations\n",
        "x,y = symbols('x y')\n",
        "first = m1*x + b1 - y\n",
        "second = m2*x + b2 - y\n",
        "solution = linsolve([first, second], (x, y))\n",
        "x_solution = round(float(solution.args[0][0]),3)\n",
        "y_solution = round(float(solution.args[0][1]),3)\n",
        "\n",
        "# Make sure the window includes the solution\n",
        "xmin = int(x_solution) - 20\n",
        "xmax = int(x_solution) + 20\n",
        "ymin = int(y_solution) - 20\n",
        "ymax = int(y_solution) + 20\n",
        "points = 2*(xmax-xmin)\n",
        "\n",
        "# Define the x values once for the graph\n",
        "graph_x = np.linspace(xmin,xmax,points)\n",
        "\n",
        "# Define the y values for the graph\n",
        "y1 = m1*graph_x + b1\n",
        "y2 = m2*graph_x + b2\n",
        "\n",
        "fig, ax = plt.subplots()\n",
        "plt.axis([xmin,xmax,ymin,ymax]) # window size\n",
        "plt.plot([xmin,xmax],[0,0],'b') # blue x axis\n",
        "plt.plot([0,0],[ymin,ymax], 'b') # blue y axis\n",
        "\n",
        "# line 1\n",
        "plt.plot(graph_x, y1)\n",
        "\n",
        "# line 2\n",
        "plt.plot(graph_x, y2)\n",
        "\n",
        "# point\n",
        "plt.plot([x_solution],[y_solution],'ro')\n",
        "\n",
        "plt.show()\n",
        "print(\" \")\n",
        "print(\"Solution: (\", x_solution, \",\", y_solution, \")\")\n",
        "\n",
        "\n",
        "# Run this code and test it with different equations\n"
      ],
      "metadata": {
        "id": "wLBNm5j6HffY",
        "colab": {
          "base_uri": "https://localhost:8080/",
          "height": 540
        },
        "outputId": "3cb158c9-8d00-46b5-bcb6-5b249c45710c"
      },
      "execution_count": null,
      "outputs": [
        {
          "name": "stdout",
          "output_type": "stream",
          "text": [
            "First equation: y = mx + b\n",
            "Enter m and b, separated by a comma: 4,5\n",
            "Second equation: y = mx + b\n",
            "Enter m and b, separated by a comma: 6,9\n"
          ]
        },
        {
          "output_type": "display_data",
          "data": {
            "text/plain": [
              "<Figure size 640x480 with 1 Axes>"
            ],
            "image/png": "[encoded data removed]"
          },
          "metadata": {}
        },
        {
          "output_type": "stream",
          "name": "stdout",
          "text": [
            " \n",
            "Solution: ( -2.0 , -3.0 )\n"
          ]
        }
      ]
    },
    {
      "cell_type": "markdown",
      "metadata": {
        "id": "BhKPZQJZF9w0"
      },
      "source": [
        "# Step 16 - Quadratic Functions"
      ]
    },
    {
      "cell_type": "markdown",
      "metadata": {
        "id": "BYmD2FYHF9w1"
      },
      "source": [
        "Any function that involves x<sup>2</sup> is a \"quadratic\" function because \"x squared\" could be the area of a square. The graph is a parabola. The formula is y = ax<sup>2</sup> + bx + c, where `b` and `c` can be zero but `a` has to be a number. Here is a graph of the simplest parabola."
      ]
    },
    {
      "cell_type": "code",
      "metadata": {
        "id": "sfQl_A1CF9w1",
        "colab": {
          "base_uri": "https://localhost:8080/",
          "height": 472
        },
        "outputId": "49ff77a3-94a1-459d-f8b7-b67476599f45"
      },
      "source": [
        "import matplotlib.pyplot as plt\n",
        "import numpy as np\n",
        "\n",
        "xmin = -10\n",
        "xmax = 10\n",
        "ymin = -10\n",
        "ymax = 10\n",
        "points = 2*(xmax-xmin)\n",
        "x = np.linspace(xmin,xmax,points)\n",
        "\n",
        "fig, ax = plt.subplots()\n",
        "plt.axis([xmin,xmax,ymin,ymax]) # window size\n",
        "plt.plot([xmin,xmax],[0,0],'b') # blue x axis\n",
        "plt.plot([0,0],[ymin,ymax], 'b') # blue y axis\n",
        "\n",
        "y = x**2\n",
        "\n",
        "plt.plot(x,y)\n",
        "plt.show()\n",
        "\n",
        "# Just run this code. The next step will transform the graph\n",
        "import math_code_test_b as test\n",
        "test.step01()"
      ],
      "execution_count": null,
      "outputs": [
        {
          "output_type": "display_data",
          "data": {
            "text/plain": [
              "<Figure size 640x480 with 1 Axes>"
            ],
            "image/png": "[encoded data removed]"
          },
          "metadata": {}
        },
        {
          "output_type": "stream",
          "name": "stdout",
          "text": [
            "Code test Passed\n",
            "Go on to the next step\n"
          ]
        }
      ]
    },
    {
      "cell_type": "markdown",
      "metadata": {
        "id": "I0mklEluF-jI"
      },
      "source": [
        "# Step 17 - Quadratic Function ABC's"
      ]
    },
    {
      "cell_type": "markdown",
      "metadata": {
        "id": "AJuHf8ySF-jJ"
      },
      "source": [
        "Using the parabola formula y = ax<sup>2</sup> + bx + c, you will change the values of `a`, `b`, and `c` to see how they affect the graph. Run the code and use the sliders to change the values of `a` and `b`. Then change the code in the three places indicated to add a slider for `c`. You may remember this type of interactive graph from an earlier step. Move each slider to see how it affects the graph."
      ]
    },
    {
      "cell_type": "code",
      "metadata": {
        "id": "9IVFnXxVF-jJ",
        "colab": {
          "base_uri": "https://localhost:8080/",
          "height": 586,
          "referenced_widgets": [
            "2a42cb88a4b44c749dcee83dc6d63165",
            "fa057f6716ed44e481a5d9b82af7f9f1",
            "f8886e3c3d304674810096d1dc21d0cc",
            "6779171ef2af4133b22d3d3151892ea3",
            "afa74fae4a5a4c8fb791fa174cc31687",
            "e38a5ad46d51434cbd9049b6c586f282",
            "53dde4adcf5f48819f9e211d7cc7a0fa",
            "6837142d16684cdb9550fa7757a795f4",
            "0d9e09cd7d5d454aa0b94fb09e2e94d0",
            "8c534c8c28834d32afc2a5dfa8c7eba9",
            "4792b533099142fe914006fea958df52",
            "95569d51bb0845d99d9759a25cf3818c",
            "b3888bb4ace34a3b82180750aefd8317"
          ]
        },
        "outputId": "9dc4fed2-85ef-4f8c-9430-2a04787716e5"
      },
      "source": [
        "%matplotlib inline\n",
        "from ipywidgets import interactive\n",
        "import matplotlib.pyplot as plt\n",
        "import numpy as np\n",
        "\n",
        "# Change the next line to include c:\n",
        "def f(a,b,c):\n",
        "    plt.axis([-10,10,-10,10]) # window size\n",
        "    plt.plot([-10,10],[0,0],'k') # blue x axis\n",
        "    plt.plot([0,0],[-10,10], 'k') # blue y axis\n",
        "    x = np.linspace(-10, 10, 1000)\n",
        "\n",
        "    # Change the next line to add c to the end of the function:\n",
        "    plt.plot(x, a*x**2 + b*x+c)\n",
        "    plt.show()\n",
        "\n",
        "# Change the next line to add a slider to change the c value\n",
        "interactive_plot = interactive(f, a=(-9, 9), b=(-9,9),c=(-9,9))\n",
        "interactive_plot\n",
        "\n",
        "\n",
        "# Run the code once, then change the code and run it again\n",
        "\n",
        "# Only change code above this line\n",
        "import math_code_test_b as test\n",
        "test.step17(In[-1].split('# Only change code above this line')[0])\n",
        "interactive_plot"
      ],
      "execution_count": null,
      "outputs": [
        {
          "output_type": "stream",
          "name": "stdout",
          "text": [
            "Code test passed\n",
            "Go on to the next step\n",
            " \n"
          ]
        },
        {
          "output_type": "display_data",
          "data": {
            "text/plain": [
              "interactive(children=(IntSlider(value=0, description='a', max=9, min=-9), IntSlider(value=0, description='b', …"
            ],
            "application/vnd.jupyter.widget-view+json": {
              "version_major": 2,
              "version_minor": 0,
              "model_id": "2a42cb88a4b44c749dcee83dc6d63165"
            }
          },
          "metadata": {}
        }
      ]
    },
    {
      "cell_type": "markdown",
      "metadata": {
        "id": "eFehWNexGASC"
      },
      "source": [
        "# Step 18 - Quadratic Functions - Vertex"
      ]
    },
    {
      "cell_type": "markdown",
      "metadata": {
        "id": "p8hAZw_CGASD"
      },
      "source": [
        "The <i>vertex</i> is the point where the parabola turns around. The x value of the vertex is $\\frac{-b}{2a}$ (and then you would calculate the y value to get the point). Write the code to find the vertex, given `a`, `b`, and `c` as inputs. Remember the parabola forumula is y = ax<sup>2</sup> + bx + c"
      ]
    },
    {
      "cell_type": "code",
      "metadata": {
        "id": "cjMI5uZZGASD",
        "colab": {
          "base_uri": "https://localhost:8080/",
          "height": 600
        },
        "outputId": "1153fab7-721c-4a98-83e4-2e136ef50c91"
      },
      "source": [
        "import matplotlib.pyplot as plt\n",
        "import numpy as np\n",
        "\n",
        "# \\u00b2 prints 2 as an exponent\n",
        "print(\"y = ax\\u00b2 + bx + c\")\n",
        "\n",
        "a = float(input(\"a = \"))\n",
        "b = float(input(\"b = \"))\n",
        "c = float(input(\"c = \"))\n",
        "\n",
        "# Write your code here, changing vx and vy\n",
        "vx = -b/(2*a)\n",
        "vy = a*vx**2 + b*vx + c\n",
        "\n",
        "\n",
        "# Only change the code above this line\n",
        "\n",
        "print(\" (\", vx, \" , \", vy, \")\")\n",
        "print(\" \")\n",
        "\n",
        "xmin = int(vx)-10\n",
        "xmax = int(vx)+10\n",
        "ymin = int(vy)-10\n",
        "ymax = int(vy)+10\n",
        "points = 2*(xmax-xmin)\n",
        "x = np.linspace(xmin,xmax,points)\n",
        "\n",
        "fig, ax = plt.subplots()\n",
        "plt.axis([xmin,xmax,ymin,ymax]) # window size\n",
        "plt.plot([xmin,xmax],[0,0],'b') # blue x axis\n",
        "plt.plot([0,0],[ymin,ymax], 'b') # blue y axis\n",
        "\n",
        "plt.plot([vx],[vy],'ro') # vertex\n",
        "\n",
        "x = np.linspace(vx-10,vx+10,100)\n",
        "y = a*x**2 + b*x + c\n",
        "plt.plot(x,y)\n",
        "\n",
        "plt.show()\n",
        "\n",
        "\n",
        "# Only change code above this line\n",
        "import math_code_test_b as test\n",
        "test.step18(In[-1].split('# Only change code above this line')[0])"
      ],
      "execution_count": null,
      "outputs": [
        {
          "output_type": "stream",
          "name": "stdout",
          "text": [
            "y = ax² + bx + c\n",
            "a = 4\n",
            "b = 5\n",
            "c = 2\n",
            " ( -0.625  ,  0.4375 )\n",
            " \n"
          ]
        },
        {
          "output_type": "display_data",
          "data": {
            "text/plain": [
              "<Figure size 640x480 with 1 Axes>"
            ],
            "image/png": "[encoded data removed]"
          },
          "metadata": {}
        },
        {
          "output_type": "stream",
          "name": "stdout",
          "text": [
            " \n",
            "Code test passed\n",
            "Go on to the next step\n"
          ]
        }
      ]
    },
    {
      "cell_type": "markdown",
      "metadata": {
        "id": "WbqugasGGCKJ"
      },
      "source": [
        "# Step 19 - Projectile Motion"
      ]
    },
    {
      "cell_type": "markdown",
      "metadata": {
        "id": "TtM_pFHaGCKK"
      },
      "source": [
        "The path of every projectile is a parabola. For something thrown or launched upward, the `a` value is -4.9 (meters per second squared); the `b` value is the initial velocity (in meters per second); the `c` value is the initial height (in meters); the `x` value is time (in seconds); and the `y` value is the height at that time. In this code, change `vx` and `vy` to represent the vertex. Plotting that (x,y) vertex point is already in the code."
      ]
    },
    {
      "cell_type": "code",
      "metadata": {
        "id": "FTNV_bjuGCKL",
        "colab": {
          "base_uri": "https://localhost:8080/",
          "height": 564
        },
        "outputId": "d43ee163-2dd6-4cae-977a-1298b60b0cc5"
      },
      "source": [
        "import matplotlib.pyplot as plt\n",
        "import numpy as np\n",
        "\n",
        "a = -4.9\n",
        "b = float(input(\"Initial velocity = \"))\n",
        "c = float(input(\"Initial height = \"))\n",
        "\n",
        "# Change vx and vy to represent the vertex\n",
        "vx = -b/(2*a)\n",
        "vy = a*vx**2 + b*vx + c\n",
        "\n",
        "\n",
        "# Also change the following dimensions to display the vertex\n",
        "xmin = -10\n",
        "xmax = 10\n",
        "ymin = -10\n",
        "ymax = 10\n",
        "\n",
        "# You do not need to change anything below this line\n",
        "points = 2*(xmax-xmin)\n",
        "x = np.linspace(xmin,xmax,points)\n",
        "y = a*x**2 + b*x + c\n",
        "\n",
        "fig, ax = plt.subplots()\n",
        "plt.axis([xmin,xmax,ymin,ymax]) # window size\n",
        "plt.plot([xmin,xmax],[0,0],'b') # blue x axis\n",
        "plt.plot([0,0],[ymin,ymax], 'b') # blue y axis\n",
        "\n",
        "plt.plot(x,y) # plot the line for the equation\n",
        "plt.plot([vx],[vy],'ro') # plot the vertex point\n",
        "\n",
        "print(\" (\", vx, \",\", vy, \")\")\n",
        "print(\" \")\n",
        "plt.show()\n",
        "\n",
        "\n",
        "# Only change code above this line\n",
        "import math_code_test_b as test\n",
        "test.step19(In[-1].split('# Only change code above this line')[0])"
      ],
      "execution_count": null,
      "outputs": [
        {
          "output_type": "stream",
          "name": "stdout",
          "text": [
            "Initial velocity = 42\n",
            "Initial height = 10\n",
            " ( 4.285714285714286 , 100.0 )\n",
            " \n"
          ]
        },
        {
          "output_type": "display_data",
          "data": {
            "text/plain": [
              "<Figure size 640x480 with 1 Axes>"
            ],
            "image/png": "[encoded data removed]"
          },
          "metadata": {}
        },
        {
          "output_type": "stream",
          "name": "stdout",
          "text": [
            " \n",
            "Code test passed\n",
            "Go on to the next step\n"
          ]
        }
      ]
    },
    {
      "cell_type": "markdown",
      "metadata": {
        "id": "hN_fvENUGBAm"
      },
      "source": [
        "# Step 20 - Quadratic Functions - C"
      ]
    },
    {
      "cell_type": "markdown",
      "metadata": {
        "id": "GrJNli5pGBAn"
      },
      "source": [
        "Like many other functions, the `c` value (also called the \"constant\" because it is not a variable) affects the vertical shift of the graph. Run the following code to see how changing the `c` value changes the graph."
      ]
    },
    {
      "cell_type": "code",
      "metadata": {
        "id": "hiSN0VexGBAn",
        "colab": {
          "base_uri": "https://localhost:8080/",
          "height": 489
        },
        "outputId": "170de9d2-0ab9-48f7-87c7-30047ce56128"
      },
      "source": [
        "import matplotlib.pyplot as plt\n",
        "import numpy as np\n",
        "import time\n",
        "from IPython import display\n",
        "\n",
        "x = np.linspace(-4,4,16)\n",
        "fig, ax = plt.subplots()\n",
        "cvalue = \"c = \"\n",
        "\n",
        "for c in range(10):\n",
        "    y = -x**2+c\n",
        "    plt.plot(x,y)\n",
        "    cvalue = \"c = \", c\n",
        "    ax.set_title(cvalue)\n",
        "    display.display(plt.gcf())\n",
        "    time.sleep(0.5)\n",
        "    display.clear_output(wait=True)\n",
        "\n",
        "# Just run this code\n",
        "import math_code_test_b as test\n",
        "test.step01()"
      ],
      "execution_count": null,
      "outputs": [
        {
          "output_type": "stream",
          "name": "stdout",
          "text": [
            "Code test Passed\n",
            "Go on to the next step\n"
          ]
        },
        {
          "output_type": "display_data",
          "data": {
            "text/plain": [
              "<Figure size 640x480 with 1 Axes>"
            ],
            "image/png": "[encoded data removed]"
          },
          "metadata": {}
        }
      ]
    },
    {
      "cell_type": "markdown",
      "metadata": {
        "id": "vteEy9QFGD5I"
      },
      "source": [
        "# Step 21 - The Quadratic Formula"
      ]
    },
    {
      "cell_type": "markdown",
      "metadata": {
        "id": "xALyhEsNGD5J"
      },
      "source": [
        "For a projectile, you also need to find the point when it hits the ground. On a graph, you would call these points the \"roots\" or \"x intercepts\" or \"zeros\" (because y = 0 at these points). The <i>quadratic formula</i> gives you the x value when y = 0. Given `a`,`b` and `c`, here is the quadratic formula:<br> x = $\\frac{-b \\pm \\sqrt{b^2 - 4ac}}{2a}$ Notice it's the vertex plus or minus something: $\\frac{-b}{2a} + \\frac{\\sqrt{b^2 - 4ac}}{2a}$ and $\\frac{-b}{2a} - \\frac{\\sqrt{b^2 - 4ac}}{2a}$ <br>\n",
        "Write the code to output two x values, given a, b, and c as input. Use `math.sqrt()` for the square root."
      ]
    },
    {
      "cell_type": "code",
      "metadata": {
        "id": "R3OIh1pOGD5K",
        "colab": {
          "base_uri": "https://localhost:8080/"
        },
        "outputId": "25131b24-bca1-4069-87ce-0b0c98eaf482"
      },
      "source": [
        "import math\n",
        "\n",
        "# \\u00b2 prints 2 as an exponent\n",
        "print(\"0 = ax\\u00b2 + bx + c\")\n",
        "a = float(input(\"a = \"))\n",
        "b = float(input(\"b = \"))\n",
        "c = float(input(\"c = \"))\n",
        "x1 = 0\n",
        "x2 = 0\n",
        "\n",
        "# Check for non-real answers:\n",
        "if b**2-4*a*c < 0:\n",
        "    print(\"No real roots\")\n",
        "else:\n",
        "    # Write your code here, changing x1 and x2\n",
        "    x1 = (-b + math.sqrt(b**2 - 4*a*c))/(2*a)\n",
        "    x2 = (-b - math.sqrt(b**2 - 4*a*c))/(2*a)\n",
        "    print(\"The roots are \", x1, \" and \", x2)\n",
        "\n",
        "\n",
        "\n",
        "# Only change code above this line\n",
        "import math_code_test_b as test\n",
        "test.step21(In[-1].split('# Only change code above this line')[0])"
      ],
      "execution_count": null,
      "outputs": [
        {
          "output_type": "stream",
          "name": "stdout",
          "text": [
            "0 = ax² + bx + c\n",
            "a = -32\n",
            "b = 8\n",
            "c = 20\n",
            "The roots are  -0.6753905296791061  and  0.9253905296791061\n",
            " \n",
            "Code test passed\n",
            "Go on to the next step\n"
          ]
        }
      ]
    },
    {
      "cell_type": "markdown",
      "metadata": {
        "id": "VXxx7RCVSs4j"
      },
      "source": [
        "# Step 22 - Table of Values"
      ]
    },
    {
      "cell_type": "markdown",
      "metadata": {
        "id": "9Bd8bgPISiRH"
      },
      "source": [
        "In addition to graphing a function, you may need a table of values. This code shows how to make a simple table of (x,y) values. Run the code, then change the title to \"y = 3x + 2\" and change the function in the table."
      ]
    },
    {
      "cell_type": "code",
      "metadata": {
        "id": "e4dBSioJGGd3",
        "colab": {
          "base_uri": "https://localhost:8080/",
          "height": 483
        },
        "outputId": "05aa3921-06c3-41c0-938b-4b7497c9054d"
      },
      "source": [
        "import numpy as np\n",
        "import matplotlib.pyplot as plt\n",
        "\n",
        "ax = plt.subplot()\n",
        "ax.set_axis_off()\n",
        "title = \"y = 3x+2\" # Change this title\n",
        "cols = ('x', 'y')\n",
        "rows = [[0,0]]\n",
        "for a in range(1,10):\n",
        "    rows.append([a, 3*a+2]) # Change only the function in this line\n",
        "\n",
        "ax.set_title(title)\n",
        "plt.table(cellText=rows, colLabels=cols, cellLoc='center', loc='upper left')\n",
        "plt.show()\n",
        "\n",
        "\n",
        "# Only change code above this line\n",
        "import math_code_test_b as test\n",
        "test.step22(In[-1].split('# Only change code above this line')[0])"
      ],
      "execution_count": null,
      "outputs": [
        {
          "output_type": "display_data",
          "data": {
            "text/plain": [
              "<Figure size 640x480 with 1 Axes>"
            ],
            "image/png": "[encoded data removed]"
          },
          "metadata": {}
        },
        {
          "output_type": "stream",
          "name": "stdout",
          "text": [
            " \n",
            "Code test passed\n",
            "Go on to the next step\n"
          ]
        }
      ]
    },
    {
      "cell_type": "markdown",
      "metadata": {
        "id": "jpo7oASHGEu7"
      },
      "source": [
        "# Step 23 - Projectile Game"
      ]
    },
    {
      "cell_type": "markdown",
      "metadata": {
        "id": "WHx9faGkGEu7"
      },
      "source": [
        "Learn quadratic functions by building a projectile game. Starting at (0,0) you launch a toy rocket that must clear a wall. You can randomize the height and location of the wall. The goal is to determine what initial velocity would get the rocket over the wall. Bonus: make an animation of the path of the rocket.\n"
      ]
    },
    {
      "cell_type": "code",
      "metadata": {
        "id": "-yFfSgoeWHN3",
        "colab": {
          "base_uri": "https://localhost:8080/",
          "height": 509
        },
        "outputId": "ab49f6f7-baad-4add-ae04-3a055a4d6882"
      },
      "source": [
        "# Write your code here\n",
        "import matplotlib.pyplot as plt\n",
        "import numpy as np\n",
        "import random\n",
        "from IPython import display\n",
        "import time\n",
        "import math\n",
        "\n",
        "def Rockets():\n",
        "    dis = random.randint(2,5)\n",
        "    h = random.randint(2,10)\n",
        "\n",
        "    linex = [dis, dis]\n",
        "    liney = [0,h]\n",
        "\n",
        "    print(\"Distance to wall = \", dis)\n",
        "    print(\"Height of wall = \", h)\n",
        "\n",
        "    a = -4.9\n",
        "    b = float(input(\"Velocity needed to clear the wall = \"))\n",
        "    vx = -b/(2*a)\n",
        "    vy = a*vx**2 + b*vx\n",
        "\n",
        "    xmin = -2\n",
        "    xmax = dis + 5\n",
        "    ymin = -2\n",
        "    ymax = vy + 5\n",
        "\n",
        "    points = 2*(xmax-xmin)\n",
        "    x = np.linspace(xmin,xmax,points)\n",
        "    y = a*x**2 + b*x\n",
        "    x1 = float((-b - math.sqrt(b**2))/(2*a))\n",
        "    x2 = float((-b + math.sqrt(b**2))/(2*a))\n",
        "\n",
        "    fig, ax = plt.subplots()\n",
        "    plt.axis([xmin,xmax,ymin,ymax])\n",
        "    plt.plot([xmin,xmax],[0,0],'k')\n",
        "    plt.plot([0,0],[ymin,ymax],'k')\n",
        "\n",
        "    ax.set_ylabel('Hieght')\n",
        "    ax.set_xlabel('Distance')\n",
        "    ax.set_title('Rocket!')\n",
        "    ax.grid(True)\n",
        "\n",
        "    ax.set_xticks(np.arange(xmin, xmax, 2))\n",
        "    ax.set_yticks(np.arange(ymin, ymax, 2))\n",
        "\n",
        "    pts = int(math.floor(points / 2))\n",
        "\n",
        "    for i in range(0,int(b)):\n",
        "        display.display(plt.gcf())\n",
        "        time.sleep(0.25)\n",
        "        display.clear_output(wait=True)\n",
        "        plt.plot(x,y,'b',label='Rocket')\n",
        "        plt.plot(linex,liney,'r',label='Wall')\n",
        "        plt.plot(x[:i+1], y[:i+1],'r^')\n",
        "        plt.plot([vx],[vy],'k^')\n",
        "\n",
        "    if x1 < float(dis):\n",
        "      print(\"You Lose!\")\n",
        "    elif x1 > float(dis):\n",
        "      print(\"You Win!\")\n",
        "\n",
        "    plt.show()\n",
        "    return\n",
        "\n",
        "Inquery = input('Wanna play a game? (y/n):')\n",
        "if Inquery == 'y':\n",
        "    Rockets()\n",
        "    print('Goodbye')\n",
        "elif Inquery == 'n':\n",
        "    print('Goodbye')\n",
        "\n",
        "# This step does not have a test"
      ],
      "execution_count": null,
      "outputs": [
        {
          "output_type": "stream",
          "name": "stdout",
          "text": [
            "You Win!\n"
          ]
        },
        {
          "output_type": "display_data",
          "data": {
            "text/plain": [
              "<Figure size 640x480 with 1 Axes>"
            ],
            "image/png": "[encoded data removed]"
          },
          "metadata": {}
        },
        {
          "output_type": "stream",
          "name": "stdout",
          "text": [
            "Goodbye\n"
          ]
        }
      ]
    },
    {
      "cell_type": "markdown",
      "source": [
        "# Step 24 - Define Graphing Functions"
      ],
      "metadata": {
        "id": "pE5o0-VMaIy3"
      }
    },
    {
      "cell_type": "markdown",
      "source": [
        "Building on what you have already done, create a menu with the following options:<br>\n",
        "<ul>\n",
        "<li>Display the graph and a table of values for any \"y=\" equation input</li>\n",
        "<li>Solve a system of two equations without graphing</li>\n",
        "<li>Graph two equations and plot the point of intersection</li>\n",
        "<li>Given a, b and c in a quadratic equation, plot the roots and vertex</li>\n",
        "</ul>\n",
        "Then think about how you will define a function for each item."
      ],
      "metadata": {
        "id": "c5tXoITnag_P"
      }
    },
    {
      "cell_type": "code",
      "source": [
        "# Write your code here\n",
        "from sympy.parsing.mathematica import parse_mathematica as p_math\n",
        "import matplotlib.pyplot as plt\n",
        "import numpy as np\n",
        "import math\n",
        "from sympy import lambdify, symbols\n",
        "from sympy.solvers import linsolve\n",
        "\n",
        "def Menu():\n",
        "    print(\"1. Graph and Table a function\")\n",
        "    print(\"2. Solve two equations system\")\n",
        "    print(\"3. Graph two functions and plot intersection\")\n",
        "    print(\"4. Quadratic equation: plot roots and vertex\")\n",
        "    Select = int(input('Option selected:'))\n",
        "    try:\n",
        "      if Select == 1:\n",
        "          print(\"Enter any function that is some degree of x.\")\n",
        "          GraphTable()\n",
        "      elif Select == 2:\n",
        "          print(\"First equation: y = mx + b\")\n",
        "          mb_1 = input(\"Enter m and b, separated by a comma: \")\n",
        "          mb_in1 = mb_1.split(\",\")\n",
        "          m1 = float(mb_in1[0])\n",
        "          b1 = float(mb_in1[1])\n",
        "          print(\"Second equation: y = mx + b\")\n",
        "          mb_2 = input(\"Enter m and b, separated by a comma: \")\n",
        "          mb_in2 = mb_2.split(\",\")\n",
        "          m2 = float(mb_in2[0])\n",
        "          b2 = float(mb_in2[1])\n",
        "          x,y = SolveLinearSystem(m1,b2,m2,b2)\n",
        "          print(\"Solution: (\", x, \",\", y, \")\")\n",
        "      elif Select == 3:\n",
        "          print(\"First equation: y = mx + b\")\n",
        "          mb_1 = input(\"Enter m and b, separated by a comma: \")\n",
        "          mb_in1 = mb_1.split(\",\")\n",
        "          m1 = float(mb_in1[0])\n",
        "          b1 = float(mb_in1[1])\n",
        "          print(\"Second equation: y = mx + b\")\n",
        "          mb_2 = input(\"Enter m and b, separated by a comma: \")\n",
        "          mb_in2 = mb_2.split(\",\")\n",
        "          m2 = float(mb_in2[0])\n",
        "          b2 = float(mb_in2[1])\n",
        "          IntersectionGraph(m1,b2,m2,b2)\n",
        "      elif Select == 4:\n",
        "          Quadratic()\n",
        "    except:\n",
        "        print(\"Invalid option\")\n",
        "        Menu()\n",
        "\n",
        "def GraphTable():\n",
        "    fig, ax = plt.subplots()\n",
        "    plt.axis([-10,10,-10,10])\n",
        "    plt.plot([-10,10],[0,0],'k')\n",
        "    plt.plot([0,0],[-10,10],'k')\n",
        "    x = np.linspace(-10, 10, 40)\n",
        "    eq = input('y = ')\n",
        "    x_sym = symbols('x')\n",
        "    eq_func = lambdify(x_sym, p_math(eq), 'numpy')\n",
        "    y = eq_func(x)\n",
        "    plt.plot(x, y,'b')\n",
        "    plt.show()\n",
        "    ax = plt.subplot()\n",
        "    ax.set_axis_off()\n",
        "    title = str(eq)\n",
        "    cols = ('x', 'y')\n",
        "    rows = [[0,0]]\n",
        "    for a in range(1,10):\n",
        "        rows.append([a, eq_func(a)])\n",
        "    ax.set_title(title)\n",
        "    plt.table(cellText=rows, colLabels=cols, cellLoc='center', loc='upper left')\n",
        "    plt.show()\n",
        "\n",
        "def SolveLinearSystem(m1,b1,m2,b2):\n",
        "    x,y = symbols('x y')\n",
        "    one = m1*x + b1 - y\n",
        "    two = m2*x + b2 - y\n",
        "    sol = linsolve([one, two], (x, y))\n",
        "    xsol = round(float(sol.args[0][0]),3)\n",
        "    ysol = round(float(sol.args[0][1]),3)\n",
        "    return(xsol, ysol)\n",
        "\n",
        "def IntersectionGraph(b1,c1,b2,c2):\n",
        "    x0, y0 = SolveLinearSystem(b1,c1,b2,c2)\n",
        "    xmin = int(x0) - 20\n",
        "    xmax = int(x0) + 20\n",
        "    ymin = int(y0) - 20\n",
        "    ymax = int(y0) + 20\n",
        "    pts = 2*(xmax-xmin)\n",
        "    x = np.linspace(xmin,xmax,pts)\n",
        "    y1 = b1*x + c1\n",
        "    y2 = b2*x + c2\n",
        "    fig, ax = plt.subplots()\n",
        "    plt.axis([xmin,xmax,ymin,ymax])\n",
        "    plt.plot([xmin,xmax],[0,0],'k')\n",
        "    plt.plot([0,0],[ymin,ymax],'k')\n",
        "    plt.plot(x, y1)\n",
        "    plt.plot(x, y2)\n",
        "    plt.plot([x0],[y0],'ro')\n",
        "    plt.show()\n",
        "\n",
        "def Quadratic():\n",
        "    print(\"0 = ax\\u00b2 + bx + c\")\n",
        "    a = float(input(\"a = \"))\n",
        "    b = float(input(\"b = \"))\n",
        "    c = float(input(\"c = \"))\n",
        "    x1 , x2 = 0 , 0\n",
        "    if b**2-4*a*c < 0:\n",
        "        print(\"No real roots\")\n",
        "        return\n",
        "    else:\n",
        "        x1 = (-b + math.sqrt(b**2 - 4*a*c))/(2*a)\n",
        "        x2 = (-b - math.sqrt(b**2 - 4*a*c))/(2*a)\n",
        "        y1 = a*x1**2 + b*x1 + c\n",
        "        y2 = a*x2**2 + b*x2 + c\n",
        "    vx = -b/(2*a)\n",
        "    vy = a*vx**2 + b*vx + c\n",
        "    xmin = int(vx)-10\n",
        "    xmax = int(vx)+10\n",
        "    ymin = int(vy)-10\n",
        "    ymax = int(vy)+10\n",
        "    points = 2*(xmax-xmin)\n",
        "    x = np.linspace(xmin,xmax,points)\n",
        "    fig, ax = plt.subplots()\n",
        "    plt.axis([xmin,xmax,ymin,ymax])\n",
        "    plt.plot([xmin,xmax],[0,0],'k')\n",
        "    plt.plot([0,0],[ymin,ymax], 'k')\n",
        "    plt.plot([vx],[vy],'ro') # vertex\n",
        "    x = np.linspace(vx-10,vx+10,100)\n",
        "    y = a*x**2 + b*x + c\n",
        "    plt.plot(x,y)\n",
        "    plt.plot([x1],[y1],'ro')\n",
        "    plt.plot([x2],[y2],'ro')\n",
        "    plt.show()\n",
        "\n",
        "\n",
        "\n",
        "Inquery = input('Query? (y/n):')\n",
        "while Inquery == 'y':\n",
        "  Menu()\n",
        "  Inquery = input('Query? (y/n):')\n",
        "\n",
        "print('Goodbye')\n",
        "\n",
        "# This step does not have a test"
      ],
      "metadata": {
        "id": "lvuStaKYalPo",
        "colab": {
          "base_uri": "https://localhost:8080/",
          "height": 988
        },
        "outputId": "34fd989e-1794-446a-8e8f-b45966796563"
      },
      "execution_count": null,
      "outputs": [
        {
          "name": "stdout",
          "output_type": "stream",
          "text": [
            "Query? (y/n):y\n",
            "1. Graph and Table a function\n",
            "2. Solve two equations system\n",
            "3. Graph two functions and plot intersection\n",
            "4. Quadratic equation: plot roots and vertex\n",
            "Option selected:4\n",
            "0 = ax² + bx + c\n",
            "a = -4\n",
            "b = 5\n",
            "c = 2\n"
          ]
        },
        {
          "output_type": "display_data",
          "data": {
            "text/plain": [
              "<Figure size 640x480 with 1 Axes>"
            ],
            "image/png": "[encoded data removed]"
          },
          "metadata": {}
        },
        {
          "output_type": "error",
          "ename": "KeyboardInterrupt",
          "evalue": "Interrupted by user",
          "traceback": [
            "\u001b[0;31m---------------------------------------------------------------------------\u001b[0m",
            "\u001b[0;31mKeyboardInterrupt\u001b[0m                         Traceback (most recent call last)",
            "\u001b[0;32m<ipython-input-15-24318b1ad8c9>\u001b[0m in \u001b[0;36m<cell line: 138>\u001b[0;34m()\u001b[0m\n\u001b[1;32m    138\u001b[0m \u001b[0;32mwhile\u001b[0m \u001b[0mInquery\u001b[0m \u001b[0;34m==\u001b[0m \u001b[0;34m'y'\u001b[0m\u001b[0;34m:\u001b[0m\u001b[0;34m\u001b[0m\u001b[0;34m\u001b[0m\u001b[0m\n\u001b[1;32m    139\u001b[0m   \u001b[0mMenu\u001b[0m\u001b[0;34m(\u001b[0m\u001b[0;34m)\u001b[0m\u001b[0;34m\u001b[0m\u001b[0;34m\u001b[0m\u001b[0m\n\u001b[0;32m--> 140\u001b[0;31m   \u001b[0mInquery\u001b[0m \u001b[0;34m=\u001b[0m \u001b[0minput\u001b[0m\u001b[0;34m(\u001b[0m\u001b[0;34m'Query? (y/n):'\u001b[0m\u001b[0;34m)\u001b[0m\u001b[0;34m\u001b[0m\u001b[0;34m\u001b[0m\u001b[0m\n\u001b[0m\u001b[1;32m    141\u001b[0m   \u001b[0mprint\u001b[0m\u001b[0;34m(\u001b[0m\u001b[0;34m'Goodbye'\u001b[0m\u001b[0;34m)\u001b[0m\u001b[0;34m\u001b[0m\u001b[0;34m\u001b[0m\u001b[0m\n\u001b[1;32m    142\u001b[0m \u001b[0;34m\u001b[0m\u001b[0m\n",
            "\u001b[0;32m/usr/local/lib/python3.10/dist-packages/ipykernel/kernelbase.py\u001b[0m in \u001b[0;36mraw_input\u001b[0;34m(self, prompt)\u001b[0m\n\u001b[1;32m    849\u001b[0m                 \u001b[0;34m\"raw_input was called, but this frontend does not support input requests.\"\u001b[0m\u001b[0;34m\u001b[0m\u001b[0;34m\u001b[0m\u001b[0m\n\u001b[1;32m    850\u001b[0m             )\n\u001b[0;32m--> 851\u001b[0;31m         return self._input_request(str(prompt),\n\u001b[0m\u001b[1;32m    852\u001b[0m             \u001b[0mself\u001b[0m\u001b[0;34m.\u001b[0m\u001b[0m_parent_ident\u001b[0m\u001b[0;34m,\u001b[0m\u001b[0;34m\u001b[0m\u001b[0;34m\u001b[0m\u001b[0m\n\u001b[1;32m    853\u001b[0m             \u001b[0mself\u001b[0m\u001b[0;34m.\u001b[0m\u001b[0m_parent_header\u001b[0m\u001b[0;34m,\u001b[0m\u001b[0;34m\u001b[0m\u001b[0;34m\u001b[0m\u001b[0m\n",
            "\u001b[0;32m/usr/local/lib/python3.10/dist-packages/ipykernel/kernelbase.py\u001b[0m in \u001b[0;36m_input_request\u001b[0;34m(self, prompt, ident, parent, password)\u001b[0m\n\u001b[1;32m    893\u001b[0m             \u001b[0;32mexcept\u001b[0m \u001b[0mKeyboardInterrupt\u001b[0m\u001b[0;34m:\u001b[0m\u001b[0;34m\u001b[0m\u001b[0;34m\u001b[0m\u001b[0m\n\u001b[1;32m    894\u001b[0m                 \u001b[0;31m# re-raise KeyboardInterrupt, to truncate traceback\u001b[0m\u001b[0;34m\u001b[0m\u001b[0;34m\u001b[0m\u001b[0m\n\u001b[0;32m--> 895\u001b[0;31m                 \u001b[0;32mraise\u001b[0m \u001b[0mKeyboardInterrupt\u001b[0m\u001b[0;34m(\u001b[0m\u001b[0;34m\"Interrupted by user\"\u001b[0m\u001b[0;34m)\u001b[0m \u001b[0;32mfrom\u001b[0m \u001b[0;32mNone\u001b[0m\u001b[0;34m\u001b[0m\u001b[0;34m\u001b[0m\u001b[0m\n\u001b[0m\u001b[1;32m    896\u001b[0m             \u001b[0;32mexcept\u001b[0m \u001b[0mException\u001b[0m \u001b[0;32mas\u001b[0m \u001b[0me\u001b[0m\u001b[0;34m:\u001b[0m\u001b[0;34m\u001b[0m\u001b[0;34m\u001b[0m\u001b[0m\n\u001b[1;32m    897\u001b[0m                 \u001b[0mself\u001b[0m\u001b[0;34m.\u001b[0m\u001b[0mlog\u001b[0m\u001b[0;34m.\u001b[0m\u001b[0mwarning\u001b[0m\u001b[0;34m(\u001b[0m\u001b[0;34m\"Invalid Message:\"\u001b[0m\u001b[0;34m,\u001b[0m \u001b[0mexc_info\u001b[0m\u001b[0;34m=\u001b[0m\u001b[0;32mTrue\u001b[0m\u001b[0;34m)\u001b[0m\u001b[0;34m\u001b[0m\u001b[0;34m\u001b[0m\u001b[0m\n",
            "\u001b[0;31mKeyboardInterrupt\u001b[0m: Interrupted by user"
          ]
        }
      ]
    },
    {
      "cell_type": "markdown",
      "source": [
        "# Step 25 - Certification Project 2"
      ],
      "metadata": {
        "id": "D7ASvHg3b2Ph"
      }
    },
    {
      "cell_type": "markdown",
      "source": [
        "Build a graphing calculator that performs the functions mentioned in the previous step:\n",
        "<ul>\n",
        "<li>Graph one or more functions</li>\n",
        "<li>Create a table of (x,y) values</li>\n",
        "<li>Shade above or below the line</li>\n",
        "<li>Solve and graph a system of two equations</li>\n",
        "<li>Zoom in or out on a graph</li>\n",
        "<li>Solve quadratic equations (given a, b, and c)</li>\n",
        "</ul>"
      ],
      "metadata": {
        "id": "KBcTUf08cRy1"
      }
    },
    {
      "cell_type": "code",
      "source": [
        "# Write your code here\n",
        "%matplotlib inline\n",
        "from ipywidgets import interactive\n",
        "import matplotlib.pyplot as plt\n",
        "from IPython.display import display\n",
        "import numpy as np\n",
        "from sympy import symbols, sqrt\n",
        "from sympy.solvers import linsolve\n",
        "\n",
        "def Menu():\n",
        "    print(\"1. Table a function\")\n",
        "    print(\"2. Graph a Functions\")\n",
        "    print(\"3. Solve system of two linear equations\")\n",
        "    print(\"4. Graph two linear functions and plot intersection\")\n",
        "    print(\"5. Quadratic equation: plot roots and vertex\")\n",
        "\n",
        "# Determines input is an acceptable value\n",
        "    while True:\n",
        "      try:\n",
        "          Select = int(input('\\n Please enter a number between 1 and 5. Option selected:'))\n",
        "          if 1 <= Select <= 6:\n",
        "              break\n",
        "          else:\n",
        "              print(\"Invalid input. Enter a number between 1 and 5.\")\n",
        "      except ValueError:\n",
        "          print(\"Try Again.\")\n",
        "\n",
        "# Sorts selection and calls function\n",
        "    if Select == 1:\n",
        "        print(\"Enter any function that is of some degree of x. Remember to follow python syntax.\")\n",
        "        Table()\n",
        "    elif Select == 2:\n",
        "        print(\"Enter any function that is of some degree of x. Remember to follow python syntax.\")\n",
        "        AskColorGraph()\n",
        "    elif Select == 3:\n",
        "        LinearSystems()\n",
        "    elif Select == 4:\n",
        "        LinearPlot()\n",
        "    elif Select == 5:\n",
        "        QuadraticPlot()\n",
        "\n",
        "\"\"\"\n",
        "Table and Graph Section\n",
        "\"\"\"\n",
        "# executes a string as a Python expression\n",
        "def evaluate_equation(x, equation):\n",
        "    return eval(equation, {'x': x})\n",
        "\n",
        "def Table():\n",
        "    equ = input('y = ')\n",
        "\n",
        "    fig, ax = plt.subplots()\n",
        "    ax = plt.subplot()\n",
        "    ax.set_axis_off()\n",
        "\n",
        "# makes input equations into a string title\n",
        "    title = str(equ)\n",
        "    cols = ('x', 'y')\n",
        "    rows = [[0,0]]\n",
        "\n",
        "    for a in range(1,10):\n",
        "        rows.append([a, evaluate_equation(a, equ)])\n",
        "    ax.set_title(title)\n",
        "    plt.table(cellText=rows, colLabels=cols, cellLoc='center', loc='upper left')\n",
        "    plt.show()\n",
        "\n",
        "# Asks if graph should be colored\n",
        "def AskColorGraph():\n",
        "    if input('Color graph? (y/n): ') == 'n':\n",
        "        Graph()\n",
        "    else:\n",
        "        line = str(input('Color above or below the line? (a/b)'))\n",
        "        ColorGraph(line)\n",
        "\n",
        "def Graph():\n",
        "    xmin = -20\n",
        "    xmax = 20\n",
        "    ymin = -20\n",
        "    ymax = 20\n",
        "\n",
        "    pts = 10*xmax-xmin\n",
        "    x = np.linspace(xmin, xmax, pts)\n",
        "\n",
        "    equ = input('y = ')\n",
        "    y = evaluate_equation(x, equ)\n",
        "\n",
        "    fig, ax = plt.subplots()\n",
        "    plt.axis([xmin,xmax,ymin,ymax])\n",
        "    plt.plot([xmin,xmax],[0,0],'k')\n",
        "    plt.plot([0,0],[ymin,ymax],'k')\n",
        "    plt.title(str(equ))\n",
        "    plt.plot(x, y,'b')\n",
        "    plt.show()\n",
        "\n",
        "def ColorGraph(line):\n",
        "    xmin = -20\n",
        "    xmax = 20\n",
        "    ymin = -20\n",
        "    ymax = 20\n",
        "\n",
        "    pts = 10*xmax-xmin\n",
        "    x = np.linspace(xmin, xmax, pts)\n",
        "\n",
        "    equ = input('y = ')\n",
        "    y = evaluate_equation(x, equ)\n",
        "\n",
        "    fig, ax = plt.subplots()\n",
        "    plt.axis([xmin,xmax,ymin,ymax])\n",
        "    plt.plot([xmin,xmax],[0,0],'k')\n",
        "    plt.plot([0,0],[ymin,ymax],'k')\n",
        "\n",
        "    # Determines to color above or below\n",
        "    if line == 'a':\n",
        "        ymm = ymax\n",
        "    else:\n",
        "        ymm = ymin\n",
        "\n",
        "    plt.title(str(equ))\n",
        "    plt.plot(x, y,'b')\n",
        "    plt.fill_between(x, y, ymm, facecolor='red')\n",
        "    plt.show()\n",
        "\n",
        "\"\"\"\n",
        "Linear Systems of Equations Section\n",
        "\"\"\"\n",
        "\n",
        "# Gives the same prompt for Solving Systems and Intersection Graph\n",
        "def LinearPrompt():\n",
        "    print(\"First equation: y = mx + b\")\n",
        "    mb_1 = input(\"Enter m and b, separated by a comma: \")\n",
        "    mb_in1 = mb_1.split(\",\")\n",
        "    m1 = float(mb_in1[0])\n",
        "    b1 = float(mb_in1[1])\n",
        "\n",
        "    print(\"Second equation: y = mx + b\")\n",
        "    mb_2 = input(\"Enter m and b, separated by a comma: \\n\")\n",
        "    mb_in2 = mb_2.split(\",\")\n",
        "    m2 = float(mb_in2[0])\n",
        "    b2 = float(mb_in2[1])\n",
        "\n",
        "# sort inputs into list\n",
        "    mb = [m1,b1,m2,b2]\n",
        "\n",
        "    return(mb)\n",
        "\n",
        "#Give solutions to linear equations\n",
        "def SolveLinearSystem(mb):\n",
        "    x,y = symbols('x y')\n",
        "    one = mb[0]*x + mb[1] - y\n",
        "    two = mb[2]*x + mb[3] - y\n",
        "\n",
        "    sol = linsolve([one, two], (x, y))\n",
        "    xsol = round(float(sol.args[0][0]),3)\n",
        "    ysol = round(float(sol.args[0][1]),3)\n",
        "\n",
        "    return(xsol, ysol)\n",
        "\n",
        "def LinearIntersectionGraph(mb, zoom=10):\n",
        "    x0, y0 = SolveLinearSystem(mb)\n",
        "\n",
        "    def LinearZoom(zoom):\n",
        "        xpoint, ypoint = x0, y0\n",
        "        m1, b1, m2, b2 = mb[0], mb[1], mb[2], mb[3]\n",
        "\n",
        "        xmin = int(xpoint) - zoom\n",
        "        xmax = int(xpoint) + zoom\n",
        "        ymin = int(ypoint) - zoom\n",
        "        ymax = int(ypoint) + zoom\n",
        "        pts = 2*(xmax-xmin)\n",
        "        x = np.linspace(xmin,xmax,pts)\n",
        "\n",
        "        y1 = m1*x + b1\n",
        "        y2 = m2*x + b2\n",
        "\n",
        "        fig, ax = plt.subplots()\n",
        "        plt.axis([xmin,xmax,ymin,ymax])\n",
        "        plt.plot([xmin,xmax],[0,0],'k')\n",
        "        plt.plot([0,0],[ymin,ymax],'k')\n",
        "        plt.title('Intersection of Two Lines')\n",
        "        plt.plot(x, y1)\n",
        "        plt.plot(x, y2)\n",
        "        plt.plot([xpoint],[ypoint],'ro')\n",
        "        plt.show()\n",
        "\n",
        "    print(\"The intersection is at (\", x0, \",\", y0, \")\")\n",
        "    interactive_plot = interactive(LinearZoom, zoom=(1, 100))\n",
        "    display(interactive_plot)\n",
        "\n",
        "\n",
        "def LinearSystems():\n",
        "    mb = LinearPrompt()\n",
        "    x,y = SolveLinearSystem(mb)\n",
        "    print(\"Solution: (\", x, \",\", y, \")\\n\")\n",
        "\n",
        "def LinearPlot():\n",
        "    mb = LinearPrompt()\n",
        "    LinearIntersectionGraph(mb)\n",
        "\n",
        "\"\"\"\n",
        "Quadratic Section\n",
        "\"\"\"\n",
        "#Gives Quadratic solutions\n",
        "def QuadraticSolver(a,b,c):\n",
        "    x1 = (-b + sqrt(b**2 - 4*a*c))/(2*a)\n",
        "    x2 = (-b - sqrt(b**2 - 4*a*c))/(2*a)\n",
        "    y1 = a*x1**2 + b*x1 + c\n",
        "    y2 = a*x2**2 + b*x2 + c\n",
        "    return(x1,y1,x2,y2)\n",
        "\n",
        "#Gives Vertex\n",
        "def QuadraticVertex(a,b,c):\n",
        "    vx = -b/(2*a)\n",
        "    vy = a*vx**2 + b*vx + c\n",
        "    return(vx,vy)\n",
        "\n",
        "def QuadraticPrompt():\n",
        "    print(\"Follow this set up: 0 = ax\\u00b2 + bx + c\")\n",
        "    abc = input(\"Enter a, b, and c, separated by a comma: \")\n",
        "    abc_in = abc.split(\",\")\n",
        "    a = float(abc_in[0])\n",
        "    b = float(abc_in[1])\n",
        "    c = float(abc_in[2])\n",
        "    return(a,b,c)\n",
        "\n",
        "def QuadraticPlot():\n",
        "    a,b,c = QuadraticPrompt()\n",
        "    x1,x2 = 0,0\n",
        "    y1,y2 = 0,0\n",
        "\n",
        "    if b**2-4*a*c < 0:\n",
        "        print(\"No real roots\")\n",
        "        return\n",
        "    else:\n",
        "        x1,y1,x2,y2 = QuadraticSolver(a,b,c)\n",
        "\n",
        "    vx, vy = QuadraticVertex(a,b,c)\n",
        "\n",
        "    def QuadraticZoom(zoom):\n",
        "        vertex, verty = vx, vy\n",
        "        x_1,y_1 = x1,y1\n",
        "        x_2,y_2 = x2,y2\n",
        "\n",
        "        xmin = int(vertex)-zoom\n",
        "        xmax = int(vertex)+zoom\n",
        "        ymin = int(verty)-zoom\n",
        "        ymax = int(verty)+zoom\n",
        "\n",
        "        points = 2*(xmax-xmin)\n",
        "        x = np.linspace(xmin,xmax,points)\n",
        "        fig, ax = plt.subplots()\n",
        "        plt.axis([xmin,xmax,ymin,ymax])\n",
        "        plt.plot([xmin,xmax],[0,0],'k')\n",
        "        plt.plot([0,0],[ymin,ymax], 'k')\n",
        "\n",
        "        plt.plot([vertex],[verty],'ro') # vertex\n",
        "\n",
        "        x = np.linspace(vertex-10,vertex+10,100)\n",
        "        y = a*x**2 + b*x + c\n",
        "\n",
        "        plt.plot(x,y) # line\n",
        "        plt.plot([x_1],[y_1],'ro') # root one\n",
        "        plt.plot([x_2],[y_2],'ro') # root two\n",
        "        plt.show()\n",
        "\n",
        "    print(\"\\nThe roots are x =\", x1, \"and x =\", x2)\n",
        "    print(\"The vertex is at (\", vx, \",\", vy,\")\\n\")\n",
        "    interactive_plot = interactive(QuadraticZoom, zoom=(1, 100))\n",
        "    display(interactive_plot)\n",
        "\n",
        "Inquery = input('Query? (y/n):')\n",
        "while Inquery == 'y':\n",
        "  Menu()\n",
        "  Inquery = input('Query? (y/n): \\n')\n",
        "\n",
        "print('Goodbye')\n",
        "# This step does not have a test"
      ],
      "metadata": {
        "id": "bmuz1zCecVCX",
        "colab": {
          "base_uri": "https://localhost:8080/",
          "height": 610,
          "referenced_widgets": [
            "c0081dc1b49c467cb63991e349902dc5",
            "d6ae18a475cd41cfa4d3cb6bf69fe873",
            "ed0122b049314a0888dacb693bc61ebd",
            "92af084f623f4776969192d443a2ed31",
            "e948c77bf7234b62871b78a2141781af",
            "ab8fe78b09854896b38e5f9a73cc18a8",
            "b83fbac7f133454a8e4fe45d7ceb8372"
          ]
        },
        "outputId": "9576ca6a-870f-48d8-d44c-ccbca68cdfd6"
      },
      "execution_count": 10,
      "outputs": [
        {
          "output_type": "stream",
          "name": "stdout",
          "text": [
            "Follow this set up: 0 = ax² + bx + c\n",
            "Enter a, b, and c, separated by a comma: -4,5,3\n",
            "\n",
            "The roots are x = -0.443000468164691 and x = 1.69300046816469\n",
            "The vertex is at ( 0.625 , 4.5625 )\n",
            "\n"
          ]
        },
        {
          "output_type": "display_data",
          "data": {
            "text/plain": [
              "interactive(children=(IntSlider(value=50, description='zoom', min=1), Output()), _dom_classes=('widget-interac…"
            ],
            "application/vnd.jupyter.widget-view+json": {
              "version_major": 2,
              "version_minor": 0,
              "model_id": "c0081dc1b49c467cb63991e349902dc5"
            }
          },
          "metadata": {}
        },
        {
          "output_type": "execute_result",
          "data": {
            "text/plain": [
              "'\"\\nInquery = input(\\'Query? (y/n):\\')\\nwhile Inquery == \\'y\\':\\n  Menu()\\n  Inquery = input(\\'Query? (y/n): \\n\\')\\n\\nprint(\\'Goodbye\\')\\n'"
            ],
            "application/vnd.google.colaboratory.intrinsic+json": {
              "type": "string"
            }
          },
          "metadata": {},
          "execution_count": 10
        }
      ]
    },
    {
      "cell_type": "code",
      "source": [],
      "metadata": {
        "id": "L4m6FCgcwblq"
      },
      "execution_count": null,
      "outputs": []
    }
  ]
}