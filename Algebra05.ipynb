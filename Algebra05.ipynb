{
  "nbformat": 4,
  "nbformat_minor": 0,
  "metadata": {
    "colab": {
      "provenance": [],
      "authorship_tag": "ABX9TyMnR6f8Pg9JRcd6pwrJLA49",
      "include_colab_link": true
    },
    "kernelspec": {
      "name": "python3",
      "display_name": "Python 3"
    },
    "language_info": {
      "name": "python"
    }
  },
  "cells": [
    {
      "cell_type": "markdown",
      "metadata": {
        "id": "view-in-github",
        "colab_type": "text"
      },
      "source": [
        "<a href=\"https://colab.research.google.com/github/Fisissist/Learning-College-Algebra-with-Python/blob/main/Algebra05.ipynb\" target=\"_parent\"><img src=\"https://colab.research.google.com/assets/colab-badge.svg\" alt=\"Open In Colab\"/></a>"
      ]
    },
    {
      "cell_type": "markdown",
      "source": [
        "# Solving Systems\n",
        "\n",
        "Simplest way to solve a system of eqautions. Zero."
      ],
      "metadata": {
        "id": "5z43kAomejoN"
      }
    },
    {
      "cell_type": "code",
      "source": [
        "from sympy import *\n",
        "\n",
        "x, y = symbols('x y')\n",
        "\n",
        "first = 2*x + y -1\n",
        "Second = x - 2*y +7\n",
        "\n",
        "linsolve([first, Second], (x, y))\n",
        "print(linsolve([first, Second], (x, y)))"
      ],
      "metadata": {
        "colab": {
          "base_uri": "https://localhost:8080/"
        },
        "id": "zudHOK82oKZI",
        "outputId": "6007d852-a2ce-4e51-f907-23c1e023fe24"
      },
      "execution_count": 9,
      "outputs": [
        {
          "output_type": "stream",
          "name": "stdout",
          "text": [
            "{(-1, 3)}\n"
          ]
        }
      ]
    },
    {
      "cell_type": "markdown",
      "source": [
        "My way"
      ],
      "metadata": {
        "id": "jIg1spjcoISv"
      }
    },
    {
      "cell_type": "code",
      "execution_count": 7,
      "metadata": {
        "id": "sxInle_-I9-P",
        "colab": {
          "base_uri": "https://localhost:8080/"
        },
        "outputId": "ab48cf21-f0c6-45fc-a1e8-34efd1d49e48"
      },
      "outputs": [
        {
          "output_type": "stream",
          "name": "stdout",
          "text": [
            "-1 3\n"
          ]
        }
      ],
      "source": [
        "from sympy import linsolve, symbols\n",
        "\n",
        "x, y = symbols('x y')\n",
        "\n",
        "first = 2*x + y -1\n",
        "Second = x - 2*y +7\n",
        "\n",
        "Solution = linsolve([first, Second], (x, y))\n",
        "x_sol, y_sol = next(iter(Solution))\n",
        "\n",
        "print(x_sol, y_sol)"
      ]
    },
    {
      "cell_type": "markdown",
      "source": [
        "Coordinate pair"
      ],
      "metadata": {
        "id": "3vf3R9Qof1nV"
      }
    },
    {
      "cell_type": "code",
      "source": [
        "from sympy import linsolve, symbols\n",
        "\n",
        "x, y = symbols('x y')\n",
        "\n",
        "first = 2*x + y -1\n",
        "Second = x - 2*y +7\n",
        "\n",
        "# parse finite set answer as coordinates\n",
        "Solution = linsolve([first, Second], (x, y))\n",
        "x_sol, y_sol = Solution.args[0][0] , Solution.args[0][1]\n",
        "\n",
        "print(\"(\",x_sol,\",\", y_sol,\")\")"
      ],
      "metadata": {
        "colab": {
          "base_uri": "https://localhost:8080/"
        },
        "id": "GWfGixPzfdBP",
        "outputId": "9d05ac28-7fca-45e8-adf8-da986e570340"
      },
      "execution_count": 8,
      "outputs": [
        {
          "output_type": "stream",
          "name": "stdout",
          "text": [
            "( -1 , 3 )\n"
          ]
        }
      ]
    },
    {
      "cell_type": "markdown",
      "source": [
        "Factor to change from \"0=\" to \"y=\" for graphing\n",
        "\n",
        "\n",
        "\n"
      ],
      "metadata": {
        "id": "kixhUmd1gzih"
      }
    },
    {
      "cell_type": "code",
      "source": [
        "from sympy import *\n",
        "from sympy.plotting import plot\n",
        "\n",
        "var('x y')\n",
        "\n",
        "first = 2*x + y -1\n",
        "Second = x - 2*y +7\n",
        "\n",
        "# solving\n",
        "Solution = linsolve([first, Second], (x, y))\n",
        "x_sol, y_sol = Solution.args[0][0] , Solution.args[0][1]\n",
        "print(\"The solution is (\",x_sol,\",\", y_sol,\")\")\n",
        "\n",
        "# solves for y  of first\n",
        "y_first = Eq(first, 0)\n",
        "y1 = solve(y_first, y)\n",
        "\n",
        "# solves for y of second\n",
        "y_second = Eq(Second, 0)\n",
        "y2 = solve(y_second, y)\n",
        "\n",
        "print(\"y =\",y1[0])\n",
        "print(\"y =\",y2[0])\n",
        "\n",
        "x = symbols('x')\n",
        "plot(y1[0], y2[0], (x, -10, 10))\n"
      ],
      "metadata": {
        "colab": {
          "base_uri": "https://localhost:8080/",
          "height": 578
        },
        "id": "omATSacAgDhX",
        "outputId": "87ce737c-b739-426b-b551-df37b52080ec"
      },
      "execution_count": 4,
      "outputs": [
        {
          "output_type": "stream",
          "name": "stdout",
          "text": [
            "The solution is ( -1 , 3 )\n",
            "y = 1 - 2*x\n",
            "y = x/2 + 7/2\n"
          ]
        },
        {
          "output_type": "display_data",
          "data": {
            "text/plain": [
              "<Figure size 640x480 with 1 Axes>"
            ],
            "image/png": "[encoded data removed]"
          },
          "metadata": {}
        },
        {
          "output_type": "execute_result",
          "data": {
            "text/plain": [
              "<sympy.plotting.backends.matplotlibbackend.matplotlib.MatplotlibBackend at 0x7a35b117cbe0>"
            ]
          },
          "metadata": {},
          "execution_count": 4
        }
      ]
    },
    {
      "cell_type": "code",
      "source": [],
      "metadata": {
        "id": "5kWBsNM9bS58"
      },
      "execution_count": null,
      "outputs": []
    }
  ]
}