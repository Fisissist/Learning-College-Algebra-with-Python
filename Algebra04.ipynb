{
  "nbformat": 4,
  "nbformat_minor": 0,
  "metadata": {
    "colab": {
      "provenance": [],
      "toc_visible": true,
      "authorship_tag": "ABX9TyMwJDzzsJjBaoQGIKBxnkzE",
      "include_colab_link": true
    },
    "kernelspec": {
      "name": "python3",
      "display_name": "Python 3"
    },
    "language_info": {
      "name": "python"
    },
    "widgets": {
      "application/vnd.jupyter.widget-state+json": {
        "3c15e80f669b4e2ba3485ac373023a6f": {
          "model_module": "@jupyter-widgets/controls",
          "model_name": "VBoxModel",
          "model_module_version": "1.5.0",
          "state": {
            "_dom_classes": [
              "widget-interact"
            ],
            "_model_module": "@jupyter-widgets/controls",
            "_model_module_version": "1.5.0",
            "_model_name": "VBoxModel",
            "_view_count": null,
            "_view_module": "@jupyter-widgets/controls",
            "_view_module_version": "1.5.0",
            "_view_name": "VBoxView",
            "box_style": "",
            "children": [
              "IPY_MODEL_d79eaa18fe3f4bd88aee58adf34f1916",
              "IPY_MODEL_d01e2eae15474892b4b014e11f4eb5cb",
              "IPY_MODEL_470158ff8fe344bab731c8f23a53060a",
              "IPY_MODEL_ad8517c5f0c4403b8b5ecfa9f9a7c535"
            ],
            "layout": "IPY_MODEL_6ccdf48711f94617862ca48663dd15c9"
          }
        },
        "d79eaa18fe3f4bd88aee58adf34f1916": {
          "model_module": "@jupyter-widgets/controls",
          "model_name": "IntSliderModel",
          "model_module_version": "1.5.0",
          "state": {
            "_dom_classes": [],
            "_model_module": "@jupyter-widgets/controls",
            "_model_module_version": "1.5.0",
            "_model_name": "IntSliderModel",
            "_view_count": null,
            "_view_module": "@jupyter-widgets/controls",
            "_view_module_version": "1.5.0",
            "_view_name": "IntSliderView",
            "continuous_update": true,
            "description": "m",
            "description_tooltip": null,
            "disabled": false,
            "layout": "IPY_MODEL_0ec94d5f64254f458db14dc94ad9e68e",
            "max": 9,
            "min": -9,
            "orientation": "horizontal",
            "readout": true,
            "readout_format": "d",
            "step": 1,
            "style": "IPY_MODEL_436027967447443cabea4c2c17c161c2",
            "value": 0
          }
        },
        "d01e2eae15474892b4b014e11f4eb5cb": {
          "model_module": "@jupyter-widgets/controls",
          "model_name": "IntSliderModel",
          "model_module_version": "1.5.0",
          "state": {
            "_dom_classes": [],
            "_model_module": "@jupyter-widgets/controls",
            "_model_module_version": "1.5.0",
            "_model_name": "IntSliderModel",
            "_view_count": null,
            "_view_module": "@jupyter-widgets/controls",
            "_view_module_version": "1.5.0",
            "_view_name": "IntSliderView",
            "continuous_update": true,
            "description": "b",
            "description_tooltip": null,
            "disabled": false,
            "layout": "IPY_MODEL_84c238c8d0b0402fb40d0cfd2a88253e",
            "max": 9,
            "min": -9,
            "orientation": "horizontal",
            "readout": true,
            "readout_format": "d",
            "step": 1,
            "style": "IPY_MODEL_782e398b875a4d5da28d6ec08054e8ee",
            "value": 0
          }
        },
        "470158ff8fe344bab731c8f23a53060a": {
          "model_module": "@jupyter-widgets/controls",
          "model_name": "IntSliderModel",
          "model_module_version": "1.5.0",
          "state": {
            "_dom_classes": [],
            "_model_module": "@jupyter-widgets/controls",
            "_model_module_version": "1.5.0",
            "_model_name": "IntSliderModel",
            "_view_count": null,
            "_view_module": "@jupyter-widgets/controls",
            "_view_module_version": "1.5.0",
            "_view_name": "IntSliderView",
            "continuous_update": true,
            "description": "zoom",
            "description_tooltip": null,
            "disabled": false,
            "layout": "IPY_MODEL_04c4c2ab34244e6fbd90846536a92fd7",
            "max": 100,
            "min": 1,
            "orientation": "horizontal",
            "readout": true,
            "readout_format": "d",
            "step": 1,
            "style": "IPY_MODEL_2d7a9ebb8c8f4c1c99599b2744d42203",
            "value": 50
          }
        },
        "ad8517c5f0c4403b8b5ecfa9f9a7c535": {
          "model_module": "@jupyter-widgets/output",
          "model_name": "OutputModel",
          "model_module_version": "1.0.0",
          "state": {
            "_dom_classes": [],
            "_model_module": "@jupyter-widgets/output",
            "_model_module_version": "1.0.0",
            "_model_name": "OutputModel",
            "_view_count": null,
            "_view_module": "@jupyter-widgets/output",
            "_view_module_version": "1.0.0",
            "_view_name": "OutputView",
            "layout": "IPY_MODEL_3c794df320334bbb875d417b54e09b60",
            "msg_id": "",
            "outputs": [
              {
                "output_type": "display_data",
                "data": {
                  "text/plain": "<Figure size 640x480 with 1 Axes>",
                  "image/png": "iVBORw0KGgoAAAANSUhEUgAAAioAAAGzCAYAAAABsTylAAAAOXRFWHRTb2Z0d2FyZQBNYXRwbG90bGliIHZlcnNpb24zLjguMCwgaHR0cHM6Ly9tYXRwbG90bGliLm9yZy81sbWrAAAACXBIWXMAAA9hAAAPYQGoP6dpAAAfiUlEQVR4nO3dfZBV9X348c8i7PK4yzM7yKKoUZoyhgYE11SFSsGMsWPFRI3GYhhUujgiThVqR+Kk07VqoxF8gNZQazAQ6SQdU9PIKGIyXRpdSwRTSJlKs7rZBVvYhTXsAnt+f2S4v2x5Vu7eL7uv18yd4X7vuWc/y8HZt+eee7coy7IsAAAS1KPQAwAAHI1QAQCSJVQAgGQJFQAgWUIFAEiWUAEAkiVUAIBkCRUAIFlCBQBIllAB+BimTJkS48aNK/QY0OUJFQAgWUIFAEiWUAG6re3bt0dRUVG8/vrrhR4FOAqhAl3cunXroqioKL73ve8d9tgLL7wQRUVFUVNT0ymzvP7661FUVBTf/e5348EHH4wzzzwzBgwYENddd100NTVFa2trzJ8/P4YPHx79+/ePW2+9NVpbW3PPX7FiRRQVFcW3vvWtDvv9q7/6qygqKoqXX365U76P31ZbWxuXXHJJ9OnTJ8aMGRPPPPNMp88AXVlRlmVZoYcA8ifLsjjrrLNi0qRJsWbNmg6PXXXVVbF169bYtm3bUZ/f3t4e//u//3tCX6usrCx69ep11Mdff/31mDp1aowfPz769OkTN954Y2zbti2WLFkS119/ffTo0SN27doVX/jCF2LDhg3x/PPPx4MPPhgPPPBAbh9XX311/PjHP45NmzZFRUVFbNq0KSZOnBhf+cpX4u/+7u9OaM5Dtm/fHmPGjIl169bFlClTTuq5U6ZMif/8z/+MAwcOxJe+9KU4//zz47vf/W785Cc/iWeffTa++tWvntT+gKPIgC5v0aJFWUlJSbZ79+7c2o4dO7KePXtmixcvPuZz33vvvSwiTui2bt26Y+5r3bp1WURk48aNy9ra2nLrN954Y1ZUVJR9/vOf77B9ZWVldtZZZ3VY+9WvfpUNHjw4+8M//MOstbU1+73f+71s9OjRWVNT0wn9XRzpezve3Edy+eWXZxGR/c3f/E1urbW1NRs/fnw2fPjwDt8f8PH1LEgdAZ3qlltuierq6lizZk3Mnj07IiJWr14dBw4ciJtvvvmYzy0vL4+1a9ee0Nf5zGc+c8Lz/PaZl8mTJ8d3vvOdw85CTJ48OZ544ok4cOBA9OzZMzfPk08+GTfeeGNceumlsXHjxli7dm2UlpYe9+vu3bs39u3bl7u/a9euiIhoamqKDz/8MLfeq1evKCsrO+7+evbsGbfffnvufnFxcdx+++0xd+7cqK2tjYsvvvi4+wCOTahANzB27Ni46KKLYuXKlblQWblyZVx88cVx3nnnHfO5vXv3jmnTpp3SeUaPHt3h/qEoqKioOGy9vb09mpqaYsiQIbn1G264Ib797W/HP//zP8dtt90WV1xxxQl93Xnz5sVzzz132Po111zT4f7ll19+QhfYjhw5Mvr169dh7fzzz4+I37ysJFTgkxMq0E3ccsstcdddd8X7778fra2tsWHDhli6dOlxn3fw4MHYuXPnCX2NwYMHR3Fx8XG3O+OMM05qPfs/l9L9z//8T7z11lsREfHzn/882tvbo0eP47834N577+1wBqmxsTFuvvnmePTRRzucDRo0aNBx9wV0DqEC3cQNN9wQCxYsiO985zvx61//Onr16hXXX3/9cZ9XV1cXY8aMOaGv8XEuSv04qqqqYs+ePVFdXR2LFi2Kxx9/PBYsWHDc533605+OT3/607n727dvj4iICRMmfKy56+vro6WlpcNZlV/84hcREXH22Wef9P6AwwkV6CaGDh0an//85+Pb3/527Nu3L6688soYOnTocZ+Xj2tUPok1a9bE6tWr44knnog777wzfvazn8Vf/MVfxBe+8IXcyy6d5cCBA7Fs2bJcJLW1tcWyZcti2LBhMWHChE6dBboqoQLdyC233BLXXXddRER8/etfP6Hn5OMalY9rx44dMXfu3Jg6dWrMmzcvIiKWLl0a69ati1mzZsVPfvKTE3oJ6FQZOXJk/PVf/3Vs3749zj///Fi9enVs3Lgxli9ffsy3aQMnzge+QTdy9dVXx6BBg6KsrCz+6I/+qNDjnLS5c+dGa2tr7oPfIiKGDBkSy5cvj5qamnj00Uc7dZ5BgwbFyy+/HG+99Vb82Z/9WdTV1cXSpUtjzpw5nToHdGU+8A26kQMHDsTIkSPj6quvjmeffbbQ4wAclzMq0I18//vfj507d8Ytt9xS6FEATogzKtAN/Nu//Vu888478fWvfz2GDh0ab7/9dqFHAjghzqhAN/D000/H3LlzY/jw4fEP//APhR4H4IQ5owIAJMsZFQAgWUIFAEjWaf+Bb+3t7VFfXx8DBgzIfa4CAJC2LMtiz549MXLkyGN+UONpHyr19fWH/cZVAOD0UFdXF6NGjTrq46d9qAwYMCAifvONlpaWFnga4FRpaWmJkSNHRsRv/ofkt3/xH3D6a25ujoqKitzP8aM57UPl0Ms9paWlQgW6kDPOOCP359LSUqECXdTxLttwMS0AkCyhAgAkS6gAAMkSKgBAsoQKAJAsoQIAJEuoAADJEioAQLKECgCQLKECACRLqAAAyRIqAECyhAoAkCyhAgAkS6gAAMkSKgBAsoQKAJAsoQIAJEuoAADJEioAQLKECgCQLKECACRLqAAAyRIqAECyhAoAkCyhAgAkS6gAAMkSKgBAsoQKAJAsoQIAJKvTQuWhhx6KoqKimD9/fm5t3759UVVVFUOGDIn+/fvHzJkzo7GxsbNGAgAS1ymh8uabb8ayZcviwgsv7LB+9913x0svvRQvvvhirF+/Purr6+Paa6/tjJEAgNNA3kNl7969cdNNN8Xf/u3fxqBBg3LrTU1N8eyzz8Y3vvGN+IM/+IOYMGFCrFixIv71X/81NmzYkO+xAIDTQN5DpaqqKq666qqYNm1ah/Xa2trYv39/h/WxY8fG6NGjo6am5qj7a21tjebm5g43AKBr6pnPna9atSrefvvtePPNNw97rKGhIYqLi2PgwIEd1keMGBENDQ1H3Wd1dXU8+OCDp3pUACBBeTujUldXF3fddVesXLkyevfufcr2u2jRomhqasrd6urqTtm+AYC05C1UamtrY8eOHfHZz342evbsGT179oz169fHE088ET179owRI0ZEW1tb7N69u8PzGhsbo7y8/Kj7LSkpidLS0g43AKBryttLP1dccUVs2rSpw9qtt94aY8eOjfvuuy8qKiqiV69e8eqrr8bMmTMjImLr1q3xy1/+MiorK/M1FgBwGslbqAwYMCDGjRvXYa1fv34xZMiQ3Prs2bNjwYIFMXjw4CgtLY0777wzKisr4+KLL87XWADAaSSvF9Mez2OPPRY9evSImTNnRmtra8yYMSOeeuqpQo4EACSkKMuyrNBDfBLNzc1RVlYWTU1NrleBLqSlpSX69+8fEb/5PKZ+/foVeCLgVDrRn99+1w8AkCyhAgAkS6gAAMkSKgBAsoQKAJAsoQIAJEuoAADJEioAQLKECgCQLKECACRLqAAAyRIqAECyhAoAkCyhAgAkS6gAAMkSKgBAsoQKAJAsoQIAJEuoAADJEioAQLKECgCQLKECACRLqAAAyRIqAECyhAoAkCyhAgAkS6gAAMkSKgBAsoQKAJAsoQIAJEuoAADJEioAQLKECgCQLKECACRLqAAAyRIqAECyhAoAkCyhAgAkS6gAAMkSKgBAsoQKAJAsoQIAJEuoAADJEioAQLKECgCQLKECACRLqAAAyRIqAECyhAoAkCyhAgAkS6gAAMkSKgBAsoQKAJAsoQIAJEuoAADJEioAQLKECgCQLKECACRLqAAAyRIqAECyhAoAkCyhAgAkS6gAAMnKa6hUV1fHRRddFAMGDIjhw4fHNddcE1u3bu2wzb59+6KqqiqGDBkS/fv3j5kzZ0ZjY2M+xwIAThN5DZX169dHVVVVbNiwIdauXRv79++P6dOnR0tLS26bu+++O1566aV48cUXY/369VFfXx/XXnttPscCAE4TRVmWZZ31xXbu3BnDhw+P9evXx2WXXRZNTU0xbNiweOGFF+K6666LiIgtW7bE7/zO70RNTU1cfPHFx91nc3NzlJWVRVNTU5SWlub7WwA6SUtLS/Tv3z8iIvbu3Rv9+vUr8ETAqXSiP7879RqVpqamiIgYPHhwRETU1tbG/v37Y9q0abltxo4dG6NHj46ampoj7qO1tTWam5s73ACArqnTQqW9vT3mz58fn/vc52LcuHEREdHQ0BDFxcUxcODADtuOGDEiGhoajrif6urqKCsry90qKiryPToAUCCdFipVVVWxefPmWLVq1Sfaz6JFi6KpqSl3q6urO0UTAgCp6dkZX2TevHnxgx/8IN54440YNWpUbr28vDza2tpi9+7dHc6qNDY2Rnl5+RH3VVJSEiUlJfkeGQBIQF7PqGRZFvPmzYvvfe978dprr8WYMWM6PD5hwoTo1atXvPrqq7m1rVu3xi9/+cuorKzM52gAwGkgr2dUqqqq4oUXXoh/+qd/igEDBuSuOykrK4s+ffpEWVlZzJ49OxYsWBCDBw+O0tLSuPPOO6OysvKE3vEDAHRteQ2Vp59+OiIipkyZ0mF9xYoVMWvWrIiIeOyxx6JHjx4xc+bMaG1tjRkzZsRTTz2Vz7EAgNNEp36OSj74HBXomnyOCnRtSX6OCgDAyRAqAECyhAoAkCyhAgAkS6gAAMkSKgBAsoQKAJAsoQIAJEuoAADJEioAQLKECgCQLKECACRLqAAAyRIqAECyhAoAkCyhAgAkS6gAAMkSKgBAsoQKAJAsoQIAJEuoAADJEioAQLKECgCQLKECACRLqAAAyRIqAECyhAoAkCyhAgAkS6gAAMkSKgBAsoQKAJAsoQIAJEuoAADJEioAQLKECgCQLKECACRLqAAAyRIqAECyhAoAkCyhAgAkS6gAAMkSKgBAsoQKAJAsoQIAJEuoAADJEioAQLKECgCQLKECACRLqAAAyRIqAECyhAoAkCyhAgAkS6gAAMkSKgBAsoQKAJAsoQIAJEuoAADJEioAQLKECgCQLKECACRLqAAAyRIqAECyhAoAkKwkQuXJJ5+Ms88+O3r37h2TJ0+On/70p4UeCQBIQM9CD7B69epYsGBBPPPMMzF58uR4/PHHY8aMGbF169YYPnz4Ce/nw13N0Xowj4MCneqjj1qiqFdJRER8uLs5PmrzHzh0JXuam09ou6Isy7I8z3JMkydPjosuuiiWLl0aERHt7e1RUVERd955ZyxcuPCw7VtbW6O1tTV3v7m5OSoqKqJi/nejR0nfTpsbAPj42ls/irrHvxRNTU1RWlp61O0K+tJPW1tb1NbWxrRp03JrPXr0iGnTpkVNTc0Rn1NdXR1lZWW5W0VFRWeNCwB0soK+9PPhhx/GwYMHY8SIER3WR4wYEVu2bDnicxYtWhQLFizI3T90RuX1+ZUx4BhFBpxePvqoJcaMGRMREe+991707duvwBMBp9Ke5uY49/Hjb1fwa1ROVklJSZSUlBy2PnRQ6TFPHQGnl5biMyLb/5uXeYcOLI1+/YQKdCUlZ5zYdgV96Wfo0KFxxhlnRGNjY4f1xsbGKC8vL9BUAEAqChoqxcXFMWHChHj11Vdza+3t7fHqq69GZWVlAScDAFJQ8Jd+FixYEH/yJ38SEydOjEmTJsXjjz8eLS0tceuttxZ6NACgwAoeKtdff33s3LkzHnjggWhoaIjx48fHv/zLvxx2gS0A0P0U/HNUPqnm5uYoKys77vuwgdNLS0tL9O/fPyIi9u7d62Ja6GJO9Od3Eh+hDwBwJEIFAEiWUAEAkiVUAIBkCRUAIFlCBQBIllABAJIlVACAZAkVACBZQgUASJZQAQCSJVQAgGQJFQAgWUIFAEiWUAEAkiVUAIBkCRUAIFlCBQBIllABAJIlVACAZAkVACBZQgUASJZQAQCSJVQAgGQJFQAgWUIFAEiWUAEAkiVUAIBkCRUAIFlCBQBIllABAJIlVACAZAkVACBZQgUASJZQAQCSJVQAgGQJFQAgWUIFAEiWUAEAkiVUAIBkCRUAIFlCBQBIllABAJIlVACAZAkVACBZQgUASJZQAQCSJVQAgGQJFQAgWUIFAEiWUAEAkiVUAIBkCRUAIFlCBQBIllABAJIlVACAZAkVACBZQgUASJZQAQCSJVQAgGQJFQAgWUIFAEiWUAEAkpWXUNm+fXvMnj07xowZE3369Ilzzz03Fi9eHG1tbR22e+edd+LSSy+N3r17R0VFRTz88MP5GAcAOE31zMdOt2zZEu3t7bFs2bI477zzYvPmzTFnzpxoaWmJRx99NCIimpubY/r06TFt2rR45plnYtOmTfHVr341Bg4cGLfddls+xgIATjNFWZZlnfGFHnnkkXj66afjv/7rvyIi4umnn477778/Ghoaori4OCIiFi5cGN///vdjy5YtR91Pa2trtLa25u43NzdHRUVFNDU1RWlpaX6/CaDTtLS0RP/+/SMiYu/evdGvX78CTwScSs3NzVFWVnbcn9+ddo1KU1NTDB48OHe/pqYmLrvsslykRETMmDEjtm7dGrt27Trqfqqrq6OsrCx3q6ioyOvcAEDhdEqobNu2LZYsWRK33357bq2hoSFGjBjRYbtD9xsaGo66r0WLFkVTU1PuVldXl5+hAYCCO6lQWbhwYRQVFR3z9n9ftvnggw/iyiuvjC9+8YsxZ86cTzxwSUlJlJaWdrgBAF3TSV1Me88998SsWbOOuc0555yT+3N9fX1MnTo1Lrnkkli+fHmH7crLy6OxsbHD2qH75eXlJzMWANBFnVSoDBs2LIYNG3ZC237wwQcxderUmDBhQqxYsSJ69Oh48qaysjLuv//+2L9/f/Tq1SsiItauXRsXXHBBDBo06GTGAgC6qLxco/LBBx/ElClTYvTo0fHoo4/Gzp07o6GhocO1J1/+8pejuLg4Zs+eHe+++26sXr06vvnNb8aCBQvyMRIAcBrKy+eorF27NrZt2xbbtm2LUaNGdXjs0Luhy8rK4pVXXomqqqqYMGFCDB06NB544AGfoQIA5HTa56jky4m+Dxs4vfgcFejakvscFQCAkyVUAIBkCRUAIFlCBQBIllABAJIlVACAZAkVACBZQgUASJZQAQCSJVQAgGQJFQAgWUIFAEiWUAEAkiVUAIBkCRUAIFlCBQBIllABAJIlVACAZAkVACBZQgUASJZQAQCSJVQAgGQJFQAgWUIFAEiWUAEAkiVUAIBkCRUAIFlCBQBIllABAJIlVACAZAkVACBZQgUASJZQAQCSJVQAgGQJFQAgWUIFAEiWUAEAkiVUAIBkCRUAIFlCBQBIllABAJIlVACAZAkVACBZQgUASJZQAQCSJVQAgGQJFQAgWUIFAEiWUAEAkiVUAIBkCRUAIFlCBQBIllABAJIlVACAZAkVACBZQgUASJZQAQCSJVQAgGQJFQAgWUIFAEiWUAEAkiVUAIBk5T1UWltbY/z48VFUVBQbN27s8Ng777wTl156afTu3TsqKiri4Ycfzvc4AMBpJO+hcu+998bIkSMPW29ubo7p06fHWWedFbW1tfHII4/E1772tVi+fHm+RwIAThM987nzH/7wh/HKK6/EP/7jP8YPf/jDDo+tXLky2tra4lvf+lYUFxfH7/7u78bGjRvjG9/4Rtx22235HAsAOE3k7YxKY2NjzJkzJ55//vno27fvYY/X1NTEZZddFsXFxbm1GTNmxNatW2PXrl1H3W9ra2s0Nzd3uAEAXVNeQiXLspg1a1bccccdMXHixCNu09DQECNGjOiwduh+Q0PDUfddXV0dZWVluVtFRcWpGxwASMpJhcrChQujqKjomLctW7bEkiVLYs+ePbFo0aJTPvCiRYuiqakpd6urqzvlXwMASMNJXaNyzz33xKxZs465zTnnnBOvvfZa1NTURElJSYfHJk6cGDfddFM899xzUV5eHo2NjR0eP3S/vLz8qPsvKSk5bL8AQNd0UqEybNiwGDZs2HG3e+KJJ+Iv//Ivc/fr6+tjxowZsXr16pg8eXJERFRWVsb9998f+/fvj169ekVExNq1a+OCCy6IQYMGncxYAEAXlZd3/YwePbrD/f79+0dExLnnnhujRo2KiIgvf/nL8eCDD8bs2bPjvvvui82bN8c3v/nNeOyxx/IxEgBwGsrr25OPpaysLF555ZWoqqqKCRMmxNChQ+OBBx7w1mQAIKdTQuXss8+OLMsOW7/wwgvjxz/+cWeMAACchvyuHwAgWUIFAEiWUAEAkiVUAIBkCRUAIFlCBQBIllABAJIlVACAZAkVACBZQgUASJZQAQCSJVQAgGQJFQAgWUIFAEiWUAEAkiVUAIBkCRUAIFlCBQBIllABAJIlVACAZAkVACBZQgUASJZQAQCSJVQAgGQJFQAgWUIFAEiWUAEAkiVUAIBkCRUAIFk9Cz3AJ5VlWURENDc3F3gS4FRqaWnJ/bm5uTkOHjxYwGmAU+3Qz+1DP8eP5rQPlT179kREREVFRYEnAfJl5MiRhR4ByJM9e/ZEWVnZUR8vyo6XMolrb2+P+vr6GDBgQBQVFRV6nI+lubk5Kioqoq6uLkpLSws9TrfneKTDsUiHY5GOrnIssiyLPXv2xMiRI6NHj6NfiXLan1Hp0aNHjBo1qtBjnBKlpaWn9T+6rsbxSIdjkQ7HIh1d4Vgc60zKIS6mBQCSJVQAgGQJlQSUlJTE4sWLo6SkpNCjEI5HShyLdDgW6ehux+K0v5gWAOi6nFEBAJIlVACAZAkVACBZQgUASJZQAQCSJVQS0draGuPHj4+ioqLYuHFjh8feeeeduPTSS6N3795RUVERDz/8cGGG7OK2b98es2fPjjFjxkSfPn3i3HPPjcWLF0dbW1uH7RyPzvHkk0/G2WefHb17947JkyfHT3/600KP1OVVV1fHRRddFAMGDIjhw4fHNddcE1u3bu2wzb59+6KqqiqGDBkS/fv3j5kzZ0ZjY2OBJu4+HnrooSgqKor58+fn1rrLsRAqibj33nuP+IvXmpubY/r06XHWWWdFbW1tPPLII/G1r30tli9fXoApu7YtW7ZEe3t7LFu2LN5999147LHH4plnnok///M/z23jeHSO1atXx4IFC2Lx4sXx9ttvx2c+85mYMWNG7Nixo9CjdWnr16+Pqqqq2LBhQ6xduzb2798f06dP7/CbrO++++546aWX4sUXX4z169dHfX19XHvttQWcuut78803Y9myZXHhhRd2WO82xyKj4F5++eVs7Nix2bvvvptFRPbv//7vuceeeuqpbNCgQVlra2tu7b777ssuuOCCAkza/Tz88MPZmDFjcvcdj84xadKkrKqqKnf/4MGD2ciRI7Pq6uoCTtX97NixI4uIbP369VmWZdnu3buzXr16ZS+++GJum//4j//IIiKrqakp1Jhd2p49e7JPfepT2dq1a7PLL788u+uuu7Is617HwhmVAmtsbIw5c+bE888/H3379j3s8ZqamrjsssuiuLg4tzZjxozYunVr7Nq1qzNH7Zaamppi8ODBufuOR/61tbVFbW1tTJs2LbfWo0ePmDZtWtTU1BRwsu6nqakpIiL330BtbW3s37+/w7EZO3ZsjB492rHJk6qqqrjqqqs6/J1HdK9jIVQKKMuymDVrVtxxxx0xceLEI27T0NAQI0aM6LB26H5DQ0PeZ+zOtm3bFkuWLInbb789t+Z45N+HH34YBw8ePOLfs7/jztPe3h7z58+Pz33uczFu3LiI+M2/8eLi4hg4cGCHbR2b/Fi1alW8/fbbUV1dfdhj3elYCJU8WLhwYRQVFR3ztmXLlliyZEns2bMnFi1aVOiRu7QTPR6/7YMPPogrr7wyvvjFL8acOXMKNDkUTlVVVWzevDlWrVpV6FG6pbq6urjrrrti5cqV0bt370KPU1A9Cz1AV3TPPffErFmzjrnNOeecE6+99lrU1NQc9oulJk6cGDfddFM899xzUV5efthV3Iful5eXn9K5u6oTPR6H1NfXx9SpU+OSSy457CJZxyP/hg4dGmecccYR/579HXeOefPmxQ9+8IN44403YtSoUbn18vLyaGtri927d3f4P3nH5tSrra2NHTt2xGc/+9nc2sGDB+ONN96IpUuXxo9+9KPucywKfZFMd/bf//3f2aZNm3K3H/3oR1lEZGvWrMnq6uqyLPv/F2+2tbXlnrdo0SIXb+bJ+++/n33qU5/KbrjhhuzAgQOHPe54dI5JkyZl8+bNy90/ePBgduaZZ7qYNs/a29uzqqqqbOTIkdkvfvGLwx4/dAHnmjVrcmtbtmzpkhdwFlpzc3OHnw+bNm3KJk6cmN18883Zpk2butWxECoJee+99w5718/u3buzESNGZF/5yleyzZs3Z6tWrcr69u2bLVu2rHCDdlHvv/9+dt5552VXXHFF9v7772e/+tWvcrdDHI/OsWrVqqykpCT7+7//++znP/95dtttt2UDBw7MGhoaCj1alzZ37tysrKwse/311zv8+//oo49y29xxxx3Z6NGjs9deey176623ssrKyqyysrKAU3cfv/2unyzrPsdCqCTkSKGSZVn2s5/9LPv93//9rKSkJDvzzDOzhx56qDADdnErVqzIIuKIt9/meHSOJUuWZKNHj86Ki4uzSZMmZRs2bCj0SF3e0f79r1ixIrfNr3/96+xP//RPs0GDBmV9+/bN/viP/7hDzJM//zdUusuxKMqyLOv015sAAE6Ad/0AAMkSKgBAsoQKAJAsoQIAJEuoAADJEioAQLKECgCQLKECACRLqAAAyRIqAECyhAoAkKz/B8kkAfQUOTneAAAAAElFTkSuQmCC\n"
                },
                "metadata": {}
              }
            ]
          }
        },
        "6ccdf48711f94617862ca48663dd15c9": {
          "model_module": "@jupyter-widgets/base",
          "model_name": "LayoutModel",
          "model_module_version": "1.2.0",
          "state": {
            "_model_module": "@jupyter-widgets/base",
            "_model_module_version": "1.2.0",
            "_model_name": "LayoutModel",
            "_view_count": null,
            "_view_module": "@jupyter-widgets/base",
            "_view_module_version": "1.2.0",
            "_view_name": "LayoutView",
            "align_content": null,
            "align_items": null,
            "align_self": null,
            "border": null,
            "bottom": null,
            "display": null,
            "flex": null,
            "flex_flow": null,
            "grid_area": null,
            "grid_auto_columns": null,
            "grid_auto_flow": null,
            "grid_auto_rows": null,
            "grid_column": null,
            "grid_gap": null,
            "grid_row": null,
            "grid_template_areas": null,
            "grid_template_columns": null,
            "grid_template_rows": null,
            "height": null,
            "justify_content": null,
            "justify_items": null,
            "left": null,
            "margin": null,
            "max_height": null,
            "max_width": null,
            "min_height": null,
            "min_width": null,
            "object_fit": null,
            "object_position": null,
            "order": null,
            "overflow": null,
            "overflow_x": null,
            "overflow_y": null,
            "padding": null,
            "right": null,
            "top": null,
            "visibility": null,
            "width": null
          }
        },
        "0ec94d5f64254f458db14dc94ad9e68e": {
          "model_module": "@jupyter-widgets/base",
          "model_name": "LayoutModel",
          "model_module_version": "1.2.0",
          "state": {
            "_model_module": "@jupyter-widgets/base",
            "_model_module_version": "1.2.0",
            "_model_name": "LayoutModel",
            "_view_count": null,
            "_view_module": "@jupyter-widgets/base",
            "_view_module_version": "1.2.0",
            "_view_name": "LayoutView",
            "align_content": null,
            "align_items": null,
            "align_self": null,
            "border": null,
            "bottom": null,
            "display": null,
            "flex": null,
            "flex_flow": null,
            "grid_area": null,
            "grid_auto_columns": null,
            "grid_auto_flow": null,
            "grid_auto_rows": null,
            "grid_column": null,
            "grid_gap": null,
            "grid_row": null,
            "grid_template_areas": null,
            "grid_template_columns": null,
            "grid_template_rows": null,
            "height": null,
            "justify_content": null,
            "justify_items": null,
            "left": null,
            "margin": null,
            "max_height": null,
            "max_width": null,
            "min_height": null,
            "min_width": null,
            "object_fit": null,
            "object_position": null,
            "order": null,
            "overflow": null,
            "overflow_x": null,
            "overflow_y": null,
            "padding": null,
            "right": null,
            "top": null,
            "visibility": null,
            "width": null
          }
        },
        "436027967447443cabea4c2c17c161c2": {
          "model_module": "@jupyter-widgets/controls",
          "model_name": "SliderStyleModel",
          "model_module_version": "1.5.0",
          "state": {
            "_model_module": "@jupyter-widgets/controls",
            "_model_module_version": "1.5.0",
            "_model_name": "SliderStyleModel",
            "_view_count": null,
            "_view_module": "@jupyter-widgets/base",
            "_view_module_version": "1.2.0",
            "_view_name": "StyleView",
            "description_width": "",
            "handle_color": null
          }
        },
        "84c238c8d0b0402fb40d0cfd2a88253e": {
          "model_module": "@jupyter-widgets/base",
          "model_name": "LayoutModel",
          "model_module_version": "1.2.0",
          "state": {
            "_model_module": "@jupyter-widgets/base",
            "_model_module_version": "1.2.0",
            "_model_name": "LayoutModel",
            "_view_count": null,
            "_view_module": "@jupyter-widgets/base",
            "_view_module_version": "1.2.0",
            "_view_name": "LayoutView",
            "align_content": null,
            "align_items": null,
            "align_self": null,
            "border": null,
            "bottom": null,
            "display": null,
            "flex": null,
            "flex_flow": null,
            "grid_area": null,
            "grid_auto_columns": null,
            "grid_auto_flow": null,
            "grid_auto_rows": null,
            "grid_column": null,
            "grid_gap": null,
            "grid_row": null,
            "grid_template_areas": null,
            "grid_template_columns": null,
            "grid_template_rows": null,
            "height": null,
            "justify_content": null,
            "justify_items": null,
            "left": null,
            "margin": null,
            "max_height": null,
            "max_width": null,
            "min_height": null,
            "min_width": null,
            "object_fit": null,
            "object_position": null,
            "order": null,
            "overflow": null,
            "overflow_x": null,
            "overflow_y": null,
            "padding": null,
            "right": null,
            "top": null,
            "visibility": null,
            "width": null
          }
        },
        "782e398b875a4d5da28d6ec08054e8ee": {
          "model_module": "@jupyter-widgets/controls",
          "model_name": "SliderStyleModel",
          "model_module_version": "1.5.0",
          "state": {
            "_model_module": "@jupyter-widgets/controls",
            "_model_module_version": "1.5.0",
            "_model_name": "SliderStyleModel",
            "_view_count": null,
            "_view_module": "@jupyter-widgets/base",
            "_view_module_version": "1.2.0",
            "_view_name": "StyleView",
            "description_width": "",
            "handle_color": null
          }
        },
        "04c4c2ab34244e6fbd90846536a92fd7": {
          "model_module": "@jupyter-widgets/base",
          "model_name": "LayoutModel",
          "model_module_version": "1.2.0",
          "state": {
            "_model_module": "@jupyter-widgets/base",
            "_model_module_version": "1.2.0",
            "_model_name": "LayoutModel",
            "_view_count": null,
            "_view_module": "@jupyter-widgets/base",
            "_view_module_version": "1.2.0",
            "_view_name": "LayoutView",
            "align_content": null,
            "align_items": null,
            "align_self": null,
            "border": null,
            "bottom": null,
            "display": null,
            "flex": null,
            "flex_flow": null,
            "grid_area": null,
            "grid_auto_columns": null,
            "grid_auto_flow": null,
            "grid_auto_rows": null,
            "grid_column": null,
            "grid_gap": null,
            "grid_row": null,
            "grid_template_areas": null,
            "grid_template_columns": null,
            "grid_template_rows": null,
            "height": null,
            "justify_content": null,
            "justify_items": null,
            "left": null,
            "margin": null,
            "max_height": null,
            "max_width": null,
            "min_height": null,
            "min_width": null,
            "object_fit": null,
            "object_position": null,
            "order": null,
            "overflow": null,
            "overflow_x": null,
            "overflow_y": null,
            "padding": null,
            "right": null,
            "top": null,
            "visibility": null,
            "width": null
          }
        },
        "2d7a9ebb8c8f4c1c99599b2744d42203": {
          "model_module": "@jupyter-widgets/controls",
          "model_name": "SliderStyleModel",
          "model_module_version": "1.5.0",
          "state": {
            "_model_module": "@jupyter-widgets/controls",
            "_model_module_version": "1.5.0",
            "_model_name": "SliderStyleModel",
            "_view_count": null,
            "_view_module": "@jupyter-widgets/base",
            "_view_module_version": "1.2.0",
            "_view_name": "StyleView",
            "description_width": "",
            "handle_color": null
          }
        },
        "3c794df320334bbb875d417b54e09b60": {
          "model_module": "@jupyter-widgets/base",
          "model_name": "LayoutModel",
          "model_module_version": "1.2.0",
          "state": {
            "_model_module": "@jupyter-widgets/base",
            "_model_module_version": "1.2.0",
            "_model_name": "LayoutModel",
            "_view_count": null,
            "_view_module": "@jupyter-widgets/base",
            "_view_module_version": "1.2.0",
            "_view_name": "LayoutView",
            "align_content": null,
            "align_items": null,
            "align_self": null,
            "border": null,
            "bottom": null,
            "display": null,
            "flex": null,
            "flex_flow": null,
            "grid_area": null,
            "grid_auto_columns": null,
            "grid_auto_flow": null,
            "grid_auto_rows": null,
            "grid_column": null,
            "grid_gap": null,
            "grid_row": null,
            "grid_template_areas": null,
            "grid_template_columns": null,
            "grid_template_rows": null,
            "height": null,
            "justify_content": null,
            "justify_items": null,
            "left": null,
            "margin": null,
            "max_height": null,
            "max_width": null,
            "min_height": null,
            "min_width": null,
            "object_fit": null,
            "object_position": null,
            "order": null,
            "overflow": null,
            "overflow_x": null,
            "overflow_y": null,
            "padding": null,
            "right": null,
            "top": null,
            "visibility": null,
            "width": null
          }
        }
      }
    }
  },
  "cells": [
    {
      "cell_type": "markdown",
      "metadata": {
        "id": "view-in-github",
        "colab_type": "text"
      },
      "source": [
        "<a href=\"https://colab.research.google.com/github/Fisissist/Learning-College-Algebra-with-Python/blob/main/Algebra04.ipynb\" target=\"_parent\"><img src=\"https://colab.research.google.com/assets/colab-badge.svg\" alt=\"Open In Colab\"/></a>"
      ]
    },
    {
      "cell_type": "markdown",
      "source": [
        "# Shading and Graphing Inequalities"
      ],
      "metadata": {
        "id": "nOPdDMB7wZLV"
      }
    },
    {
      "cell_type": "code",
      "source": [
        "import matplotlib.pyplot as plt\n",
        "import numpy as np\n",
        "\n",
        "xmin = -10\n",
        "xmax = 10\n",
        "ymin = -10\n",
        "ymax = 10\n",
        "points = 2*(xmax-xmin)\n",
        "x = np.linspace(xmin,xmax,points)\n",
        "\n",
        "fig, ax = plt.subplots()\n",
        "plt.axis([xmin,xmax,ymin,ymax])\n",
        "\n",
        "# line 1\n",
        "y1 = x+6\n",
        "plt.plot(x, y1,'ko')\n",
        "plt.fill_between(x, y1, ymax, facecolor='red')\n",
        "# line 2\n",
        "y2 = x+3\n",
        "plt.plot(x, y2,'ks')\n",
        "plt.fill_between(x, y2, y1, facecolor='yellow')\n",
        "\n",
        "# line 3\n",
        "y3 = x-1\n",
        "plt.plot(x, y3,'k^')\n",
        "plt.fill_between(x, y3, y2, facecolor='green')\n",
        "\n",
        "# line 4\n",
        "y4 = x-4\n",
        "plt.plot(x, y4,'k')\n",
        "plt.fill_between(x, y4, y3, facecolor='blue')\n",
        "\n",
        "plt.plot([xmin,xmax],[0,0],'k')\n",
        "plt.plot([0,0],[ymin,ymax],'k')\n",
        "\n",
        "plt.show()"
      ],
      "metadata": {
        "colab": {
          "base_uri": "https://localhost:8080/",
          "height": 435
        },
        "id": "AiKvHTbPwY6m",
        "outputId": "0dd2f2a8-960f-4352-8414-1e5159de518a"
      },
      "execution_count": 15,
      "outputs": [
        {
          "output_type": "display_data",
          "data": {
            "text/plain": [
              "<Figure size 640x480 with 1 Axes>"
            ],
            "image/png": "[encoded data removed]"
          },
          "metadata": {}
        }
      ]
    },
    {
      "cell_type": "markdown",
      "source": [
        "#Interactive"
      ],
      "metadata": {
        "id": "9TN82So_yXrS"
      }
    },
    {
      "cell_type": "code",
      "source": [
        "%matplotlib inline\n",
        "from ipywidgets import interactive\n",
        "import matplotlib.pyplot as plt\n",
        "import numpy as np\n",
        "\n",
        "# Define the graphing function\n",
        "def f(m, b, zoom):\n",
        "    xmin = -zoom\n",
        "    xmax = zoom\n",
        "    ymin = -zoom\n",
        "    ymax = zoom\n",
        "    points = 10*xmax-xmin\n",
        "    x = np.linspace(xmin, xmax, points)\n",
        "\n",
        "    plt.axis([xmin,xmax,ymin,ymax]) # window size\n",
        "    plt.plot([xmin,xmax],[0,0],'k') # black x axis\n",
        "    plt.plot([0,0],[ymin,ymax],'k') # black y axis\n",
        "    plt.title('y = mx + b')\n",
        "    plt.plot(x, m*x + b)\n",
        "    plt.show()\n",
        "\n",
        "# Set up the sliders\n",
        "interactive_plot = interactive(f, m=(-9, 9), b=(-9, 9), zoom=(1,100))\n",
        "interactive_plot\n"
      ],
      "metadata": {
        "colab": {
          "base_uri": "https://localhost:8080/",
          "height": 548,
          "referenced_widgets": [
            "3c15e80f669b4e2ba3485ac373023a6f",
            "d79eaa18fe3f4bd88aee58adf34f1916",
            "d01e2eae15474892b4b014e11f4eb5cb",
            "470158ff8fe344bab731c8f23a53060a",
            "ad8517c5f0c4403b8b5ecfa9f9a7c535",
            "6ccdf48711f94617862ca48663dd15c9",
            "0ec94d5f64254f458db14dc94ad9e68e",
            "436027967447443cabea4c2c17c161c2",
            "84c238c8d0b0402fb40d0cfd2a88253e",
            "782e398b875a4d5da28d6ec08054e8ee",
            "04c4c2ab34244e6fbd90846536a92fd7",
            "2d7a9ebb8c8f4c1c99599b2744d42203",
            "3c794df320334bbb875d417b54e09b60"
          ]
        },
        "id": "O2WR17pmx4qf",
        "outputId": "d31a150c-8bec-4a5d-c598-b6ab17f1489f"
      },
      "execution_count": 27,
      "outputs": [
        {
          "output_type": "display_data",
          "data": {
            "text/plain": [
              "interactive(children=(IntSlider(value=0, description='m', max=9, min=-9), IntSlider(value=0, description='b', …"
            ],
            "application/vnd.jupyter.widget-view+json": {
              "version_major": 2,
              "version_minor": 0,
              "model_id": "3c15e80f669b4e2ba3485ac373023a6f"
            }
          },
          "metadata": {}
        }
      ]
    },
    {
      "cell_type": "markdown",
      "source": [
        "# Graphing Weather Data"
      ],
      "metadata": {
        "id": "sd4zZu87DddB"
      }
    },
    {
      "cell_type": "code",
      "source": [
        "!pip install meteostat"
      ],
      "metadata": {
        "colab": {
          "base_uri": "https://localhost:8080/"
        },
        "id": "WWdiKf0ADlWV",
        "outputId": "7b569bb9-ad96-4d17-9e8a-9329fde23201"
      },
      "execution_count": 28,
      "outputs": [
        {
          "output_type": "stream",
          "name": "stdout",
          "text": [
            "Collecting meteostat\n",
            "  Downloading meteostat-1.6.8-py3-none-any.whl.metadata (4.6 kB)\n",
            "Requirement already satisfied: pandas>=1.1 in /usr/local/lib/python3.10/dist-packages (from meteostat) (2.2.2)\n",
            "Requirement already satisfied: pytz in /usr/local/lib/python3.10/dist-packages (from meteostat) (2024.2)\n",
            "Requirement already satisfied: numpy in /usr/local/lib/python3.10/dist-packages (from meteostat) (1.26.4)\n",
            "Requirement already satisfied: python-dateutil>=2.8.2 in /usr/local/lib/python3.10/dist-packages (from pandas>=1.1->meteostat) (2.8.2)\n",
            "Requirement already satisfied: tzdata>=2022.7 in /usr/local/lib/python3.10/dist-packages (from pandas>=1.1->meteostat) (2024.2)\n",
            "Requirement already satisfied: six>=1.5 in /usr/local/lib/python3.10/dist-packages (from python-dateutil>=2.8.2->pandas>=1.1->meteostat) (1.16.0)\n",
            "Downloading meteostat-1.6.8-py3-none-any.whl (31 kB)\n",
            "Installing collected packages: meteostat\n",
            "Successfully installed meteostat-1.6.8\n"
          ]
        }
      ]
    },
    {
      "cell_type": "markdown",
      "source": [
        "Columns:\n",
        "time, tavg, tmin, tmax, prcp, snow, wdir, wspd, wpgt, pres, tsun"
      ],
      "metadata": {
        "id": "hD2mZXrbDtDA"
      }
    },
    {
      "cell_type": "code",
      "source": [
        "# Import Meteostat library and dependencies\n",
        "from datetime import datetime\n",
        "import matplotlib.pyplot as plt\n",
        "from meteostat import Point, Daily\n",
        "\n",
        "# Documentation\n",
        "# https://dev.meteostat.net/python/daily.html#data-structure\n",
        "\n",
        "# Set time period\n",
        "start = datetime(2022, 1, 1)\n",
        "end = datetime(2022, 7, 31)\n",
        "\n",
        "#vancouver = Point(49.2497, -123.1193, 70)\n",
        "#philly = Point(39.97,-75.13,25)\n",
        "\n",
        "Htown = Point(7589,-95.3677)\n",
        "\n",
        "# Get daily data for 2018\n",
        "data = Daily(Htown, start, end)\n",
        "data = data.fetch()\n",
        "\n",
        "# Plot line chart including average, minimum and maximum temperature\n",
        "data.plot(y=['tavg', 'prcp'])\n",
        "plt.show()"
      ],
      "metadata": {
        "colab": {
          "base_uri": "https://localhost:8080/",
          "height": 466
        },
        "id": "kmG1ZzifDtuw",
        "outputId": "8cd153f2-8f1e-424f-89f1-dffd20a839de"
      },
      "execution_count": 33,
      "outputs": [
        {
          "output_type": "display_data",
          "data": {
            "text/plain": [
              "<Figure size 640x480 with 1 Axes>"
            ],
            "image/png": "[encoded data removed]"
          },
          "metadata": {}
        }
      ]
    }
  ]
}